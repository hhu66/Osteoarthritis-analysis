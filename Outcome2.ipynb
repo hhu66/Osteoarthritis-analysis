{
 "cells": [
  {
   "cell_type": "code",
   "execution_count": 23,
   "id": "c1a3966e",
   "metadata": {},
   "outputs": [],
   "source": [
    "import pandas as pd\n",
    "import warnings\n",
    "warnings.filterwarnings('ignore')\n",
    "\n",
    "import matplotlib.pyplot as plt\n",
    "import seaborn as sns"
   ]
  },
  {
   "cell_type": "code",
   "execution_count": 24,
   "id": "966123a8",
   "metadata": {},
   "outputs": [],
   "source": [
    "OA_patients = pd.read_csv(\"OA_patient.csv\")"
   ]
  },
  {
   "cell_type": "code",
   "execution_count": 25,
   "id": "f0757a29",
   "metadata": {},
   "outputs": [
    {
     "name": "stdout",
     "output_type": "stream",
     "text": [
      "<class 'pandas.core.frame.DataFrame'>\n",
      "RangeIndex: 711 entries, 0 to 710\n",
      "Data columns (total 14 columns):\n",
      " #   Column                              Non-Null Count  Dtype  \n",
      "---  ------                              --------------  -----  \n",
      " 0   Unnamed: 0                          711 non-null    int64  \n",
      " 1   SEQN                                711 non-null    int64  \n",
      " 2   Doctor ever said you had arthritis  711 non-null    int64  \n",
      " 3   Age when told you had arthritis     700 non-null    float64\n",
      " 4   Which type of arthritis was it?     711 non-null    float64\n",
      " 5   Gender                              711 non-null    int64  \n",
      " 6   Age in years at screening           711 non-null    int64  \n",
      " 7   Race/Hispanic origin w/ NH Asian    711 non-null    int64  \n",
      " 8   Education level - Adults 20+        711 non-null    int64  \n",
      " 9   Ratio of family income to poverty   614 non-null    float64\n",
      " 10  Body Mass Index (kg/m**2)           649 non-null    float64\n",
      " 11  Waist Circumference (cm)            614 non-null    float64\n",
      " 12  Vitamin D Level (nmol/L)            642 non-null    float64\n",
      " 13  HS C-Reactive Protein (mg/L)        636 non-null    float64\n",
      "dtypes: float64(7), int64(7)\n",
      "memory usage: 77.9 KB\n"
     ]
    }
   ],
   "source": [
    "OA_patients.info()"
   ]
  },
  {
   "cell_type": "markdown",
   "id": "510bbe9c",
   "metadata": {},
   "source": [
    "# Eliminate observation with Age < 20"
   ]
  },
  {
   "cell_type": "code",
   "execution_count": 26,
   "id": "57a55394",
   "metadata": {},
   "outputs": [],
   "source": [
    "OA_patients = OA_patients[(OA_patients['Age when told you had arthritis'] >= 20 )]"
   ]
  },
  {
   "cell_type": "code",
   "execution_count": 27,
   "id": "58e60998",
   "metadata": {},
   "outputs": [
    {
     "name": "stdout",
     "output_type": "stream",
     "text": [
      "<class 'pandas.core.frame.DataFrame'>\n",
      "Index: 682 entries, 0 to 710\n",
      "Data columns (total 14 columns):\n",
      " #   Column                              Non-Null Count  Dtype  \n",
      "---  ------                              --------------  -----  \n",
      " 0   Unnamed: 0                          682 non-null    int64  \n",
      " 1   SEQN                                682 non-null    int64  \n",
      " 2   Doctor ever said you had arthritis  682 non-null    int64  \n",
      " 3   Age when told you had arthritis     682 non-null    float64\n",
      " 4   Which type of arthritis was it?     682 non-null    float64\n",
      " 5   Gender                              682 non-null    int64  \n",
      " 6   Age in years at screening           682 non-null    int64  \n",
      " 7   Race/Hispanic origin w/ NH Asian    682 non-null    int64  \n",
      " 8   Education level - Adults 20+        682 non-null    int64  \n",
      " 9   Ratio of family income to poverty   592 non-null    float64\n",
      " 10  Body Mass Index (kg/m**2)           622 non-null    float64\n",
      " 11  Waist Circumference (cm)            589 non-null    float64\n",
      " 12  Vitamin D Level (nmol/L)            617 non-null    float64\n",
      " 13  HS C-Reactive Protein (mg/L)        611 non-null    float64\n",
      "dtypes: float64(7), int64(7)\n",
      "memory usage: 79.9 KB\n"
     ]
    }
   ],
   "source": [
    "OA_patients.info()"
   ]
  },
  {
   "cell_type": "code",
   "execution_count": 28,
   "id": "80c6b88b",
   "metadata": {},
   "outputs": [],
   "source": [
    "OA_patients = OA_patients[(OA_patients['Age in years at screening'] >= 20 )]"
   ]
  },
  {
   "cell_type": "code",
   "execution_count": 29,
   "id": "0abbb302",
   "metadata": {},
   "outputs": [
    {
     "name": "stdout",
     "output_type": "stream",
     "text": [
      "<class 'pandas.core.frame.DataFrame'>\n",
      "Index: 682 entries, 0 to 710\n",
      "Data columns (total 14 columns):\n",
      " #   Column                              Non-Null Count  Dtype  \n",
      "---  ------                              --------------  -----  \n",
      " 0   Unnamed: 0                          682 non-null    int64  \n",
      " 1   SEQN                                682 non-null    int64  \n",
      " 2   Doctor ever said you had arthritis  682 non-null    int64  \n",
      " 3   Age when told you had arthritis     682 non-null    float64\n",
      " 4   Which type of arthritis was it?     682 non-null    float64\n",
      " 5   Gender                              682 non-null    int64  \n",
      " 6   Age in years at screening           682 non-null    int64  \n",
      " 7   Race/Hispanic origin w/ NH Asian    682 non-null    int64  \n",
      " 8   Education level - Adults 20+        682 non-null    int64  \n",
      " 9   Ratio of family income to poverty   592 non-null    float64\n",
      " 10  Body Mass Index (kg/m**2)           622 non-null    float64\n",
      " 11  Waist Circumference (cm)            589 non-null    float64\n",
      " 12  Vitamin D Level (nmol/L)            617 non-null    float64\n",
      " 13  HS C-Reactive Protein (mg/L)        611 non-null    float64\n",
      "dtypes: float64(7), int64(7)\n",
      "memory usage: 79.9 KB\n"
     ]
    }
   ],
   "source": [
    "OA_patients.info()"
   ]
  },
  {
   "cell_type": "markdown",
   "id": "7e6b453a",
   "metadata": {},
   "source": [
    "# Descriptive statistics of Age"
   ]
  },
  {
   "cell_type": "code",
   "execution_count": 30,
   "id": "c4aec558",
   "metadata": {},
   "outputs": [
    {
     "data": {
      "text/plain": [
       "count    682.000000\n",
       "mean      51.151026\n",
       "std       14.157777\n",
       "min       20.000000\n",
       "25%       40.000000\n",
       "50%       50.500000\n",
       "75%       60.000000\n",
       "max       80.000000\n",
       "Name: Age when told you had arthritis, dtype: float64"
      ]
     },
     "execution_count": 30,
     "metadata": {},
     "output_type": "execute_result"
    }
   ],
   "source": [
    "OA_patients['Age when told you had arthritis'].describe()"
   ]
  },
  {
   "cell_type": "code",
   "execution_count": 31,
   "id": "37783fcd",
   "metadata": {},
   "outputs": [
    {
     "data": {
      "text/plain": [
       "count    682.000000\n",
       "mean      64.664223\n",
       "std       12.607838\n",
       "min       23.000000\n",
       "25%       56.000000\n",
       "50%       66.000000\n",
       "75%       76.000000\n",
       "max       80.000000\n",
       "Name: Age in years at screening, dtype: float64"
      ]
     },
     "execution_count": 31,
     "metadata": {},
     "output_type": "execute_result"
    }
   ],
   "source": [
    "OA_patients['Age in years at screening'].describe()"
   ]
  },
  {
   "cell_type": "code",
   "execution_count": 32,
   "id": "a595d70b",
   "metadata": {
    "scrolled": false
   },
   "outputs": [
    {
     "data": {
      "image/png": "[encoded data removed]",
      "text/plain": [
       "<Figure size 800x600 with 1 Axes>"
      ]
     },
     "metadata": {},
     "output_type": "display_data"
    }
   ],
   "source": [
    "plt.figure(figsize=(8, 6))\n",
    "sns.boxplot(data=OA_patients[['Age when told you had arthritis', 'Age in years at screening']])\n",
    "plt.title('Comparison of Age at Diagnosis and Age at Screening')\n",
    "plt.ylabel('Age')\n",
    "plt.show()"
   ]
  },
  {
   "cell_type": "markdown",
   "id": "2c70ae1e",
   "metadata": {},
   "source": [
    "# Early onset of OA: cutoff value = 50"
   ]
  },
  {
   "cell_type": "code",
   "execution_count": 33,
   "id": "fa2d4381",
   "metadata": {},
   "outputs": [],
   "source": [
    "def dichotomous_OA_age(i):\n",
    "    if i < 50:\n",
    "        return \"1\"\n",
    "    else: \n",
    "        return \"0\"\n",
    "    \n",
    "OA_patients['Early Onset of OA'] = OA_patients['Age when told you had arthritis'].apply(dichotomous_OA_age)"
   ]
  },
  {
   "cell_type": "code",
   "execution_count": 34,
   "id": "e25c053d",
   "metadata": {
    "scrolled": true
   },
   "outputs": [
    {
     "data": {
      "text/plain": [
       "Early Onset of OA\n",
       "0    405\n",
       "1    277\n",
       "Name: count, dtype: int64"
      ]
     },
     "execution_count": 34,
     "metadata": {},
     "output_type": "execute_result"
    }
   ],
   "source": [
    "OA_patients['Early Onset of OA'].value_counts()"
   ]
  },
  {
   "cell_type": "code",
   "execution_count": 35,
   "id": "f9c7947c",
   "metadata": {},
   "outputs": [
    {
     "name": "stdout",
     "output_type": "stream",
     "text": [
      "<class 'pandas.core.frame.DataFrame'>\n",
      "Index: 682 entries, 0 to 710\n",
      "Data columns (total 15 columns):\n",
      " #   Column                              Non-Null Count  Dtype  \n",
      "---  ------                              --------------  -----  \n",
      " 0   Unnamed: 0                          682 non-null    int64  \n",
      " 1   SEQN                                682 non-null    int64  \n",
      " 2   Doctor ever said you had arthritis  682 non-null    int64  \n",
      " 3   Age when told you had arthritis     682 non-null    float64\n",
      " 4   Which type of arthritis was it?     682 non-null    float64\n",
      " 5   Gender                              682 non-null    int64  \n",
      " 6   Age in years at screening           682 non-null    int64  \n",
      " 7   Race/Hispanic origin w/ NH Asian    682 non-null    int64  \n",
      " 8   Education level - Adults 20+        682 non-null    int64  \n",
      " 9   Ratio of family income to poverty   592 non-null    float64\n",
      " 10  Body Mass Index (kg/m**2)           622 non-null    float64\n",
      " 11  Waist Circumference (cm)            589 non-null    float64\n",
      " 12  Vitamin D Level (nmol/L)            617 non-null    float64\n",
      " 13  HS C-Reactive Protein (mg/L)        611 non-null    float64\n",
      " 14  Early Onset of OA                   682 non-null    object \n",
      "dtypes: float64(7), int64(7), object(1)\n",
      "memory usage: 85.2+ KB\n"
     ]
    }
   ],
   "source": [
    "OA_patients.info()"
   ]
  },
  {
   "cell_type": "markdown",
   "id": "e51bf35d",
   "metadata": {},
   "source": [
    "# Drop observations with NA value"
   ]
  },
  {
   "cell_type": "code",
   "execution_count": 36,
   "id": "82095ce3",
   "metadata": {},
   "outputs": [],
   "source": [
    "OA_patients.drop(columns = {'Unnamed: 0'},inplace=True)"
   ]
  },
  {
   "cell_type": "code",
   "execution_count": 37,
   "id": "04f6c0c8",
   "metadata": {},
   "outputs": [],
   "source": [
    "OA_patients.dropna(inplace=True)"
   ]
  },
  {
   "cell_type": "code",
   "execution_count": 38,
   "id": "bff4dc36",
   "metadata": {},
   "outputs": [
    {
     "name": "stdout",
     "output_type": "stream",
     "text": [
      "<class 'pandas.core.frame.DataFrame'>\n",
      "Index: 502 entries, 0 to 710\n",
      "Data columns (total 14 columns):\n",
      " #   Column                              Non-Null Count  Dtype  \n",
      "---  ------                              --------------  -----  \n",
      " 0   SEQN                                502 non-null    int64  \n",
      " 1   Doctor ever said you had arthritis  502 non-null    int64  \n",
      " 2   Age when told you had arthritis     502 non-null    float64\n",
      " 3   Which type of arthritis was it?     502 non-null    float64\n",
      " 4   Gender                              502 non-null    int64  \n",
      " 5   Age in years at screening           502 non-null    int64  \n",
      " 6   Race/Hispanic origin w/ NH Asian    502 non-null    int64  \n",
      " 7   Education level - Adults 20+        502 non-null    int64  \n",
      " 8   Ratio of family income to poverty   502 non-null    float64\n",
      " 9   Body Mass Index (kg/m**2)           502 non-null    float64\n",
      " 10  Waist Circumference (cm)            502 non-null    float64\n",
      " 11  Vitamin D Level (nmol/L)            502 non-null    float64\n",
      " 12  HS C-Reactive Protein (mg/L)        502 non-null    float64\n",
      " 13  Early Onset of OA                   502 non-null    object \n",
      "dtypes: float64(7), int64(6), object(1)\n",
      "memory usage: 58.8+ KB\n"
     ]
    }
   ],
   "source": [
    "OA_patients.info()"
   ]
  },
  {
   "cell_type": "markdown",
   "id": "8083053a",
   "metadata": {},
   "source": [
    "# Polychotomous variables"
   ]
  },
  {
   "cell_type": "code",
   "execution_count": 39,
   "id": "4a2ad052",
   "metadata": {},
   "outputs": [],
   "source": [
    "#Ratio of family income to povery\n",
    "def dichotomous_poverty_ratio(i):\n",
    "    if i < 1:\n",
    "        return '1' #\"Poor\" \n",
    "    elif 1 <= i < 2:\n",
    "        return '2' #\"Near Poor\"\n",
    "    elif 2 <= i < 3:\n",
    "        return '3' #\"Middle income\"\n",
    "    else:\n",
    "        return '4' #\"High income\"\n",
    "    \n",
    "OA_patients['Poverty Level'] = OA_patients['Ratio of family income to poverty'].apply(dichotomous_poverty_ratio)"
   ]
  },
  {
   "cell_type": "code",
   "execution_count": 40,
   "id": "484bbff9",
   "metadata": {},
   "outputs": [],
   "source": [
    "#VitaminD\n",
    "def polychotomous_VitaminD(i):\n",
    "    if i < 25:\n",
    "        return '1' #\"Severe Deficiency\"\n",
    "    elif 25 <= i < 50:\n",
    "        return '2' #\"Moderate Deficiency\"\n",
    "    elif 50 <= i < 75:\n",
    "        return '3' #\"Insufficient\"\n",
    "    else: \n",
    "        return '4' #\"Sufficient\"\n",
    "    \n",
    "OA_patients['VitaminD Level'] = OA_patients['Vitamin D Level (nmol/L)'].apply(polychotomous_VitaminD)"
   ]
  },
  {
   "cell_type": "code",
   "execution_count": 41,
   "id": "7175a8a7",
   "metadata": {},
   "outputs": [],
   "source": [
    "#CRP\n",
    "def polychotomous_CRP(i):\n",
    "    if i < 3:\n",
    "        return '1' #\"Normal\"\n",
    "    elif 3 <= i < 10:\n",
    "        return '2' #\"Normal or minor elevation\"\n",
    "    elif 10 <= i < 100:\n",
    "        return '3' #\"Moderate elevation\"\n",
    "    elif 100 <= i < 500:\n",
    "        return '4' #\"Marked elevation\"\n",
    "    else:\n",
    "        return '5' #\"Severe elevation\"\n",
    "    \n",
    "OA_patients['CRP Level'] = OA_patients['HS C-Reactive Protein (mg/L)'].apply(polychotomous_CRP)"
   ]
  },
  {
   "cell_type": "code",
   "execution_count": 42,
   "id": "33404bd5",
   "metadata": {},
   "outputs": [],
   "source": [
    "#BMI\n",
    "def polychotomous_BMI(i):\n",
    "    if i < 19:\n",
    "        return '1' #\"Underweight\"\n",
    "    elif 19 <= i < 25:\n",
    "        return '2' #\"Healthy\"\n",
    "    elif 25 <= i < 30:\n",
    "        return '3' #\"Overweight\"\n",
    "    elif 30 <= i < 40:\n",
    "        return '4' #\"Obesity\"\n",
    "    else:\n",
    "        return '5' #\"Clase 3 Obesity\"\n",
    "    \n",
    "OA_patients['Weight Level'] = OA_patients['Body Mass Index (kg/m**2)'].apply(polychotomous_BMI)"
   ]
  },
  {
   "cell_type": "code",
   "execution_count": 43,
   "id": "47b96455",
   "metadata": {},
   "outputs": [],
   "source": [
    "Female_waistline = OA_patients[OA_patients['Gender'] == 2]\n",
    "Male_waistline = OA_patients[OA_patients['Gender'] == 1]"
   ]
  },
  {
   "cell_type": "code",
   "execution_count": 44,
   "id": "fd87f121",
   "metadata": {},
   "outputs": [],
   "source": [
    "#Waist \n",
    "def polychotomous_Waist(gender,cm):\n",
    "    if gender ==  1 and cm < 91:\n",
    "        return '1' #\"Small waistline\"\n",
    "    elif gender == 2 and cm < 85:\n",
    "        return '1' #\"Small waistline\"\n",
    "    \n",
    "    elif gender ==  1 and 91 <= cm < 112:\n",
    "        return '2' #\"Normal waistline\"\n",
    "    elif gender ==  2 and 85 <= cm < 109:\n",
    "        return '2' #\"Normal waistline\"\n",
    "    \n",
    "    elif gender ==  1 and cm >= 112:\n",
    "        return '3' #\"Large waistline\"\n",
    "    elif gender == 2 and cm >= 109:\n",
    "        return '3' #\"Large waistline\"\n",
    "    \n",
    "OA_patients['Waistline Level'] = OA_patients.apply(lambda x: polychotomous_Waist(x['Gender'], x['Waist Circumference (cm)']), axis=1)"
   ]
  },
  {
   "cell_type": "markdown",
   "id": "6449c8d0",
   "metadata": {},
   "source": [
    "# TableOne"
   ]
  },
  {
   "cell_type": "code",
   "execution_count": 45,
   "id": "fa812e90",
   "metadata": {},
   "outputs": [],
   "source": [
    "from tableone import TableOne"
   ]
  },
  {
   "cell_type": "code",
   "execution_count": 46,
   "id": "45b06c04",
   "metadata": {},
   "outputs": [
    {
     "data": {
      "text/plain": [
       "Education level - Adults 20+\n",
       "4    188\n",
       "3    128\n",
       "5    114\n",
       "2     52\n",
       "1     20\n",
       "Name: count, dtype: int64"
      ]
     },
     "execution_count": 46,
     "metadata": {},
     "output_type": "execute_result"
    }
   ],
   "source": [
    "OA_patients['Education level - Adults 20+'].value_counts()"
   ]
  },
  {
   "cell_type": "code",
   "execution_count": 47,
   "id": "59445dec",
   "metadata": {},
   "outputs": [
    {
     "data": {
      "text/plain": [
       "Index(['SEQN', 'Doctor ever said you had arthritis',\n",
       "       'Age when told you had arthritis', 'Which type of arthritis was it?',\n",
       "       'Gender', 'Age in years at screening',\n",
       "       'Race/Hispanic origin w/ NH Asian', 'Education level - Adults 20+',\n",
       "       'Ratio of family income to poverty', 'Body Mass Index (kg/m**2)',\n",
       "       'Waist Circumference (cm)', 'Vitamin D Level (nmol/L)',\n",
       "       'HS C-Reactive Protein (mg/L)', 'Early Onset of OA', 'Poverty Level',\n",
       "       'VitaminD Level', 'CRP Level', 'Weight Level', 'Waistline Level'],\n",
       "      dtype='object')"
      ]
     },
     "execution_count": 47,
     "metadata": {},
     "output_type": "execute_result"
    }
   ],
   "source": [
    "OA_patients.columns"
   ]
  },
  {
   "cell_type": "code",
   "execution_count": 48,
   "id": "2b9f7cbe",
   "metadata": {},
   "outputs": [],
   "source": [
    "#order = {\"Poverty Level\": [\"Poor\", \"Near Poor\",\"Middle income\",\"High income\"],\n",
    "         #\"Waistline Level\": [\"Small waistline\", \"Normal waistline\", \"Large waistline\"],\n",
    "         #\"Weight Level\": [\"Underweight\", \"Healthy\", \"Overweight\",\"Obesity\",\"Class 3 Obesity\"],\n",
    "         #\"VitaminD Level\": [\"Severe Deficiency\", \"Moderate Deficiency\", \"Insufficient\",\"Sufficient\"],\n",
    "         #\"CRP Level\":[\"Normal\",\"Normal or minor elevation\",\"Moderate elevation\",\"Marked elevation\",\"Severe elevation\"]}"
   ]
  },
  {
   "cell_type": "code",
   "execution_count": 50,
   "id": "0979aaf2",
   "metadata": {
    "scrolled": false
   },
   "outputs": [
    {
     "data": {
      "text/html": [
       "<div>\n",
       "<style scoped>\n",
       "    .dataframe tbody tr th:only-of-type {\n",
       "        vertical-align: middle;\n",
       "    }\n",
       "\n",
       "    .dataframe tbody tr th {\n",
       "        vertical-align: top;\n",
       "    }\n",
       "\n",
       "    .dataframe thead tr th {\n",
       "        text-align: left;\n",
       "    }\n",
       "</style>\n",
       "<table border=\"1\" class=\"dataframe\">\n",
       "  <thead>\n",
       "    <tr>\n",
       "      <th></th>\n",
       "      <th></th>\n",
       "      <th colspan=\"6\" halign=\"left\">Grouped by Early Onset of OA</th>\n",
       "    </tr>\n",
       "    <tr>\n",
       "      <th></th>\n",
       "      <th></th>\n",
       "      <th>Missing</th>\n",
       "      <th>Overall</th>\n",
       "      <th>0</th>\n",
       "      <th>1</th>\n",
       "      <th>P-Value</th>\n",
       "      <th>Test</th>\n",
       "    </tr>\n",
       "  </thead>\n",
       "  <tbody>\n",
       "    <tr>\n",
       "      <th>n</th>\n",
       "      <th></th>\n",
       "      <td></td>\n",
       "      <td>502</td>\n",
       "      <td>294</td>\n",
       "      <td>208</td>\n",
       "      <td></td>\n",
       "      <td></td>\n",
       "    </tr>\n",
       "    <tr>\n",
       "      <th rowspan=\"2\" valign=\"top\">Gender, n (%)</th>\n",
       "      <th>1</th>\n",
       "      <td>0</td>\n",
       "      <td>182 (36.3)</td>\n",
       "      <td>104 (35.4)</td>\n",
       "      <td>78 (37.5)</td>\n",
       "      <td>0.694</td>\n",
       "      <td>Chi-squared</td>\n",
       "    </tr>\n",
       "    <tr>\n",
       "      <th>2</th>\n",
       "      <td></td>\n",
       "      <td>320 (63.7)</td>\n",
       "      <td>190 (64.6)</td>\n",
       "      <td>130 (62.5)</td>\n",
       "      <td></td>\n",
       "      <td></td>\n",
       "    </tr>\n",
       "    <tr>\n",
       "      <th rowspan=\"6\" valign=\"top\">Race/Hispanic origin w/ NH Asian, n (%)</th>\n",
       "      <th>1</th>\n",
       "      <td>0</td>\n",
       "      <td>38 (7.6)</td>\n",
       "      <td>27 (9.2)</td>\n",
       "      <td>11 (5.3)</td>\n",
       "      <td>0.012</td>\n",
       "      <td>Chi-squared</td>\n",
       "    </tr>\n",
       "    <tr>\n",
       "      <th>2</th>\n",
       "      <td></td>\n",
       "      <td>31 (6.2)</td>\n",
       "      <td>19 (6.5)</td>\n",
       "      <td>12 (5.8)</td>\n",
       "      <td></td>\n",
       "      <td></td>\n",
       "    </tr>\n",
       "    <tr>\n",
       "      <th>3</th>\n",
       "      <td></td>\n",
       "      <td>290 (57.8)</td>\n",
       "      <td>165 (56.1)</td>\n",
       "      <td>125 (60.1)</td>\n",
       "      <td></td>\n",
       "      <td></td>\n",
       "    </tr>\n",
       "    <tr>\n",
       "      <th>4</th>\n",
       "      <td></td>\n",
       "      <td>76 (15.1)</td>\n",
       "      <td>38 (12.9)</td>\n",
       "      <td>38 (18.3)</td>\n",
       "      <td></td>\n",
       "      <td></td>\n",
       "    </tr>\n",
       "    <tr>\n",
       "      <th>6</th>\n",
       "      <td></td>\n",
       "      <td>32 (6.4)</td>\n",
       "      <td>27 (9.2)</td>\n",
       "      <td>5 (2.4)</td>\n",
       "      <td></td>\n",
       "      <td></td>\n",
       "    </tr>\n",
       "    <tr>\n",
       "      <th>7</th>\n",
       "      <td></td>\n",
       "      <td>35 (7.0)</td>\n",
       "      <td>18 (6.1)</td>\n",
       "      <td>17 (8.2)</td>\n",
       "      <td></td>\n",
       "      <td></td>\n",
       "    </tr>\n",
       "    <tr>\n",
       "      <th rowspan=\"5\" valign=\"top\">Education level - Adults 20+, n (%)</th>\n",
       "      <th>1</th>\n",
       "      <td>0</td>\n",
       "      <td>20 (4.0)</td>\n",
       "      <td>13 (4.4)</td>\n",
       "      <td>7 (3.4)</td>\n",
       "      <td>0.738</td>\n",
       "      <td>Chi-squared</td>\n",
       "    </tr>\n",
       "    <tr>\n",
       "      <th>2</th>\n",
       "      <td></td>\n",
       "      <td>52 (10.4)</td>\n",
       "      <td>33 (11.2)</td>\n",
       "      <td>19 (9.1)</td>\n",
       "      <td></td>\n",
       "      <td></td>\n",
       "    </tr>\n",
       "    <tr>\n",
       "      <th>3</th>\n",
       "      <td></td>\n",
       "      <td>128 (25.5)</td>\n",
       "      <td>78 (26.5)</td>\n",
       "      <td>50 (24.0)</td>\n",
       "      <td></td>\n",
       "      <td></td>\n",
       "    </tr>\n",
       "    <tr>\n",
       "      <th>4</th>\n",
       "      <td></td>\n",
       "      <td>188 (37.5)</td>\n",
       "      <td>104 (35.4)</td>\n",
       "      <td>84 (40.4)</td>\n",
       "      <td></td>\n",
       "      <td></td>\n",
       "    </tr>\n",
       "    <tr>\n",
       "      <th>5</th>\n",
       "      <td></td>\n",
       "      <td>114 (22.7)</td>\n",
       "      <td>66 (22.4)</td>\n",
       "      <td>48 (23.1)</td>\n",
       "      <td></td>\n",
       "      <td></td>\n",
       "    </tr>\n",
       "    <tr>\n",
       "      <th rowspan=\"4\" valign=\"top\">Poverty Level, n (%)</th>\n",
       "      <th>1</th>\n",
       "      <td>0</td>\n",
       "      <td>67 (13.3)</td>\n",
       "      <td>27 (9.2)</td>\n",
       "      <td>40 (19.2)</td>\n",
       "      <td>0.008</td>\n",
       "      <td>Chi-squared</td>\n",
       "    </tr>\n",
       "    <tr>\n",
       "      <th>2</th>\n",
       "      <td></td>\n",
       "      <td>156 (31.1)</td>\n",
       "      <td>96 (32.7)</td>\n",
       "      <td>60 (28.8)</td>\n",
       "      <td></td>\n",
       "      <td></td>\n",
       "    </tr>\n",
       "    <tr>\n",
       "      <th>3</th>\n",
       "      <td></td>\n",
       "      <td>78 (15.5)</td>\n",
       "      <td>44 (15.0)</td>\n",
       "      <td>34 (16.3)</td>\n",
       "      <td></td>\n",
       "      <td></td>\n",
       "    </tr>\n",
       "    <tr>\n",
       "      <th>4</th>\n",
       "      <td></td>\n",
       "      <td>201 (40.0)</td>\n",
       "      <td>127 (43.2)</td>\n",
       "      <td>74 (35.6)</td>\n",
       "      <td></td>\n",
       "      <td></td>\n",
       "    </tr>\n",
       "    <tr>\n",
       "      <th rowspan=\"3\" valign=\"top\">Waistline Level, n (%)</th>\n",
       "      <th>1</th>\n",
       "      <td>0</td>\n",
       "      <td>65 (12.9)</td>\n",
       "      <td>41 (13.9)</td>\n",
       "      <td>24 (11.5)</td>\n",
       "      <td>0.007</td>\n",
       "      <td>Chi-squared</td>\n",
       "    </tr>\n",
       "    <tr>\n",
       "      <th>2</th>\n",
       "      <td></td>\n",
       "      <td>255 (50.8)</td>\n",
       "      <td>163 (55.4)</td>\n",
       "      <td>92 (44.2)</td>\n",
       "      <td></td>\n",
       "      <td></td>\n",
       "    </tr>\n",
       "    <tr>\n",
       "      <th>3</th>\n",
       "      <td></td>\n",
       "      <td>182 (36.3)</td>\n",
       "      <td>90 (30.6)</td>\n",
       "      <td>92 (44.2)</td>\n",
       "      <td></td>\n",
       "      <td></td>\n",
       "    </tr>\n",
       "    <tr>\n",
       "      <th rowspan=\"5\" valign=\"top\">Weight Level, n (%)</th>\n",
       "      <th>1</th>\n",
       "      <td>0</td>\n",
       "      <td>6 (1.2)</td>\n",
       "      <td>3 (1.0)</td>\n",
       "      <td>3 (1.4)</td>\n",
       "      <td>0.001</td>\n",
       "      <td>Chi-squared (warning: expected count &lt; 5)</td>\n",
       "    </tr>\n",
       "    <tr>\n",
       "      <th>2</th>\n",
       "      <td></td>\n",
       "      <td>89 (17.7)</td>\n",
       "      <td>63 (21.4)</td>\n",
       "      <td>26 (12.5)</td>\n",
       "      <td></td>\n",
       "      <td></td>\n",
       "    </tr>\n",
       "    <tr>\n",
       "      <th>3</th>\n",
       "      <td></td>\n",
       "      <td>158 (31.5)</td>\n",
       "      <td>103 (35.0)</td>\n",
       "      <td>55 (26.4)</td>\n",
       "      <td></td>\n",
       "      <td></td>\n",
       "    </tr>\n",
       "    <tr>\n",
       "      <th>4</th>\n",
       "      <td></td>\n",
       "      <td>189 (37.6)</td>\n",
       "      <td>101 (34.4)</td>\n",
       "      <td>88 (42.3)</td>\n",
       "      <td></td>\n",
       "      <td></td>\n",
       "    </tr>\n",
       "    <tr>\n",
       "      <th>5</th>\n",
       "      <td></td>\n",
       "      <td>60 (12.0)</td>\n",
       "      <td>24 (8.2)</td>\n",
       "      <td>36 (17.3)</td>\n",
       "      <td></td>\n",
       "      <td></td>\n",
       "    </tr>\n",
       "    <tr>\n",
       "      <th rowspan=\"4\" valign=\"top\">VitaminD Level, n (%)</th>\n",
       "      <th>1</th>\n",
       "      <td>0</td>\n",
       "      <td>7 (1.4)</td>\n",
       "      <td>2 (0.7)</td>\n",
       "      <td>5 (2.4)</td>\n",
       "      <td>0.007</td>\n",
       "      <td>Chi-squared (warning: expected count &lt; 5)</td>\n",
       "    </tr>\n",
       "    <tr>\n",
       "      <th>2</th>\n",
       "      <td></td>\n",
       "      <td>62 (12.4)</td>\n",
       "      <td>34 (11.6)</td>\n",
       "      <td>28 (13.5)</td>\n",
       "      <td></td>\n",
       "      <td></td>\n",
       "    </tr>\n",
       "    <tr>\n",
       "      <th>3</th>\n",
       "      <td></td>\n",
       "      <td>131 (26.1)</td>\n",
       "      <td>64 (21.8)</td>\n",
       "      <td>67 (32.2)</td>\n",
       "      <td></td>\n",
       "      <td></td>\n",
       "    </tr>\n",
       "    <tr>\n",
       "      <th>4</th>\n",
       "      <td></td>\n",
       "      <td>302 (60.2)</td>\n",
       "      <td>194 (66.0)</td>\n",
       "      <td>108 (51.9)</td>\n",
       "      <td></td>\n",
       "      <td></td>\n",
       "    </tr>\n",
       "    <tr>\n",
       "      <th rowspan=\"3\" valign=\"top\">CRP Level, n (%)</th>\n",
       "      <th>1</th>\n",
       "      <td>0</td>\n",
       "      <td>303 (60.4)</td>\n",
       "      <td>187 (63.6)</td>\n",
       "      <td>116 (55.8)</td>\n",
       "      <td>0.207</td>\n",
       "      <td>Chi-squared</td>\n",
       "    </tr>\n",
       "    <tr>\n",
       "      <th>2</th>\n",
       "      <td></td>\n",
       "      <td>146 (29.1)</td>\n",
       "      <td>79 (26.9)</td>\n",
       "      <td>67 (32.2)</td>\n",
       "      <td></td>\n",
       "      <td></td>\n",
       "    </tr>\n",
       "    <tr>\n",
       "      <th>3</th>\n",
       "      <td></td>\n",
       "      <td>53 (10.6)</td>\n",
       "      <td>28 (9.5)</td>\n",
       "      <td>25 (12.0)</td>\n",
       "      <td></td>\n",
       "      <td></td>\n",
       "    </tr>\n",
       "  </tbody>\n",
       "</table>\n",
       "</div><br />[1] Chi-squared tests for the following variables may be invalid due to the low number of observations: Weight Level, VitaminD Level.<br />"
      ],
      "text/plain": [
       "                                          Grouped by Early Onset of OA                                                                                       \n",
       "                                                               Missing     Overall           0           1 P-Value                                       Test\n",
       "n                                                                              502         294         208                                                   \n",
       "Gender, n (%)                           1                            0  182 (36.3)  104 (35.4)   78 (37.5)   0.694                                Chi-squared\n",
       "                                        2                               320 (63.7)  190 (64.6)  130 (62.5)                                                   \n",
       "Race/Hispanic origin w/ NH Asian, n (%) 1                            0    38 (7.6)    27 (9.2)    11 (5.3)   0.012                                Chi-squared\n",
       "                                        2                                 31 (6.2)    19 (6.5)    12 (5.8)                                                   \n",
       "                                        3                               290 (57.8)  165 (56.1)  125 (60.1)                                                   \n",
       "                                        4                                76 (15.1)   38 (12.9)   38 (18.3)                                                   \n",
       "                                        6                                 32 (6.4)    27 (9.2)     5 (2.4)                                                   \n",
       "                                        7                                 35 (7.0)    18 (6.1)    17 (8.2)                                                   \n",
       "Education level - Adults 20+, n (%)     1                            0    20 (4.0)    13 (4.4)     7 (3.4)   0.738                                Chi-squared\n",
       "                                        2                                52 (10.4)   33 (11.2)    19 (9.1)                                                   \n",
       "                                        3                               128 (25.5)   78 (26.5)   50 (24.0)                                                   \n",
       "                                        4                               188 (37.5)  104 (35.4)   84 (40.4)                                                   \n",
       "                                        5                               114 (22.7)   66 (22.4)   48 (23.1)                                                   \n",
       "Poverty Level, n (%)                    1                            0   67 (13.3)    27 (9.2)   40 (19.2)   0.008                                Chi-squared\n",
       "                                        2                               156 (31.1)   96 (32.7)   60 (28.8)                                                   \n",
       "                                        3                                78 (15.5)   44 (15.0)   34 (16.3)                                                   \n",
       "                                        4                               201 (40.0)  127 (43.2)   74 (35.6)                                                   \n",
       "Waistline Level, n (%)                  1                            0   65 (12.9)   41 (13.9)   24 (11.5)   0.007                                Chi-squared\n",
       "                                        2                               255 (50.8)  163 (55.4)   92 (44.2)                                                   \n",
       "                                        3                               182 (36.3)   90 (30.6)   92 (44.2)                                                   \n",
       "Weight Level, n (%)                     1                            0     6 (1.2)     3 (1.0)     3 (1.4)   0.001  Chi-squared (warning: expected count < 5)\n",
       "                                        2                                89 (17.7)   63 (21.4)   26 (12.5)                                                   \n",
       "                                        3                               158 (31.5)  103 (35.0)   55 (26.4)                                                   \n",
       "                                        4                               189 (37.6)  101 (34.4)   88 (42.3)                                                   \n",
       "                                        5                                60 (12.0)    24 (8.2)   36 (17.3)                                                   \n",
       "VitaminD Level, n (%)                   1                            0     7 (1.4)     2 (0.7)     5 (2.4)   0.007  Chi-squared (warning: expected count < 5)\n",
       "                                        2                                62 (12.4)   34 (11.6)   28 (13.5)                                                   \n",
       "                                        3                               131 (26.1)   64 (21.8)   67 (32.2)                                                   \n",
       "                                        4                               302 (60.2)  194 (66.0)  108 (51.9)                                                   \n",
       "CRP Level, n (%)                        1                            0  303 (60.4)  187 (63.6)  116 (55.8)   0.207                                Chi-squared\n",
       "                                        2                               146 (29.1)   79 (26.9)   67 (32.2)                                                   \n",
       "                                        3                                53 (10.6)    28 (9.5)   25 (12.0)                                                   \n",
       "[1] Chi-squared tests for the following variables may be invalid due to the low number of observations: Weight Level, VitaminD Level."
      ]
     },
     "execution_count": 50,
     "metadata": {},
     "output_type": "execute_result"
    }
   ],
   "source": [
    "OA_TableOne = TableOne(OA_patients, \n",
    "            columns=['Gender', 'Race/Hispanic origin w/ NH Asian',\n",
    "                     'Education level - Adults 20+', 'Poverty Level',\n",
    "                     'Waistline Level','Weight Level','VitaminD Level',\n",
    "                     'CRP Level'], \n",
    "            categorical=['Gender', 'Race/Hispanic origin w/ NH Asian', 'Education level - Adults 20+','Poverty Level','Waistline Level','Weight Level','VitaminD Level','CRP Level'],\n",
    "            groupby=['Early Onset of OA'], \n",
    "            pval = True,\n",
    "            htest_name=True\n",
    "            )\n",
    "OA_TableOne"
   ]
  },
  {
   "cell_type": "code",
   "execution_count": 31,
   "id": "42f8b96a",
   "metadata": {},
   "outputs": [],
   "source": [
    "OA_TableOne.to_excel('OA_patients_TableOne.xlsx')"
   ]
  },
  {
   "cell_type": "markdown",
   "id": "2f801c5c",
   "metadata": {},
   "source": [
    "# Measure of Association"
   ]
  },
  {
   "cell_type": "code",
   "execution_count": 32,
   "id": "ca845bb0",
   "metadata": {},
   "outputs": [],
   "source": [
    "import numpy as np\n",
    "import statsmodels.api as sm\n",
    "from scipy import stats"
   ]
  },
  {
   "cell_type": "code",
   "execution_count": 41,
   "id": "6800f43c",
   "metadata": {},
   "outputs": [
    {
     "data": {
      "text/html": [
       "<table class=\"simpletable\">\n",
       "<tr>\n",
       "         <td></td>        <th>Estimate</th>  <th>SE</th>     <th>LCB</th>   <th>UCB</th>  <th>p-value</th>\n",
       "</tr>\n",
       "<tr>\n",
       "  <th>Odds ratio</th>        <td>0.912</td>      <td></td>  <td>0.631</td> <td>1.319</td>   <td>0.626</td>\n",
       "</tr>\n",
       "<tr>\n",
       "  <th>Log odds ratio</th>   <td>-0.092</td> <td>0.188</td> <td>-0.461</td> <td>0.277</td>   <td>0.626</td>\n",
       "</tr>\n",
       "<tr>\n",
       "  <th>Risk ratio</th>        <td>0.948</td>      <td></td>  <td>0.765</td> <td>1.174</td>   <td>0.624</td>\n",
       "</tr>\n",
       "<tr>\n",
       "  <th>Log risk ratio</th>   <td>-0.053</td> <td>0.109</td> <td>-0.267</td> <td>0.160</td>   <td>0.624</td>\n",
       "</tr>\n",
       "</table>"
      ],
      "text/latex": [
       "\\begin{center}\n",
       "\\begin{tabular}{lccccc}\n",
       "\n",
       "                        & \\textbf{Estimate} & \\textbf{SE} & \\textbf{LCB} & \\textbf{UCB} & \\textbf{p-value}  \\\\\n",
       "\\midrule\n",
       "\\bottomrule\n",
       "\\end{tabular}\n",
       "\\begin{tabular}{lrrrrr}\n",
       "\\textbf{Odds ratio}     &             0.912 &             &        0.631 &        1.319 &            0.626  \\\\\n",
       "\\textbf{Log odds ratio} &            -0.092 &       0.188 &       -0.461 &        0.277 &            0.626  \\\\\n",
       "\\textbf{Risk ratio}     &             0.948 &             &        0.765 &        1.174 &            0.624  \\\\\n",
       "\\textbf{Log risk ratio} &            -0.053 &       0.109 &       -0.267 &        0.160 &            0.624  \\\\\n",
       "\\bottomrule\n",
       "\\end{tabular}\n",
       "\\end{center}"
      ],
      "text/plain": [
       "<class 'statsmodels.iolib.table.SimpleTable'>"
      ]
     },
     "execution_count": 41,
     "metadata": {},
     "output_type": "execute_result"
    }
   ],
   "source": [
    "#Gender (Reference Group:1)\n",
    "Gender_OR = sm.stats.Table2x2(np.array([[130, 190], \n",
    "                                    [78, 104]]))\n",
    "Gender_OR.summary(method='normal')"
   ]
  },
  {
   "cell_type": "code",
   "execution_count": 35,
   "id": "0795f01c",
   "metadata": {},
   "outputs": [
    {
     "data": {
      "text/html": [
       "<table class=\"simpletable\">\n",
       "<tr>\n",
       "         <td></td>        <th>Estimate</th>  <th>SE</th>     <th>LCB</th>   <th>UCB</th>  <th>p-value</th>\n",
       "</tr>\n",
       "<tr>\n",
       "  <th>Odds ratio</th>        <td>0.538</td>      <td></td>  <td>0.257</td> <td>1.126</td>   <td>0.100</td>\n",
       "</tr>\n",
       "<tr>\n",
       "  <th>Log odds ratio</th>   <td>-0.620</td> <td>0.377</td> <td>-1.359</td> <td>0.118</td>   <td>0.100</td>\n",
       "</tr>\n",
       "<tr>\n",
       "  <th>Risk ratio</th>        <td>0.672</td>      <td></td>  <td>0.401</td> <td>1.124</td>   <td>0.130</td>\n",
       "</tr>\n",
       "<tr>\n",
       "  <th>Log risk ratio</th>   <td>-0.398</td> <td>0.263</td> <td>-0.914</td> <td>0.117</td>   <td>0.130</td>\n",
       "</tr>\n",
       "</table>"
      ],
      "text/latex": [
       "\\begin{center}\n",
       "\\begin{tabular}{lccccc}\n",
       "\n",
       "                        & \\textbf{Estimate} & \\textbf{SE} & \\textbf{LCB} & \\textbf{UCB} & \\textbf{p-value}  \\\\\n",
       "\\midrule\n",
       "\\bottomrule\n",
       "\\end{tabular}\n",
       "\\begin{tabular}{lrrrrr}\n",
       "\\textbf{Odds ratio}     &             0.538 &             &        0.257 &        1.126 &            0.100  \\\\\n",
       "\\textbf{Log odds ratio} &            -0.620 &       0.377 &       -1.359 &        0.118 &            0.100  \\\\\n",
       "\\textbf{Risk ratio}     &             0.672 &             &        0.401 &        1.124 &            0.130  \\\\\n",
       "\\textbf{Log risk ratio} &            -0.398 &       0.263 &       -0.914 &        0.117 &            0.130  \\\\\n",
       "\\bottomrule\n",
       "\\end{tabular}\n",
       "\\end{center}"
      ],
      "text/plain": [
       "<class 'statsmodels.iolib.table.SimpleTable'>"
      ]
     },
     "execution_count": 35,
     "metadata": {},
     "output_type": "execute_result"
    }
   ],
   "source": [
    "#Race 1:3 (Reference)\n",
    "Race1_3_OR = sm.stats.Table2x2(np.array([[11, 27], \n",
    "                                    [125, 165]]))\n",
    "Race1_3_OR.summary(method='normal')"
   ]
  },
  {
   "cell_type": "code",
   "execution_count": 36,
   "id": "7de73122",
   "metadata": {},
   "outputs": [
    {
     "data": {
      "text/html": [
       "<table class=\"simpletable\">\n",
       "<tr>\n",
       "         <td></td>        <th>Estimate</th>  <th>SE</th>     <th>LCB</th>   <th>UCB</th>  <th>p-value</th>\n",
       "</tr>\n",
       "<tr>\n",
       "  <th>Odds ratio</th>        <td>0.834</td>      <td></td>  <td>0.390</td> <td>1.781</td>   <td>0.639</td>\n",
       "</tr>\n",
       "<tr>\n",
       "  <th>Log odds ratio</th>   <td>-0.182</td> <td>0.387</td> <td>-0.941</td> <td>0.577</td>   <td>0.639</td>\n",
       "</tr>\n",
       "<tr>\n",
       "  <th>Risk ratio</th>        <td>0.898</td>      <td></td>  <td>0.566</td> <td>1.426</td>   <td>0.648</td>\n",
       "</tr>\n",
       "<tr>\n",
       "  <th>Log risk ratio</th>   <td>-0.108</td> <td>0.236</td> <td>-0.570</td> <td>0.355</td>   <td>0.648</td>\n",
       "</tr>\n",
       "</table>"
      ],
      "text/latex": [
       "\\begin{center}\n",
       "\\begin{tabular}{lccccc}\n",
       "\n",
       "                        & \\textbf{Estimate} & \\textbf{SE} & \\textbf{LCB} & \\textbf{UCB} & \\textbf{p-value}  \\\\\n",
       "\\midrule\n",
       "\\bottomrule\n",
       "\\end{tabular}\n",
       "\\begin{tabular}{lrrrrr}\n",
       "\\textbf{Odds ratio}     &             0.834 &             &        0.390 &        1.781 &            0.639  \\\\\n",
       "\\textbf{Log odds ratio} &            -0.182 &       0.387 &       -0.941 &        0.577 &            0.639  \\\\\n",
       "\\textbf{Risk ratio}     &             0.898 &             &        0.566 &        1.426 &            0.648  \\\\\n",
       "\\textbf{Log risk ratio} &            -0.108 &       0.236 &       -0.570 &        0.355 &            0.648  \\\\\n",
       "\\bottomrule\n",
       "\\end{tabular}\n",
       "\\end{center}"
      ],
      "text/plain": [
       "<class 'statsmodels.iolib.table.SimpleTable'>"
      ]
     },
     "execution_count": 36,
     "metadata": {},
     "output_type": "execute_result"
    }
   ],
   "source": [
    "#Race 2:3 (Reference)\n",
    "Race2_3_OR = sm.stats.Table2x2(np.array([[12, 19], \n",
    "                                    [125, 165]]))\n",
    "Race2_3_OR.summary(method='normal')"
   ]
  },
  {
   "cell_type": "code",
   "execution_count": 37,
   "id": "d8408bcc",
   "metadata": {},
   "outputs": [
    {
     "data": {
      "text/html": [
       "<table class=\"simpletable\">\n",
       "<tr>\n",
       "         <td></td>        <th>Estimate</th>  <th>SE</th>     <th>LCB</th>   <th>UCB</th>  <th>p-value</th>\n",
       "</tr>\n",
       "<tr>\n",
       "  <th>Odds ratio</th>        <td>1.320</td>      <td></td>  <td>0.796</td> <td>2.190</td>   <td>0.282</td>\n",
       "</tr>\n",
       "<tr>\n",
       "  <th>Log odds ratio</th>    <td>0.278</td> <td>0.258</td> <td>-0.229</td> <td>0.784</td>   <td>0.282</td>\n",
       "</tr>\n",
       "<tr>\n",
       "  <th>Risk ratio</th>        <td>1.160</td>      <td></td>  <td>0.894</td> <td>1.506</td>   <td>0.265</td>\n",
       "</tr>\n",
       "<tr>\n",
       "  <th>Log risk ratio</th>    <td>0.148</td> <td>0.133</td> <td>-0.112</td> <td>0.409</td>   <td>0.265</td>\n",
       "</tr>\n",
       "</table>"
      ],
      "text/latex": [
       "\\begin{center}\n",
       "\\begin{tabular}{lccccc}\n",
       "\n",
       "                        & \\textbf{Estimate} & \\textbf{SE} & \\textbf{LCB} & \\textbf{UCB} & \\textbf{p-value}  \\\\\n",
       "\\midrule\n",
       "\\bottomrule\n",
       "\\end{tabular}\n",
       "\\begin{tabular}{lrrrrr}\n",
       "\\textbf{Odds ratio}     &             1.320 &             &        0.796 &        2.190 &            0.282  \\\\\n",
       "\\textbf{Log odds ratio} &             0.278 &       0.258 &       -0.229 &        0.784 &            0.282  \\\\\n",
       "\\textbf{Risk ratio}     &             1.160 &             &        0.894 &        1.506 &            0.265  \\\\\n",
       "\\textbf{Log risk ratio} &             0.148 &       0.133 &       -0.112 &        0.409 &            0.265  \\\\\n",
       "\\bottomrule\n",
       "\\end{tabular}\n",
       "\\end{center}"
      ],
      "text/plain": [
       "<class 'statsmodels.iolib.table.SimpleTable'>"
      ]
     },
     "execution_count": 37,
     "metadata": {},
     "output_type": "execute_result"
    }
   ],
   "source": [
    "#Race 4:3 (Reference)\n",
    "Race4_3_OR = sm.stats.Table2x2(np.array([[38, 38], \n",
    "                                    [125, 165]]))\n",
    "Race4_3_OR.summary(method='normal')"
   ]
  },
  {
   "cell_type": "code",
   "execution_count": 38,
   "id": "f8eae3c3",
   "metadata": {},
   "outputs": [
    {
     "data": {
      "text/html": [
       "<table class=\"simpletable\">\n",
       "<tr>\n",
       "         <td></td>        <th>Estimate</th>  <th>SE</th>     <th>LCB</th>    <th>UCB</th>  <th>p-value</th>\n",
       "</tr>\n",
       "<tr>\n",
       "  <th>Odds ratio</th>        <td>0.244</td>      <td></td>  <td>0.092</td>  <td>0.653</td>   <td>0.005</td>\n",
       "</tr>\n",
       "<tr>\n",
       "  <th>Log odds ratio</th>   <td>-1.409</td> <td>0.501</td> <td>-2.391</td> <td>-0.427</td>   <td>0.005</td>\n",
       "</tr>\n",
       "<tr>\n",
       "  <th>Risk ratio</th>        <td>0.363</td>      <td></td>  <td>0.160</td>  <td>0.820</td>   <td>0.015</td>\n",
       "</tr>\n",
       "<tr>\n",
       "  <th>Log risk ratio</th>   <td>-1.015</td> <td>0.416</td> <td>-1.831</td> <td>-0.199</td>   <td>0.015</td>\n",
       "</tr>\n",
       "</table>"
      ],
      "text/latex": [
       "\\begin{center}\n",
       "\\begin{tabular}{lccccc}\n",
       "\n",
       "                        & \\textbf{Estimate} & \\textbf{SE} & \\textbf{LCB} & \\textbf{UCB} & \\textbf{p-value}  \\\\\n",
       "\\midrule\n",
       "\\bottomrule\n",
       "\\end{tabular}\n",
       "\\begin{tabular}{lrrrrr}\n",
       "\\textbf{Odds ratio}     &             0.244 &             &        0.092 &        0.653 &            0.005  \\\\\n",
       "\\textbf{Log odds ratio} &            -1.409 &       0.501 &       -2.391 &       -0.427 &            0.005  \\\\\n",
       "\\textbf{Risk ratio}     &             0.363 &             &        0.160 &        0.820 &            0.015  \\\\\n",
       "\\textbf{Log risk ratio} &            -1.015 &       0.416 &       -1.831 &       -0.199 &            0.015  \\\\\n",
       "\\bottomrule\n",
       "\\end{tabular}\n",
       "\\end{center}"
      ],
      "text/plain": [
       "<class 'statsmodels.iolib.table.SimpleTable'>"
      ]
     },
     "execution_count": 38,
     "metadata": {},
     "output_type": "execute_result"
    }
   ],
   "source": [
    "#Race 6:3 (Reference)\n",
    "Race6_3_OR = sm.stats.Table2x2(np.array([[5, 27], \n",
    "                                    [125, 165]]))\n",
    "Race6_3_OR.summary(method='normal')"
   ]
  },
  {
   "cell_type": "code",
   "execution_count": 39,
   "id": "cfa84a45",
   "metadata": {},
   "outputs": [
    {
     "data": {
      "text/html": [
       "<table class=\"simpletable\">\n",
       "<tr>\n",
       "         <td></td>        <th>Estimate</th>  <th>SE</th>     <th>LCB</th>   <th>UCB</th>  <th>p-value</th>\n",
       "</tr>\n",
       "<tr>\n",
       "  <th>Odds ratio</th>        <td>1.247</td>      <td></td>  <td>0.618</td> <td>2.517</td>   <td>0.538</td>\n",
       "</tr>\n",
       "<tr>\n",
       "  <th>Log odds ratio</th>    <td>0.220</td> <td>0.358</td> <td>-0.482</td> <td>0.923</td>   <td>0.538</td>\n",
       "</tr>\n",
       "<tr>\n",
       "  <th>Risk ratio</th>        <td>1.127</td>      <td></td>  <td>0.782</td> <td>1.624</td>   <td>0.522</td>\n",
       "</tr>\n",
       "<tr>\n",
       "  <th>Log risk ratio</th>    <td>0.119</td> <td>0.187</td> <td>-0.246</td> <td>0.485</td>   <td>0.522</td>\n",
       "</tr>\n",
       "</table>"
      ],
      "text/latex": [
       "\\begin{center}\n",
       "\\begin{tabular}{lccccc}\n",
       "\n",
       "                        & \\textbf{Estimate} & \\textbf{SE} & \\textbf{LCB} & \\textbf{UCB} & \\textbf{p-value}  \\\\\n",
       "\\midrule\n",
       "\\bottomrule\n",
       "\\end{tabular}\n",
       "\\begin{tabular}{lrrrrr}\n",
       "\\textbf{Odds ratio}     &             1.247 &             &        0.618 &        2.517 &            0.538  \\\\\n",
       "\\textbf{Log odds ratio} &             0.220 &       0.358 &       -0.482 &        0.923 &            0.538  \\\\\n",
       "\\textbf{Risk ratio}     &             1.127 &             &        0.782 &        1.624 &            0.522  \\\\\n",
       "\\textbf{Log risk ratio} &             0.119 &       0.187 &       -0.246 &        0.485 &            0.522  \\\\\n",
       "\\bottomrule\n",
       "\\end{tabular}\n",
       "\\end{center}"
      ],
      "text/plain": [
       "<class 'statsmodels.iolib.table.SimpleTable'>"
      ]
     },
     "execution_count": 39,
     "metadata": {},
     "output_type": "execute_result"
    }
   ],
   "source": [
    "#Race 7:3 (Reference)\n",
    "Race7_3_OR = sm.stats.Table2x2(np.array([[17, 18], \n",
    "                                    [125, 165]]))\n",
    "Race7_3_OR.summary(method='normal')"
   ]
  },
  {
   "cell_type": "code",
   "execution_count": 42,
   "id": "77154892",
   "metadata": {},
   "outputs": [
    {
     "data": {
      "text/html": [
       "<table class=\"simpletable\">\n",
       "<tr>\n",
       "         <td></td>        <th>Estimate</th>  <th>SE</th>     <th>LCB</th>   <th>UCB</th>  <th>p-value</th>\n",
       "</tr>\n",
       "<tr>\n",
       "  <th>Odds ratio</th>        <td>0.667</td>      <td></td>  <td>0.255</td> <td>1.746</td>   <td>0.409</td>\n",
       "</tr>\n",
       "<tr>\n",
       "  <th>Log odds ratio</th>   <td>-0.405</td> <td>0.491</td> <td>-1.368</td> <td>0.557</td>   <td>0.409</td>\n",
       "</tr>\n",
       "<tr>\n",
       "  <th>Risk ratio</th>        <td>0.783</td>      <td></td>  <td>0.422</td> <td>1.453</td>   <td>0.439</td>\n",
       "</tr>\n",
       "<tr>\n",
       "  <th>Log risk ratio</th>   <td>-0.244</td> <td>0.315</td> <td>-0.862</td> <td>0.374</td>   <td>0.439</td>\n",
       "</tr>\n",
       "</table>"
      ],
      "text/latex": [
       "\\begin{center}\n",
       "\\begin{tabular}{lccccc}\n",
       "\n",
       "                        & \\textbf{Estimate} & \\textbf{SE} & \\textbf{LCB} & \\textbf{UCB} & \\textbf{p-value}  \\\\\n",
       "\\midrule\n",
       "\\bottomrule\n",
       "\\end{tabular}\n",
       "\\begin{tabular}{lrrrrr}\n",
       "\\textbf{Odds ratio}     &             0.667 &             &        0.255 &        1.746 &            0.409  \\\\\n",
       "\\textbf{Log odds ratio} &            -0.405 &       0.491 &       -1.368 &        0.557 &            0.409  \\\\\n",
       "\\textbf{Risk ratio}     &             0.783 &             &        0.422 &        1.453 &            0.439  \\\\\n",
       "\\textbf{Log risk ratio} &            -0.244 &       0.315 &       -0.862 &        0.374 &            0.439  \\\\\n",
       "\\bottomrule\n",
       "\\end{tabular}\n",
       "\\end{center}"
      ],
      "text/plain": [
       "<class 'statsmodels.iolib.table.SimpleTable'>"
      ]
     },
     "execution_count": 42,
     "metadata": {},
     "output_type": "execute_result"
    }
   ],
   "source": [
    "#Education Level 1:4(Reference)\n",
    "EduLev1_4_OR = sm.stats.Table2x2(np.array([[7, 13], \n",
    "                                    [84, 104]]))\n",
    "EduLev1_4_OR.summary(method='normal')"
   ]
  },
  {
   "cell_type": "code",
   "execution_count": 43,
   "id": "bc0bdd16",
   "metadata": {},
   "outputs": [
    {
     "data": {
      "text/html": [
       "<table class=\"simpletable\">\n",
       "<tr>\n",
       "         <td></td>        <th>Estimate</th>  <th>SE</th>     <th>LCB</th>   <th>UCB</th>  <th>p-value</th>\n",
       "</tr>\n",
       "<tr>\n",
       "  <th>Odds ratio</th>        <td>0.713</td>      <td></td>  <td>0.378</td> <td>1.343</td>   <td>0.295</td>\n",
       "</tr>\n",
       "<tr>\n",
       "  <th>Log odds ratio</th>   <td>-0.338</td> <td>0.323</td> <td>-0.972</td> <td>0.295</td>   <td>0.295</td>\n",
       "</tr>\n",
       "<tr>\n",
       "  <th>Risk ratio</th>        <td>0.818</td>      <td></td>  <td>0.553</td> <td>1.210</td>   <td>0.314</td>\n",
       "</tr>\n",
       "<tr>\n",
       "  <th>Log risk ratio</th>   <td>-0.201</td> <td>0.200</td> <td>-0.593</td> <td>0.191</td>   <td>0.314</td>\n",
       "</tr>\n",
       "</table>"
      ],
      "text/latex": [
       "\\begin{center}\n",
       "\\begin{tabular}{lccccc}\n",
       "\n",
       "                        & \\textbf{Estimate} & \\textbf{SE} & \\textbf{LCB} & \\textbf{UCB} & \\textbf{p-value}  \\\\\n",
       "\\midrule\n",
       "\\bottomrule\n",
       "\\end{tabular}\n",
       "\\begin{tabular}{lrrrrr}\n",
       "\\textbf{Odds ratio}     &             0.713 &             &        0.378 &        1.343 &            0.295  \\\\\n",
       "\\textbf{Log odds ratio} &            -0.338 &       0.323 &       -0.972 &        0.295 &            0.295  \\\\\n",
       "\\textbf{Risk ratio}     &             0.818 &             &        0.553 &        1.210 &            0.314  \\\\\n",
       "\\textbf{Log risk ratio} &            -0.201 &       0.200 &       -0.593 &        0.191 &            0.314  \\\\\n",
       "\\bottomrule\n",
       "\\end{tabular}\n",
       "\\end{center}"
      ],
      "text/plain": [
       "<class 'statsmodels.iolib.table.SimpleTable'>"
      ]
     },
     "execution_count": 43,
     "metadata": {},
     "output_type": "execute_result"
    }
   ],
   "source": [
    "#Education Level 2:4(Reference)\n",
    "EduLev2_4_OR = sm.stats.Table2x2(np.array([[19, 33], \n",
    "                                    [84, 104]]))\n",
    "EduLev2_4_OR.summary(method='normal')"
   ]
  },
  {
   "cell_type": "code",
   "execution_count": 44,
   "id": "a6d30a25",
   "metadata": {},
   "outputs": [
    {
     "data": {
      "text/html": [
       "<table class=\"simpletable\">\n",
       "<tr>\n",
       "         <td></td>        <th>Estimate</th>  <th>SE</th>     <th>LCB</th>   <th>UCB</th>  <th>p-value</th>\n",
       "</tr>\n",
       "<tr>\n",
       "  <th>Odds ratio</th>        <td>0.794</td>      <td></td>  <td>0.503</td> <td>1.253</td>   <td>0.321</td>\n",
       "</tr>\n",
       "<tr>\n",
       "  <th>Log odds ratio</th>   <td>-0.231</td> <td>0.233</td> <td>-0.688</td> <td>0.226</td>   <td>0.321</td>\n",
       "</tr>\n",
       "<tr>\n",
       "  <th>Risk ratio</th>        <td>0.874</td>      <td></td>  <td>0.668</td> <td>1.144</td>   <td>0.327</td>\n",
       "</tr>\n",
       "<tr>\n",
       "  <th>Log risk ratio</th>   <td>-0.134</td> <td>0.137</td> <td>-0.403</td> <td>0.134</td>   <td>0.327</td>\n",
       "</tr>\n",
       "</table>"
      ],
      "text/latex": [
       "\\begin{center}\n",
       "\\begin{tabular}{lccccc}\n",
       "\n",
       "                        & \\textbf{Estimate} & \\textbf{SE} & \\textbf{LCB} & \\textbf{UCB} & \\textbf{p-value}  \\\\\n",
       "\\midrule\n",
       "\\bottomrule\n",
       "\\end{tabular}\n",
       "\\begin{tabular}{lrrrrr}\n",
       "\\textbf{Odds ratio}     &             0.794 &             &        0.503 &        1.253 &            0.321  \\\\\n",
       "\\textbf{Log odds ratio} &            -0.231 &       0.233 &       -0.688 &        0.226 &            0.321  \\\\\n",
       "\\textbf{Risk ratio}     &             0.874 &             &        0.668 &        1.144 &            0.327  \\\\\n",
       "\\textbf{Log risk ratio} &            -0.134 &       0.137 &       -0.403 &        0.134 &            0.327  \\\\\n",
       "\\bottomrule\n",
       "\\end{tabular}\n",
       "\\end{center}"
      ],
      "text/plain": [
       "<class 'statsmodels.iolib.table.SimpleTable'>"
      ]
     },
     "execution_count": 44,
     "metadata": {},
     "output_type": "execute_result"
    }
   ],
   "source": [
    "#Education Level 3:4(Reference)\n",
    "EduLev3_4_OR = sm.stats.Table2x2(np.array([[50, 78], \n",
    "                                    [84, 104]]))\n",
    "EduLev3_4_OR.summary(method='normal')"
   ]
  },
  {
   "cell_type": "code",
   "execution_count": 45,
   "id": "994b7957",
   "metadata": {},
   "outputs": [
    {
     "data": {
      "text/html": [
       "<table class=\"simpletable\">\n",
       "<tr>\n",
       "         <td></td>        <th>Estimate</th>  <th>SE</th>     <th>LCB</th>   <th>UCB</th>  <th>p-value</th>\n",
       "</tr>\n",
       "<tr>\n",
       "  <th>Odds ratio</th>        <td>0.900</td>      <td></td>  <td>0.563</td> <td>1.441</td>   <td>0.662</td>\n",
       "</tr>\n",
       "<tr>\n",
       "  <th>Log odds ratio</th>   <td>-0.105</td> <td>0.240</td> <td>-0.575</td> <td>0.365</td>   <td>0.662</td>\n",
       "</tr>\n",
       "<tr>\n",
       "  <th>Risk ratio</th>        <td>0.942</td>      <td></td>  <td>0.721</td> <td>1.232</td>   <td>0.664</td>\n",
       "</tr>\n",
       "<tr>\n",
       "  <th>Log risk ratio</th>   <td>-0.059</td> <td>0.137</td> <td>-0.327</td> <td>0.208</td>   <td>0.664</td>\n",
       "</tr>\n",
       "</table>"
      ],
      "text/latex": [
       "\\begin{center}\n",
       "\\begin{tabular}{lccccc}\n",
       "\n",
       "                        & \\textbf{Estimate} & \\textbf{SE} & \\textbf{LCB} & \\textbf{UCB} & \\textbf{p-value}  \\\\\n",
       "\\midrule\n",
       "\\bottomrule\n",
       "\\end{tabular}\n",
       "\\begin{tabular}{lrrrrr}\n",
       "\\textbf{Odds ratio}     &             0.900 &             &        0.563 &        1.441 &            0.662  \\\\\n",
       "\\textbf{Log odds ratio} &            -0.105 &       0.240 &       -0.575 &        0.365 &            0.662  \\\\\n",
       "\\textbf{Risk ratio}     &             0.942 &             &        0.721 &        1.232 &            0.664  \\\\\n",
       "\\textbf{Log risk ratio} &            -0.059 &       0.137 &       -0.327 &        0.208 &            0.664  \\\\\n",
       "\\bottomrule\n",
       "\\end{tabular}\n",
       "\\end{center}"
      ],
      "text/plain": [
       "<class 'statsmodels.iolib.table.SimpleTable'>"
      ]
     },
     "execution_count": 45,
     "metadata": {},
     "output_type": "execute_result"
    }
   ],
   "source": [
    "#Education Level 5:4(Reference)\n",
    "EduLev5_4_OR = sm.stats.Table2x2(np.array([[48, 66], \n",
    "                                    [84, 104]]))\n",
    "EduLev5_4_OR.summary(method='normal')"
   ]
  },
  {
   "cell_type": "code",
   "execution_count": 46,
   "id": "318dce04",
   "metadata": {},
   "outputs": [
    {
     "data": {
      "text/html": [
       "<table class=\"simpletable\">\n",
       "<tr>\n",
       "         <td></td>        <th>Estimate</th>  <th>SE</th>     <th>LCB</th>   <th>UCB</th>  <th>p-value</th>\n",
       "</tr>\n",
       "<tr>\n",
       "  <th>Odds ratio</th>        <td>1.917</td>      <td></td>  <td>0.989</td> <td>3.718</td>   <td>0.054</td>\n",
       "</tr>\n",
       "<tr>\n",
       "  <th>Log odds ratio</th>    <td>0.651</td> <td>0.338</td> <td>-0.011</td> <td>1.313</td>   <td>0.054</td>\n",
       "</tr>\n",
       "<tr>\n",
       "  <th>Risk ratio</th>        <td>1.370</td>      <td></td>  <td>0.994</td> <td>1.886</td>   <td>0.054</td>\n",
       "</tr>\n",
       "<tr>\n",
       "  <th>Log risk ratio</th>    <td>0.315</td> <td>0.163</td> <td>-0.006</td> <td>0.635</td>   <td>0.054</td>\n",
       "</tr>\n",
       "</table>"
      ],
      "text/latex": [
       "\\begin{center}\n",
       "\\begin{tabular}{lccccc}\n",
       "\n",
       "                        & \\textbf{Estimate} & \\textbf{SE} & \\textbf{LCB} & \\textbf{UCB} & \\textbf{p-value}  \\\\\n",
       "\\midrule\n",
       "\\bottomrule\n",
       "\\end{tabular}\n",
       "\\begin{tabular}{lrrrrr}\n",
       "\\textbf{Odds ratio}     &             1.917 &             &        0.989 &        3.718 &            0.054  \\\\\n",
       "\\textbf{Log odds ratio} &             0.651 &       0.338 &       -0.011 &        1.313 &            0.054  \\\\\n",
       "\\textbf{Risk ratio}     &             1.370 &             &        0.994 &        1.886 &            0.054  \\\\\n",
       "\\textbf{Log risk ratio} &             0.315 &       0.163 &       -0.006 &        0.635 &            0.054  \\\\\n",
       "\\bottomrule\n",
       "\\end{tabular}\n",
       "\\end{center}"
      ],
      "text/plain": [
       "<class 'statsmodels.iolib.table.SimpleTable'>"
      ]
     },
     "execution_count": 46,
     "metadata": {},
     "output_type": "execute_result"
    }
   ],
   "source": [
    "#Poverty Poor:Normal(Reference)\n",
    "PovertyP_OR = sm.stats.Table2x2(np.array([[40, 27], \n",
    "                                    [34, 44]]))\n",
    "PovertyP_OR.summary(method='normal')"
   ]
  },
  {
   "cell_type": "code",
   "execution_count": 47,
   "id": "b430b8c6",
   "metadata": {},
   "outputs": [
    {
     "data": {
      "text/html": [
       "<table class=\"simpletable\">\n",
       "<tr>\n",
       "         <td></td>        <th>Estimate</th>  <th>SE</th>     <th>LCB</th>   <th>UCB</th>  <th>p-value</th>\n",
       "</tr>\n",
       "<tr>\n",
       "  <th>Odds ratio</th>        <td>0.809</td>      <td></td>  <td>0.466</td> <td>1.404</td>   <td>0.451</td>\n",
       "</tr>\n",
       "<tr>\n",
       "  <th>Log odds ratio</th>   <td>-0.212</td> <td>0.281</td> <td>-0.764</td> <td>0.339</td>   <td>0.451</td>\n",
       "</tr>\n",
       "<tr>\n",
       "  <th>Risk ratio</th>        <td>0.882</td>      <td></td>  <td>0.640</td> <td>1.217</td>   <td>0.445</td>\n",
       "</tr>\n",
       "<tr>\n",
       "  <th>Log risk ratio</th>   <td>-0.125</td> <td>0.164</td> <td>-0.446</td> <td>0.196</td>   <td>0.445</td>\n",
       "</tr>\n",
       "</table>"
      ],
      "text/latex": [
       "\\begin{center}\n",
       "\\begin{tabular}{lccccc}\n",
       "\n",
       "                        & \\textbf{Estimate} & \\textbf{SE} & \\textbf{LCB} & \\textbf{UCB} & \\textbf{p-value}  \\\\\n",
       "\\midrule\n",
       "\\bottomrule\n",
       "\\end{tabular}\n",
       "\\begin{tabular}{lrrrrr}\n",
       "\\textbf{Odds ratio}     &             0.809 &             &        0.466 &        1.404 &            0.451  \\\\\n",
       "\\textbf{Log odds ratio} &            -0.212 &       0.281 &       -0.764 &        0.339 &            0.451  \\\\\n",
       "\\textbf{Risk ratio}     &             0.882 &             &        0.640 &        1.217 &            0.445  \\\\\n",
       "\\textbf{Log risk ratio} &            -0.125 &       0.164 &       -0.446 &        0.196 &            0.445  \\\\\n",
       "\\bottomrule\n",
       "\\end{tabular}\n",
       "\\end{center}"
      ],
      "text/plain": [
       "<class 'statsmodels.iolib.table.SimpleTable'>"
      ]
     },
     "execution_count": 47,
     "metadata": {},
     "output_type": "execute_result"
    }
   ],
   "source": [
    "#Poverty Near Poor:Normal(Reference)\n",
    "PovertyN_OR = sm.stats.Table2x2(np.array([[60, 96], \n",
    "                                    [34, 44]]))\n",
    "PovertyN_OR.summary(method='normal')"
   ]
  },
  {
   "cell_type": "code",
   "execution_count": 48,
   "id": "c4f49f44",
   "metadata": {},
   "outputs": [
    {
     "data": {
      "text/html": [
       "<table class=\"simpletable\">\n",
       "<tr>\n",
       "         <td></td>        <th>Estimate</th>  <th>SE</th>     <th>LCB</th>   <th>UCB</th>  <th>p-value</th>\n",
       "</tr>\n",
       "<tr>\n",
       "  <th>Odds ratio</th>        <td>0.754</td>      <td></td>  <td>0.443</td> <td>1.283</td>   <td>0.298</td>\n",
       "</tr>\n",
       "<tr>\n",
       "  <th>Log odds ratio</th>   <td>-0.282</td> <td>0.271</td> <td>-0.814</td> <td>0.249</td>   <td>0.298</td>\n",
       "</tr>\n",
       "<tr>\n",
       "  <th>Risk ratio</th>        <td>0.845</td>      <td></td>  <td>0.619</td> <td>1.152</td>   <td>0.287</td>\n",
       "</tr>\n",
       "<tr>\n",
       "  <th>Log risk ratio</th>   <td>-0.169</td> <td>0.159</td> <td>-0.480</td> <td>0.142</td>   <td>0.287</td>\n",
       "</tr>\n",
       "</table>"
      ],
      "text/latex": [
       "\\begin{center}\n",
       "\\begin{tabular}{lccccc}\n",
       "\n",
       "                        & \\textbf{Estimate} & \\textbf{SE} & \\textbf{LCB} & \\textbf{UCB} & \\textbf{p-value}  \\\\\n",
       "\\midrule\n",
       "\\bottomrule\n",
       "\\end{tabular}\n",
       "\\begin{tabular}{lrrrrr}\n",
       "\\textbf{Odds ratio}     &             0.754 &             &        0.443 &        1.283 &            0.298  \\\\\n",
       "\\textbf{Log odds ratio} &            -0.282 &       0.271 &       -0.814 &        0.249 &            0.298  \\\\\n",
       "\\textbf{Risk ratio}     &             0.845 &             &        0.619 &        1.152 &            0.287  \\\\\n",
       "\\textbf{Log risk ratio} &            -0.169 &       0.159 &       -0.480 &        0.142 &            0.287  \\\\\n",
       "\\bottomrule\n",
       "\\end{tabular}\n",
       "\\end{center}"
      ],
      "text/plain": [
       "<class 'statsmodels.iolib.table.SimpleTable'>"
      ]
     },
     "execution_count": 48,
     "metadata": {},
     "output_type": "execute_result"
    }
   ],
   "source": [
    "#Poverty High:Normal(Reference)\n",
    "PovertyH_OR = sm.stats.Table2x2(np.array([[74, 127], \n",
    "                                    [34, 44]]))\n",
    "PovertyH_OR.summary(method='normal')"
   ]
  },
  {
   "cell_type": "code",
   "execution_count": 49,
   "id": "f0c3300d",
   "metadata": {},
   "outputs": [
    {
     "data": {
      "text/html": [
       "<table class=\"simpletable\">\n",
       "<tr>\n",
       "         <td></td>        <th>Estimate</th>  <th>SE</th>     <th>LCB</th>   <th>UCB</th>  <th>p-value</th>\n",
       "</tr>\n",
       "<tr>\n",
       "  <th>Odds ratio</th>        <td>1.037</td>      <td></td>  <td>0.590</td> <td>1.825</td>   <td>0.899</td>\n",
       "</tr>\n",
       "<tr>\n",
       "  <th>Log odds ratio</th>    <td>0.036</td> <td>0.288</td> <td>-0.528</td> <td>0.601</td>   <td>0.899</td>\n",
       "</tr>\n",
       "<tr>\n",
       "  <th>Risk ratio</th>        <td>1.023</td>      <td></td>  <td>0.716</td> <td>1.463</td>   <td>0.899</td>\n",
       "</tr>\n",
       "<tr>\n",
       "  <th>Log risk ratio</th>    <td>0.023</td> <td>0.182</td> <td>-0.334</td> <td>0.380</td>   <td>0.899</td>\n",
       "</tr>\n",
       "</table>"
      ],
      "text/latex": [
       "\\begin{center}\n",
       "\\begin{tabular}{lccccc}\n",
       "\n",
       "                        & \\textbf{Estimate} & \\textbf{SE} & \\textbf{LCB} & \\textbf{UCB} & \\textbf{p-value}  \\\\\n",
       "\\midrule\n",
       "\\bottomrule\n",
       "\\end{tabular}\n",
       "\\begin{tabular}{lrrrrr}\n",
       "\\textbf{Odds ratio}     &             1.037 &             &        0.590 &        1.825 &            0.899  \\\\\n",
       "\\textbf{Log odds ratio} &             0.036 &       0.288 &       -0.528 &        0.601 &            0.899  \\\\\n",
       "\\textbf{Risk ratio}     &             1.023 &             &        0.716 &        1.463 &            0.899  \\\\\n",
       "\\textbf{Log risk ratio} &             0.023 &       0.182 &       -0.334 &        0.380 &            0.899  \\\\\n",
       "\\bottomrule\n",
       "\\end{tabular}\n",
       "\\end{center}"
      ],
      "text/plain": [
       "<class 'statsmodels.iolib.table.SimpleTable'>"
      ]
     },
     "execution_count": 49,
     "metadata": {},
     "output_type": "execute_result"
    }
   ],
   "source": [
    "#Waistline Small:Normal(Reference)\n",
    "WaistS_OR = sm.stats.Table2x2(np.array([[24, 41], \n",
    "                                    [92, 163]]))\n",
    "WaistS_OR.summary(method='normal')"
   ]
  },
  {
   "cell_type": "code",
   "execution_count": 50,
   "id": "f20310a9",
   "metadata": {},
   "outputs": [
    {
     "data": {
      "text/html": [
       "<table class=\"simpletable\">\n",
       "<tr>\n",
       "         <td></td>        <th>Estimate</th>  <th>SE</th>    <th>LCB</th>   <th>UCB</th>  <th>p-value</th>\n",
       "</tr>\n",
       "<tr>\n",
       "  <th>Odds ratio</th>        <td>1.811</td>      <td></td> <td>1.230</td> <td>2.667</td>   <td>0.003</td>\n",
       "</tr>\n",
       "<tr>\n",
       "  <th>Log odds ratio</th>    <td>0.594</td> <td>0.197</td> <td>0.207</td> <td>0.981</td>   <td>0.003</td>\n",
       "</tr>\n",
       "<tr>\n",
       "  <th>Risk ratio</th>        <td>1.401</td>      <td></td> <td>1.127</td> <td>1.742</td>   <td>0.002</td>\n",
       "</tr>\n",
       "<tr>\n",
       "  <th>Log risk ratio</th>    <td>0.337</td> <td>0.111</td> <td>0.120</td> <td>0.555</td>   <td>0.002</td>\n",
       "</tr>\n",
       "</table>"
      ],
      "text/latex": [
       "\\begin{center}\n",
       "\\begin{tabular}{lccccc}\n",
       "\n",
       "                        & \\textbf{Estimate} & \\textbf{SE} & \\textbf{LCB} & \\textbf{UCB} & \\textbf{p-value}  \\\\\n",
       "\\midrule\n",
       "\\bottomrule\n",
       "\\end{tabular}\n",
       "\\begin{tabular}{lrrrrr}\n",
       "\\textbf{Odds ratio}     &             1.811 &             &        1.230 &        2.667 &            0.003  \\\\\n",
       "\\textbf{Log odds ratio} &             0.594 &       0.197 &        0.207 &        0.981 &            0.003  \\\\\n",
       "\\textbf{Risk ratio}     &             1.401 &             &        1.127 &        1.742 &            0.002  \\\\\n",
       "\\textbf{Log risk ratio} &             0.337 &       0.111 &        0.120 &        0.555 &            0.002  \\\\\n",
       "\\bottomrule\n",
       "\\end{tabular}\n",
       "\\end{center}"
      ],
      "text/plain": [
       "<class 'statsmodels.iolib.table.SimpleTable'>"
      ]
     },
     "execution_count": 50,
     "metadata": {},
     "output_type": "execute_result"
    }
   ],
   "source": [
    "#Waistline Large:Normal(Reference)\n",
    "WaistL_OR = sm.stats.Table2x2(np.array([[92, 90], \n",
    "                                    [92, 163]]))\n",
    "WaistL_OR.summary(method='normal')"
   ]
  },
  {
   "cell_type": "code",
   "execution_count": 51,
   "id": "158821e5",
   "metadata": {},
   "outputs": [
    {
     "data": {
      "text/html": [
       "<table class=\"simpletable\">\n",
       "<tr>\n",
       "         <td></td>        <th>Estimate</th>  <th>SE</th>     <th>LCB</th>    <th>UCB</th>  <th>p-value</th>\n",
       "</tr>\n",
       "<tr>\n",
       "  <th>Odds ratio</th>        <td>2.423</td>      <td></td>  <td>0.459</td> <td>12.798</td>   <td>0.297</td>\n",
       "</tr>\n",
       "<tr>\n",
       "  <th>Log odds ratio</th>    <td>0.885</td> <td>0.849</td> <td>-0.779</td>  <td>2.549</td>   <td>0.297</td>\n",
       "</tr>\n",
       "<tr>\n",
       "  <th>Risk ratio</th>        <td>1.712</td>      <td></td>  <td>0.722</td>  <td>4.057</td>   <td>0.222</td>\n",
       "</tr>\n",
       "<tr>\n",
       "  <th>Log risk ratio</th>    <td>0.537</td> <td>0.440</td> <td>-0.326</td>  <td>1.400</td>   <td>0.222</td>\n",
       "</tr>\n",
       "</table>"
      ],
      "text/latex": [
       "\\begin{center}\n",
       "\\begin{tabular}{lccccc}\n",
       "\n",
       "                        & \\textbf{Estimate} & \\textbf{SE} & \\textbf{LCB} & \\textbf{UCB} & \\textbf{p-value}  \\\\\n",
       "\\midrule\n",
       "\\bottomrule\n",
       "\\end{tabular}\n",
       "\\begin{tabular}{lrrrrr}\n",
       "\\textbf{Odds ratio}     &             2.423 &             &        0.459 &       12.798 &            0.297  \\\\\n",
       "\\textbf{Log odds ratio} &             0.885 &       0.849 &       -0.779 &        2.549 &            0.297  \\\\\n",
       "\\textbf{Risk ratio}     &             1.712 &             &        0.722 &        4.057 &            0.222  \\\\\n",
       "\\textbf{Log risk ratio} &             0.537 &       0.440 &       -0.326 &        1.400 &            0.222  \\\\\n",
       "\\bottomrule\n",
       "\\end{tabular}\n",
       "\\end{center}"
      ],
      "text/plain": [
       "<class 'statsmodels.iolib.table.SimpleTable'>"
      ]
     },
     "execution_count": 51,
     "metadata": {},
     "output_type": "execute_result"
    }
   ],
   "source": [
    "#Weight Under:Healthy(Reference)\n",
    "WeightU_OR = sm.stats.Table2x2(np.array([[3, 3], \n",
    "                                    [26, 63]]))\n",
    "WeightU_OR.summary(method='normal')"
   ]
  },
  {
   "cell_type": "code",
   "execution_count": 52,
   "id": "e00f3679",
   "metadata": {},
   "outputs": [
    {
     "data": {
      "text/html": [
       "<table class=\"simpletable\">\n",
       "<tr>\n",
       "         <td></td>        <th>Estimate</th>  <th>SE</th>     <th>LCB</th>   <th>UCB</th>  <th>p-value</th>\n",
       "</tr>\n",
       "<tr>\n",
       "  <th>Odds ratio</th>        <td>1.294</td>      <td></td>  <td>0.738</td> <td>2.270</td>   <td>0.369</td>\n",
       "</tr>\n",
       "<tr>\n",
       "  <th>Log odds ratio</th>    <td>0.258</td> <td>0.287</td> <td>-0.304</td> <td>0.820</td>   <td>0.369</td>\n",
       "</tr>\n",
       "<tr>\n",
       "  <th>Risk ratio</th>        <td>1.192</td>      <td></td>  <td>0.809</td> <td>1.755</td>   <td>0.375</td>\n",
       "</tr>\n",
       "<tr>\n",
       "  <th>Log risk ratio</th>    <td>0.175</td> <td>0.198</td> <td>-0.212</td> <td>0.563</td>   <td>0.375</td>\n",
       "</tr>\n",
       "</table>"
      ],
      "text/latex": [
       "\\begin{center}\n",
       "\\begin{tabular}{lccccc}\n",
       "\n",
       "                        & \\textbf{Estimate} & \\textbf{SE} & \\textbf{LCB} & \\textbf{UCB} & \\textbf{p-value}  \\\\\n",
       "\\midrule\n",
       "\\bottomrule\n",
       "\\end{tabular}\n",
       "\\begin{tabular}{lrrrrr}\n",
       "\\textbf{Odds ratio}     &             1.294 &             &        0.738 &        2.270 &            0.369  \\\\\n",
       "\\textbf{Log odds ratio} &             0.258 &       0.287 &       -0.304 &        0.820 &            0.369  \\\\\n",
       "\\textbf{Risk ratio}     &             1.192 &             &        0.809 &        1.755 &            0.375  \\\\\n",
       "\\textbf{Log risk ratio} &             0.175 &       0.198 &       -0.212 &        0.563 &            0.375  \\\\\n",
       "\\bottomrule\n",
       "\\end{tabular}\n",
       "\\end{center}"
      ],
      "text/plain": [
       "<class 'statsmodels.iolib.table.SimpleTable'>"
      ]
     },
     "execution_count": 52,
     "metadata": {},
     "output_type": "execute_result"
    }
   ],
   "source": [
    "#Weight Overweight:Healthy(Reference)\n",
    "WeightO_OR = sm.stats.Table2x2(np.array([[55, 103], \n",
    "                                    [26, 63]]))\n",
    "WeightO_OR.summary(method='normal')"
   ]
  },
  {
   "cell_type": "code",
   "execution_count": 53,
   "id": "d28a3c1b",
   "metadata": {},
   "outputs": [
    {
     "data": {
      "text/html": [
       "<table class=\"simpletable\">\n",
       "<tr>\n",
       "         <td></td>        <th>Estimate</th>  <th>SE</th>    <th>LCB</th>   <th>UCB</th>  <th>p-value</th>\n",
       "</tr>\n",
       "<tr>\n",
       "  <th>Odds ratio</th>        <td>2.111</td>      <td></td> <td>1.232</td> <td>3.619</td>   <td>0.007</td>\n",
       "</tr>\n",
       "<tr>\n",
       "  <th>Log odds ratio</th>    <td>0.747</td> <td>0.275</td> <td>0.208</td> <td>1.286</td>   <td>0.007</td>\n",
       "</tr>\n",
       "<tr>\n",
       "  <th>Risk ratio</th>        <td>1.594</td>      <td></td> <td>1.115</td> <td>2.279</td>   <td>0.011</td>\n",
       "</tr>\n",
       "<tr>\n",
       "  <th>Log risk ratio</th>    <td>0.466</td> <td>0.182</td> <td>0.108</td> <td>0.824</td>   <td>0.011</td>\n",
       "</tr>\n",
       "</table>"
      ],
      "text/latex": [
       "\\begin{center}\n",
       "\\begin{tabular}{lccccc}\n",
       "\n",
       "                        & \\textbf{Estimate} & \\textbf{SE} & \\textbf{LCB} & \\textbf{UCB} & \\textbf{p-value}  \\\\\n",
       "\\midrule\n",
       "\\bottomrule\n",
       "\\end{tabular}\n",
       "\\begin{tabular}{lrrrrr}\n",
       "\\textbf{Odds ratio}     &             2.111 &             &        1.232 &        3.619 &            0.007  \\\\\n",
       "\\textbf{Log odds ratio} &             0.747 &       0.275 &        0.208 &        1.286 &            0.007  \\\\\n",
       "\\textbf{Risk ratio}     &             1.594 &             &        1.115 &        2.279 &            0.011  \\\\\n",
       "\\textbf{Log risk ratio} &             0.466 &       0.182 &        0.108 &        0.824 &            0.011  \\\\\n",
       "\\bottomrule\n",
       "\\end{tabular}\n",
       "\\end{center}"
      ],
      "text/plain": [
       "<class 'statsmodels.iolib.table.SimpleTable'>"
      ]
     },
     "execution_count": 53,
     "metadata": {},
     "output_type": "execute_result"
    }
   ],
   "source": [
    "#Weight Obesity:Healthy(Reference)\n",
    "WeightOb_OR = sm.stats.Table2x2(np.array([[88, 101], \n",
    "                                    [26, 63]]))\n",
    "WeightOb_OR.summary(method='normal')"
   ]
  },
  {
   "cell_type": "code",
   "execution_count": 54,
   "id": "b994c52b",
   "metadata": {},
   "outputs": [
    {
     "data": {
      "text/html": [
       "<table class=\"simpletable\">\n",
       "<tr>\n",
       "         <td></td>        <th>Estimate</th>  <th>SE</th>    <th>LCB</th>   <th>UCB</th>  <th>p-value</th>\n",
       "</tr>\n",
       "<tr>\n",
       "  <th>Odds ratio</th>        <td>3.635</td>      <td></td> <td>1.824</td> <td>7.243</td>   <td>0.000</td>\n",
       "</tr>\n",
       "<tr>\n",
       "  <th>Log odds ratio</th>    <td>1.291</td> <td>0.352</td> <td>0.601</td> <td>1.980</td>   <td>0.000</td>\n",
       "</tr>\n",
       "<tr>\n",
       "  <th>Risk ratio</th>        <td>2.054</td>      <td></td> <td>1.399</td> <td>3.015</td>   <td>0.000</td>\n",
       "</tr>\n",
       "<tr>\n",
       "  <th>Log risk ratio</th>    <td>0.720</td> <td>0.196</td> <td>0.336</td> <td>1.103</td>   <td>0.000</td>\n",
       "</tr>\n",
       "</table>"
      ],
      "text/latex": [
       "\\begin{center}\n",
       "\\begin{tabular}{lccccc}\n",
       "\n",
       "                        & \\textbf{Estimate} & \\textbf{SE} & \\textbf{LCB} & \\textbf{UCB} & \\textbf{p-value}  \\\\\n",
       "\\midrule\n",
       "\\bottomrule\n",
       "\\end{tabular}\n",
       "\\begin{tabular}{lrrrrr}\n",
       "\\textbf{Odds ratio}     &             3.635 &             &        1.824 &        7.243 &            0.000  \\\\\n",
       "\\textbf{Log odds ratio} &             1.291 &       0.352 &        0.601 &        1.980 &            0.000  \\\\\n",
       "\\textbf{Risk ratio}     &             2.054 &             &        1.399 &        3.015 &            0.000  \\\\\n",
       "\\textbf{Log risk ratio} &             0.720 &       0.196 &        0.336 &        1.103 &            0.000  \\\\\n",
       "\\bottomrule\n",
       "\\end{tabular}\n",
       "\\end{center}"
      ],
      "text/plain": [
       "<class 'statsmodels.iolib.table.SimpleTable'>"
      ]
     },
     "execution_count": 54,
     "metadata": {},
     "output_type": "execute_result"
    }
   ],
   "source": [
    "#Weight 3Obesity:Healthy(Reference)\n",
    "Weight3Ob_OR = sm.stats.Table2x2(np.array([[36, 24], \n",
    "                                    [26, 63]]))\n",
    "Weight3Ob_OR.summary(method='normal')"
   ]
  },
  {
   "cell_type": "code",
   "execution_count": 55,
   "id": "11d5c445",
   "metadata": {},
   "outputs": [
    {
     "data": {
      "text/html": [
       "<table class=\"simpletable\">\n",
       "<tr>\n",
       "         <td></td>        <th>Estimate</th>  <th>SE</th>     <th>LCB</th>    <th>UCB</th>  <th>p-value</th>\n",
       "</tr>\n",
       "<tr>\n",
       "  <th>Odds ratio</th>        <td>4.491</td>      <td></td>  <td>0.857</td> <td>23.539</td>   <td>0.076</td>\n",
       "</tr>\n",
       "<tr>\n",
       "  <th>Log odds ratio</th>    <td>1.502</td> <td>0.845</td> <td>-0.155</td>  <td>3.159</td>   <td>0.076</td>\n",
       "</tr>\n",
       "<tr>\n",
       "  <th>Risk ratio</th>        <td>1.997</td>      <td></td>  <td>1.221</td>  <td>3.268</td>   <td>0.006</td>\n",
       "</tr>\n",
       "<tr>\n",
       "  <th>Log risk ratio</th>    <td>0.692</td> <td>0.251</td>  <td>0.200</td>  <td>1.184</td>   <td>0.006</td>\n",
       "</tr>\n",
       "</table>"
      ],
      "text/latex": [
       "\\begin{center}\n",
       "\\begin{tabular}{lccccc}\n",
       "\n",
       "                        & \\textbf{Estimate} & \\textbf{SE} & \\textbf{LCB} & \\textbf{UCB} & \\textbf{p-value}  \\\\\n",
       "\\midrule\n",
       "\\bottomrule\n",
       "\\end{tabular}\n",
       "\\begin{tabular}{lrrrrr}\n",
       "\\textbf{Odds ratio}     &             4.491 &             &        0.857 &       23.539 &            0.076  \\\\\n",
       "\\textbf{Log odds ratio} &             1.502 &       0.845 &       -0.155 &        3.159 &            0.076  \\\\\n",
       "\\textbf{Risk ratio}     &             1.997 &             &        1.221 &        3.268 &            0.006  \\\\\n",
       "\\textbf{Log risk ratio} &             0.692 &       0.251 &        0.200 &        1.184 &            0.006  \\\\\n",
       "\\bottomrule\n",
       "\\end{tabular}\n",
       "\\end{center}"
      ],
      "text/plain": [
       "<class 'statsmodels.iolib.table.SimpleTable'>"
      ]
     },
     "execution_count": 55,
     "metadata": {},
     "output_type": "execute_result"
    }
   ],
   "source": [
    "#VitaminD Severe Deficiency:Sufficient(Reference)\n",
    "VitDSD_OR = sm.stats.Table2x2(np.array([[5, 2], \n",
    "                                    [108, 194]]))\n",
    "VitDSD_OR.summary(method='normal')"
   ]
  },
  {
   "cell_type": "code",
   "execution_count": 56,
   "id": "f1db989b",
   "metadata": {},
   "outputs": [
    {
     "data": {
      "text/html": [
       "<table class=\"simpletable\">\n",
       "<tr>\n",
       "         <td></td>        <th>Estimate</th>  <th>SE</th>     <th>LCB</th>   <th>UCB</th>  <th>p-value</th>\n",
       "</tr>\n",
       "<tr>\n",
       "  <th>Odds ratio</th>        <td>1.479</td>      <td></td>  <td>0.851</td> <td>2.571</td>   <td>0.165</td>\n",
       "</tr>\n",
       "<tr>\n",
       "  <th>Log odds ratio</th>    <td>0.392</td> <td>0.282</td> <td>-0.161</td> <td>0.944</td>   <td>0.165</td>\n",
       "</tr>\n",
       "<tr>\n",
       "  <th>Risk ratio</th>        <td>1.263</td>      <td></td>  <td>0.923</td> <td>1.727</td>   <td>0.144</td>\n",
       "</tr>\n",
       "<tr>\n",
       "  <th>Log risk ratio</th>    <td>0.233</td> <td>0.160</td> <td>-0.080</td> <td>0.547</td>   <td>0.144</td>\n",
       "</tr>\n",
       "</table>"
      ],
      "text/latex": [
       "\\begin{center}\n",
       "\\begin{tabular}{lccccc}\n",
       "\n",
       "                        & \\textbf{Estimate} & \\textbf{SE} & \\textbf{LCB} & \\textbf{UCB} & \\textbf{p-value}  \\\\\n",
       "\\midrule\n",
       "\\bottomrule\n",
       "\\end{tabular}\n",
       "\\begin{tabular}{lrrrrr}\n",
       "\\textbf{Odds ratio}     &             1.479 &             &        0.851 &        2.571 &            0.165  \\\\\n",
       "\\textbf{Log odds ratio} &             0.392 &       0.282 &       -0.161 &        0.944 &            0.165  \\\\\n",
       "\\textbf{Risk ratio}     &             1.263 &             &        0.923 &        1.727 &            0.144  \\\\\n",
       "\\textbf{Log risk ratio} &             0.233 &       0.160 &       -0.080 &        0.547 &            0.144  \\\\\n",
       "\\bottomrule\n",
       "\\end{tabular}\n",
       "\\end{center}"
      ],
      "text/plain": [
       "<class 'statsmodels.iolib.table.SimpleTable'>"
      ]
     },
     "execution_count": 56,
     "metadata": {},
     "output_type": "execute_result"
    }
   ],
   "source": [
    "#VitaminD Moderate Deficiency:Sufficient(Reference)\n",
    "VitDMD_OR = sm.stats.Table2x2(np.array([[28, 34], \n",
    "                                    [108, 194]]))\n",
    "VitDMD_OR.summary(method='normal')"
   ]
  },
  {
   "cell_type": "code",
   "execution_count": 57,
   "id": "7ee3636f",
   "metadata": {},
   "outputs": [
    {
     "data": {
      "text/html": [
       "<table class=\"simpletable\">\n",
       "<tr>\n",
       "         <td></td>        <th>Estimate</th>  <th>SE</th>    <th>LCB</th>   <th>UCB</th>  <th>p-value</th>\n",
       "</tr>\n",
       "<tr>\n",
       "  <th>Odds ratio</th>        <td>1.880</td>      <td></td> <td>1.241</td> <td>2.849</td>   <td>0.003</td>\n",
       "</tr>\n",
       "<tr>\n",
       "  <th>Log odds ratio</th>    <td>0.632</td> <td>0.212</td> <td>0.216</td> <td>1.047</td>   <td>0.003</td>\n",
       "</tr>\n",
       "<tr>\n",
       "  <th>Risk ratio</th>        <td>1.430</td>      <td></td> <td>1.141</td> <td>1.792</td>   <td>0.002</td>\n",
       "</tr>\n",
       "<tr>\n",
       "  <th>Log risk ratio</th>    <td>0.358</td> <td>0.115</td> <td>0.132</td> <td>0.583</td>   <td>0.002</td>\n",
       "</tr>\n",
       "</table>"
      ],
      "text/latex": [
       "\\begin{center}\n",
       "\\begin{tabular}{lccccc}\n",
       "\n",
       "                        & \\textbf{Estimate} & \\textbf{SE} & \\textbf{LCB} & \\textbf{UCB} & \\textbf{p-value}  \\\\\n",
       "\\midrule\n",
       "\\bottomrule\n",
       "\\end{tabular}\n",
       "\\begin{tabular}{lrrrrr}\n",
       "\\textbf{Odds ratio}     &             1.880 &             &        1.241 &        2.849 &            0.003  \\\\\n",
       "\\textbf{Log odds ratio} &             0.632 &       0.212 &        0.216 &        1.047 &            0.003  \\\\\n",
       "\\textbf{Risk ratio}     &             1.430 &             &        1.141 &        1.792 &            0.002  \\\\\n",
       "\\textbf{Log risk ratio} &             0.358 &       0.115 &        0.132 &        0.583 &            0.002  \\\\\n",
       "\\bottomrule\n",
       "\\end{tabular}\n",
       "\\end{center}"
      ],
      "text/plain": [
       "<class 'statsmodels.iolib.table.SimpleTable'>"
      ]
     },
     "execution_count": 57,
     "metadata": {},
     "output_type": "execute_result"
    }
   ],
   "source": [
    "#VitaminD Insufficient:Sufficient(Reference)\n",
    "VitDI_OR = sm.stats.Table2x2(np.array([[67, 64], \n",
    "                                    [108, 194]]))\n",
    "VitDI_OR.summary(method='normal')"
   ]
  },
  {
   "cell_type": "code",
   "execution_count": 58,
   "id": "8fdf7d39",
   "metadata": {},
   "outputs": [
    {
     "data": {
      "text/html": [
       "<table class=\"simpletable\">\n",
       "<tr>\n",
       "         <td></td>        <th>Estimate</th>  <th>SE</th>     <th>LCB</th>   <th>UCB</th>  <th>p-value</th>\n",
       "</tr>\n",
       "<tr>\n",
       "  <th>Odds ratio</th>        <td>1.367</td>      <td></td>  <td>0.917</td> <td>2.039</td>   <td>0.125</td>\n",
       "</tr>\n",
       "<tr>\n",
       "  <th>Log odds ratio</th>    <td>0.313</td> <td>0.204</td> <td>-0.087</td> <td>0.712</td>   <td>0.125</td>\n",
       "</tr>\n",
       "<tr>\n",
       "  <th>Risk ratio</th>        <td>1.199</td>      <td></td>  <td>0.955</td> <td>1.504</td>   <td>0.117</td>\n",
       "</tr>\n",
       "<tr>\n",
       "  <th>Log risk ratio</th>    <td>0.181</td> <td>0.116</td> <td>-0.046</td> <td>0.408</td>   <td>0.117</td>\n",
       "</tr>\n",
       "</table>"
      ],
      "text/latex": [
       "\\begin{center}\n",
       "\\begin{tabular}{lccccc}\n",
       "\n",
       "                        & \\textbf{Estimate} & \\textbf{SE} & \\textbf{LCB} & \\textbf{UCB} & \\textbf{p-value}  \\\\\n",
       "\\midrule\n",
       "\\bottomrule\n",
       "\\end{tabular}\n",
       "\\begin{tabular}{lrrrrr}\n",
       "\\textbf{Odds ratio}     &             1.367 &             &        0.917 &        2.039 &            0.125  \\\\\n",
       "\\textbf{Log odds ratio} &             0.313 &       0.204 &       -0.087 &        0.712 &            0.125  \\\\\n",
       "\\textbf{Risk ratio}     &             1.199 &             &        0.955 &        1.504 &            0.117  \\\\\n",
       "\\textbf{Log risk ratio} &             0.181 &       0.116 &       -0.046 &        0.408 &            0.117  \\\\\n",
       "\\bottomrule\n",
       "\\end{tabular}\n",
       "\\end{center}"
      ],
      "text/plain": [
       "<class 'statsmodels.iolib.table.SimpleTable'>"
      ]
     },
     "execution_count": 58,
     "metadata": {},
     "output_type": "execute_result"
    }
   ],
   "source": [
    "#CRP Nor or minor elevation: Normal(Reference)\n",
    "CRPNoM_OR = sm.stats.Table2x2(np.array([[67, 79], \n",
    "                                    [116, 187]]))\n",
    "CRPNoM_OR.summary(method='normal')"
   ]
  },
  {
   "cell_type": "code",
   "execution_count": 59,
   "id": "998e60fb",
   "metadata": {},
   "outputs": [
    {
     "data": {
      "text/html": [
       "<table class=\"simpletable\">\n",
       "<tr>\n",
       "         <td></td>        <th>Estimate</th>  <th>SE</th>     <th>LCB</th>   <th>UCB</th>  <th>p-value</th>\n",
       "</tr>\n",
       "<tr>\n",
       "  <th>Odds ratio</th>        <td>1.439</td>      <td></td>  <td>0.800</td> <td>2.589</td>   <td>0.224</td>\n",
       "</tr>\n",
       "<tr>\n",
       "  <th>Log odds ratio</th>    <td>0.364</td> <td>0.299</td> <td>-0.223</td> <td>0.951</td>   <td>0.224</td>\n",
       "</tr>\n",
       "<tr>\n",
       "  <th>Risk ratio</th>        <td>1.232</td>      <td></td>  <td>0.896</td> <td>1.695</td>   <td>0.199</td>\n",
       "</tr>\n",
       "<tr>\n",
       "  <th>Log risk ratio</th>    <td>0.209</td> <td>0.163</td> <td>-0.110</td> <td>0.527</td>   <td>0.199</td>\n",
       "</tr>\n",
       "</table>"
      ],
      "text/latex": [
       "\\begin{center}\n",
       "\\begin{tabular}{lccccc}\n",
       "\n",
       "                        & \\textbf{Estimate} & \\textbf{SE} & \\textbf{LCB} & \\textbf{UCB} & \\textbf{p-value}  \\\\\n",
       "\\midrule\n",
       "\\bottomrule\n",
       "\\end{tabular}\n",
       "\\begin{tabular}{lrrrrr}\n",
       "\\textbf{Odds ratio}     &             1.439 &             &        0.800 &        2.589 &            0.224  \\\\\n",
       "\\textbf{Log odds ratio} &             0.364 &       0.299 &       -0.223 &        0.951 &            0.224  \\\\\n",
       "\\textbf{Risk ratio}     &             1.232 &             &        0.896 &        1.695 &            0.199  \\\\\n",
       "\\textbf{Log risk ratio} &             0.209 &       0.163 &       -0.110 &        0.527 &            0.199  \\\\\n",
       "\\bottomrule\n",
       "\\end{tabular}\n",
       "\\end{center}"
      ],
      "text/plain": [
       "<class 'statsmodels.iolib.table.SimpleTable'>"
      ]
     },
     "execution_count": 59,
     "metadata": {},
     "output_type": "execute_result"
    }
   ],
   "source": [
    "#CRP Moderate elevation: Normal(Reference)\n",
    "CRPNoM_OR = sm.stats.Table2x2(np.array([[25, 28], \n",
    "                                    [116, 187]]))\n",
    "CRPNoM_OR.summary(method='normal')"
   ]
  },
  {
   "cell_type": "markdown",
   "id": "1435588c",
   "metadata": {},
   "source": [
    "# Tests of Significance"
   ]
  },
  {
   "cell_type": "code",
   "execution_count": 60,
   "id": "4d135fd4",
   "metadata": {},
   "outputs": [
    {
     "data": {
      "text/plain": [
       "Chi2ContingencyResult(statistic=0.23820912293488747, pvalue=0.6255025830931848, dof=1, expected_freq=array([[106.58964143,  75.41035857],\n",
       "       [187.41035857, 132.58964143]]))"
      ]
     },
     "execution_count": 60,
     "metadata": {},
     "output_type": "execute_result"
    }
   ],
   "source": [
    "# Gender\n",
    "table_Gender = np.array([[104, 78],[190, 130]])\n",
    "stats.chi2_contingency(table_Gender,\n",
    "                      correction=False)"
   ]
  },
  {
   "cell_type": "code",
   "execution_count": 61,
   "id": "29a49e2a",
   "metadata": {},
   "outputs": [
    {
     "data": {
      "text/plain": [
       "Chi2ContingencyResult(statistic=14.68625544527563, pvalue=0.011790508997418299, dof=5, expected_freq=array([[ 22.25498008,  15.74501992],\n",
       "       [ 18.15537849,  12.84462151],\n",
       "       [169.84063745, 120.15936255],\n",
       "       [ 44.50996016,  31.49003984],\n",
       "       [ 18.74103586,  13.25896414],\n",
       "       [ 20.49800797,  14.50199203]]))"
      ]
     },
     "execution_count": 61,
     "metadata": {},
     "output_type": "execute_result"
    }
   ],
   "source": [
    "# Race\n",
    "table_Race = np.array([[27, 11], [19, 12], [165, 125], [38, 38], [27, 5], [18, 17]])\n",
    "stats.chi2_contingency(table_Race,\n",
    "                      correction=False)"
   ]
  },
  {
   "cell_type": "code",
   "execution_count": 62,
   "id": "83881759",
   "metadata": {},
   "outputs": [
    {
     "data": {
      "text/plain": [
       "Chi2ContingencyResult(statistic=1.9893116697341375, pvalue=0.7377248814422357, dof=4, expected_freq=array([[ 11.71314741,   8.28685259],\n",
       "       [ 30.45418327,  21.54581673],\n",
       "       [ 74.96414343,  53.03585657],\n",
       "       [110.10358566,  77.89641434],\n",
       "       [ 66.76494024,  47.23505976]]))"
      ]
     },
     "execution_count": 62,
     "metadata": {},
     "output_type": "execute_result"
    }
   ],
   "source": [
    "# Education Level\n",
    "table_Education = np.array([[13, 7], [33, 19], [78, 50], [104, 84], [66, 48]])\n",
    "stats.chi2_contingency(table_Education,\n",
    "                      correction=False)"
   ]
  },
  {
   "cell_type": "code",
   "execution_count": 63,
   "id": "6111dd7a",
   "metadata": {},
   "outputs": [
    {
     "data": {
      "text/plain": [
       "Chi2ContingencyResult(statistic=11.697495045002018, pvalue=0.00849462869927869, dof=3, expected_freq=array([[ 39.23904382,  27.76095618],\n",
       "       [ 91.3625498 ,  64.6374502 ],\n",
       "       [ 45.6812749 ,  32.3187251 ],\n",
       "       [117.71713147,  83.28286853]]))"
      ]
     },
     "execution_count": 63,
     "metadata": {},
     "output_type": "execute_result"
    }
   ],
   "source": [
    "# Poverty Level\n",
    "table_Poverty = np.array([[27, 40], [96, 60], [44, 34], [127, 74]])\n",
    "stats.chi2_contingency(table_Poverty,\n",
    "                      correction=False)"
   ]
  },
  {
   "cell_type": "code",
   "execution_count": 64,
   "id": "dd6738e2",
   "metadata": {},
   "outputs": [
    {
     "data": {
      "text/plain": [
       "Chi2ContingencyResult(statistic=9.791046472125053, pvalue=0.00747999439698262, dof=2, expected_freq=array([[ 38.06772908,  26.93227092],\n",
       "       [149.34262948, 105.65737052],\n",
       "       [106.58964143,  75.41035857]]))"
      ]
     },
     "execution_count": 64,
     "metadata": {},
     "output_type": "execute_result"
    }
   ],
   "source": [
    "# Waist Level\n",
    "table_Waist = np.array([[41, 24], [163, 92], [90, 92]])\n",
    "stats.chi2_contingency(table_Waist,\n",
    "                      correction=False)"
   ]
  },
  {
   "cell_type": "code",
   "execution_count": 65,
   "id": "5e978922",
   "metadata": {},
   "outputs": [
    {
     "data": {
      "text/plain": [
       "Chi2ContingencyResult(statistic=19.085549971355235, pvalue=0.0007561020562596759, dof=4, expected_freq=array([[  3.51394422,   2.48605578],\n",
       "       [ 52.12350598,  36.87649402],\n",
       "       [ 92.53386454,  65.46613546],\n",
       "       [110.68924303,  78.31075697],\n",
       "       [ 35.13944223,  24.86055777]]))"
      ]
     },
     "execution_count": 65,
     "metadata": {},
     "output_type": "execute_result"
    }
   ],
   "source": [
    "# Weight Level\n",
    "table_Weight = np.array([[3, 3], [63, 26], [103, 55],[101, 88],[24, 36]])\n",
    "stats.chi2_contingency(table_Weight,\n",
    "                      correction=False)"
   ]
  },
  {
   "cell_type": "code",
   "execution_count": 66,
   "id": "b2017ef0",
   "metadata": {},
   "outputs": [
    {
     "data": {
      "text/plain": [
       "Chi2ContingencyResult(statistic=12.04558292041948, pvalue=0.007228632696660301, dof=3, expected_freq=array([[  4.09960159,   2.90039841],\n",
       "       [ 36.31075697,  25.68924303],\n",
       "       [ 76.72111554,  54.27888446],\n",
       "       [176.8685259 , 125.1314741 ]]))"
      ]
     },
     "execution_count": 66,
     "metadata": {},
     "output_type": "execute_result"
    }
   ],
   "source": [
    "# VitaminD Level\n",
    "table_VitD = np.array([[2, 5], [34, 28], [64, 67],[194, 108]])\n",
    "stats.chi2_contingency(table_VitD,\n",
    "                      correction=False)"
   ]
  },
  {
   "cell_type": "code",
   "execution_count": 67,
   "id": "aa09c555",
   "metadata": {},
   "outputs": [
    {
     "data": {
      "text/plain": [
       "Chi2ContingencyResult(statistic=3.1525314864042246, pvalue=0.20674570003262507, dof=2, expected_freq=array([[177.45418327, 125.54581673],\n",
       "       [ 85.5059761 ,  60.4940239 ],\n",
       "       [ 31.03984064,  21.96015936]]))"
      ]
     },
     "execution_count": 67,
     "metadata": {},
     "output_type": "execute_result"
    }
   ],
   "source": [
    "# CRP Level\n",
    "table_CRP = np.array([[187, 116], [79, 67], [28, 25]])\n",
    "stats.chi2_contingency(table_CRP,\n",
    "                      correction=False)"
   ]
  },
  {
   "cell_type": "markdown",
   "id": "b0382a91",
   "metadata": {},
   "source": [
    "# Table 2: Logistic Regression"
   ]
  },
  {
   "cell_type": "code",
   "execution_count": 57,
   "id": "89fc7c8b",
   "metadata": {},
   "outputs": [],
   "source": [
    "# Logistic Regression\n",
    "# Using statsmodel package (compatible with R software)\n",
    "import statsmodels.formula.api as smf # similar to R formula\n",
    "import statsmodels.api as sm          # similar to sklear\n",
    "import numpy as np"
   ]
  },
  {
   "cell_type": "code",
   "execution_count": 52,
   "id": "72e5b212",
   "metadata": {},
   "outputs": [],
   "source": [
    "OA_patients = OA_patients.astype('int64')"
   ]
  },
  {
   "cell_type": "code",
   "execution_count": 54,
   "id": "033b993b",
   "metadata": {},
   "outputs": [
    {
     "name": "stdout",
     "output_type": "stream",
     "text": [
      "<class 'pandas.core.frame.DataFrame'>\n",
      "Index: 502 entries, 0 to 710\n",
      "Data columns (total 19 columns):\n",
      " #   Column                              Non-Null Count  Dtype   \n",
      "---  ------                              --------------  -----   \n",
      " 0   SEQN                                502 non-null    int64   \n",
      " 1   Doctor ever said you had arthritis  502 non-null    int64   \n",
      " 2   Age when told you had arthritis     502 non-null    int64   \n",
      " 3   Which type of arthritis was it?     502 non-null    int64   \n",
      " 4   Gender                              502 non-null    int64   \n",
      " 5   Age in years at screening           502 non-null    int64   \n",
      " 6   Race/Hispanic origin w/ NH Asian    502 non-null    category\n",
      " 7   Education level - Adults 20+        502 non-null    category\n",
      " 8   Ratio of family income to poverty   502 non-null    int64   \n",
      " 9   Body Mass Index (kg/m**2)           502 non-null    int64   \n",
      " 10  Waist Circumference (cm)            502 non-null    int64   \n",
      " 11  Vitamin D Level (nmol/L)            502 non-null    int64   \n",
      " 12  HS C-Reactive Protein (mg/L)        502 non-null    int64   \n",
      " 13  Early Onset of OA                   502 non-null    int64   \n",
      " 14  Poverty Level                       502 non-null    category\n",
      " 15  VitaminD Level                      502 non-null    category\n",
      " 16  CRP Level                           502 non-null    category\n",
      " 17  Weight Level                        502 non-null    category\n",
      " 18  Waistline Level                     502 non-null    int64   \n",
      "dtypes: category(6), int64(13)\n",
      "memory usage: 75.2 KB\n"
     ]
    }
   ],
   "source": [
    "OA_patients.info()"
   ]
  },
  {
   "cell_type": "code",
   "execution_count": 53,
   "id": "6a70f021",
   "metadata": {},
   "outputs": [],
   "source": [
    "OA_patients['Race/Hispanic origin w/ NH Asian'] = pd.Categorical(OA_patients['Race/Hispanic origin w/ NH Asian'],categories=[3,1,2,4,6,7],ordered=True)\n",
    "OA_patients['Education level - Adults 20+'] = pd.Categorical(OA_patients['Education level - Adults 20+'],categories=[4,1,2,3,5],ordered=True)\n",
    "OA_patients['Poverty Level'] = pd.Categorical(OA_patients['Poverty Level'],categories=[3,1,2,4],ordered=True)\n",
    "OA_patients['Weight Level'] = pd.Categorical(OA_patients['Weight Level'],categories=[2,1,3,4,5],ordered=True)\n",
    "OA_patients['VitaminD Level'] = pd.Categorical(OA_patients['VitaminD Level'],categories=[4,1,2,3],ordered=True)\n",
    "OA_patients['CRP Level'] = pd.Categorical(OA_patients['CRP Level'],categories=[1,2,3],ordered=True)"
   ]
  },
  {
   "cell_type": "code",
   "execution_count": 64,
   "id": "02b7aea5",
   "metadata": {
    "scrolled": false
   },
   "outputs": [
    {
     "name": "stdout",
     "output_type": "stream",
     "text": [
      "Optimization terminated successfully.\n",
      "         Current function value: 0.647195\n",
      "         Iterations 6\n",
      "                             Logit Regression Results                             \n",
      "==================================================================================\n",
      "Dep. Variable:     Q('Early Onset of OA')   No. Observations:                  502\n",
      "Model:                              Logit   Df Residuals:                      488\n",
      "Method:                               MLE   Df Model:                           13\n",
      "Date:                    Tue, 05 Dec 2023   Pseudo R-squ.:                 0.04600\n",
      "Time:                            03:21:58   Log-Likelihood:                -324.89\n",
      "converged:                           True   LL-Null:                       -340.56\n",
      "Covariance Type:                nonrobust   LLR p-value:                  0.003016\n",
      "=================================================================================================================\n",
      "                                                    coef    std err          z      P>|z|      [0.025      0.975]\n",
      "-----------------------------------------------------------------------------------------------------------------\n",
      "Intercept                                        -0.0571      0.300     -0.190      0.849      -0.645       0.531\n",
      "C(Gender)[T.2]                                   -0.0201      0.199     -0.101      0.919      -0.410       0.370\n",
      "C(Q('Race/Hispanic origin w/ NH Asian'))[T.1]    -0.6506      0.391     -1.663      0.096      -1.417       0.116\n",
      "C(Q('Race/Hispanic origin w/ NH Asian'))[T.2]    -0.1938      0.400     -0.485      0.628      -0.978       0.590\n",
      "C(Q('Race/Hispanic origin w/ NH Asian'))[T.4]     0.1808      0.265      0.681      0.496      -0.339       0.701\n",
      "C(Q('Race/Hispanic origin w/ NH Asian'))[T.6]    -1.4308      0.514     -2.785      0.005      -2.438      -0.424\n",
      "C(Q('Race/Hispanic origin w/ NH Asian'))[T.7]     0.2500      0.367      0.681      0.496      -0.470       0.970\n",
      "C(Q('Poverty Level'))[T.1]                        0.7702      0.350      2.201      0.028       0.084       1.456\n",
      "C(Q('Poverty Level'))[T.2]                       -0.1627      0.292     -0.557      0.577      -0.735       0.409\n",
      "C(Q('Poverty Level'))[T.4]                       -0.3617      0.289     -1.250      0.211      -0.929       0.206\n",
      "C(Q('Education level - Adults 20+'))[T.1]        -0.1053      0.530     -0.199      0.843      -1.144       0.934\n",
      "C(Q('Education level - Adults 20+'))[T.2]        -0.5171      0.342     -1.511      0.131      -1.188       0.154\n",
      "C(Q('Education level - Adults 20+'))[T.3]        -0.3226      0.245     -1.318      0.188      -0.802       0.157\n",
      "C(Q('Education level - Adults 20+'))[T.5]         0.1545      0.260      0.594      0.552      -0.355       0.664\n",
      "=================================================================================================================\n"
     ]
    }
   ],
   "source": [
    "results=smf.logit(\"Q('Early Onset of OA') ~  C(Gender) + C(Q('Race/Hispanic origin w/ NH Asian'))  + C(Q('Poverty Level')) + C(Q('Education level - Adults 20+'))\"  ,\n",
    "                  data =OA_patients).fit()\n",
    "print(results.summary())"
   ]
  },
  {
   "cell_type": "code",
   "execution_count": 65,
   "id": "4031fbd3",
   "metadata": {},
   "outputs": [
    {
     "name": "stdout",
     "output_type": "stream",
     "text": [
      "                                                                                              \\\n",
      "Intercept                                                                          Intercept   \n",
      "C(Gender)[T.2]                                                                C(Gender)[T.2]   \n",
      "C(Q('Race/Hispanic origin w/ NH Asian'))[T.1]  C(Q('Race/Hispanic origin w/ NH Asian'))[T.1]   \n",
      "C(Q('Race/Hispanic origin w/ NH Asian'))[T.2]  C(Q('Race/Hispanic origin w/ NH Asian'))[T.2]   \n",
      "C(Q('Race/Hispanic origin w/ NH Asian'))[T.4]  C(Q('Race/Hispanic origin w/ NH Asian'))[T.4]   \n",
      "C(Q('Race/Hispanic origin w/ NH Asian'))[T.6]  C(Q('Race/Hispanic origin w/ NH Asian'))[T.6]   \n",
      "C(Q('Race/Hispanic origin w/ NH Asian'))[T.7]  C(Q('Race/Hispanic origin w/ NH Asian'))[T.7]   \n",
      "C(Q('Poverty Level'))[T.1]                                        C(Q('Poverty Level'))[T.1]   \n",
      "C(Q('Poverty Level'))[T.2]                                        C(Q('Poverty Level'))[T.2]   \n",
      "C(Q('Poverty Level'))[T.4]                                        C(Q('Poverty Level'))[T.4]   \n",
      "C(Q('Education level - Adults 20+'))[T.1]          C(Q('Education level - Adults 20+'))[T.1]   \n",
      "C(Q('Education level - Adults 20+'))[T.2]          C(Q('Education level - Adults 20+'))[T.2]   \n",
      "C(Q('Education level - Adults 20+'))[T.3]          C(Q('Education level - Adults 20+'))[T.3]   \n",
      "C(Q('Education level - Adults 20+'))[T.5]          C(Q('Education level - Adults 20+'))[T.5]   \n",
      "\n",
      "                                                   OR  Lower CI  Upper CI  \\\n",
      "Intercept                                      0.9445  0.524796    1.7000   \n",
      "C(Gender)[T.2]                                 0.9801  0.663720    1.4473   \n",
      "C(Q('Race/Hispanic origin w/ NH Asian'))[T.1]  0.5217  0.242411    1.1230   \n",
      "C(Q('Race/Hispanic origin w/ NH Asian'))[T.2]  0.8238  0.376090    1.8045   \n",
      "C(Q('Race/Hispanic origin w/ NH Asian'))[T.4]  1.1982  0.712135    2.0160   \n",
      "C(Q('Race/Hispanic origin w/ NH Asian'))[T.6]  0.2391  0.087358    0.6545   \n",
      "C(Q('Race/Hispanic origin w/ NH Asian'))[T.7]  1.2840  0.625271    2.6369   \n",
      "C(Q('Poverty Level'))[T.1]                     2.1603  1.087937    4.2896   \n",
      "C(Q('Poverty Level'))[T.2]                     0.8498  0.479619    1.5059   \n",
      "C(Q('Poverty Level'))[T.4]                     0.6965  0.394934    1.2282   \n",
      "C(Q('Education level - Adults 20+'))[T.1]      0.9001  0.318443    2.5440   \n",
      "C(Q('Education level - Adults 20+'))[T.2]      0.5963  0.304904    1.1660   \n",
      "C(Q('Education level - Adults 20+'))[T.3]      0.7243  0.448300    1.1702   \n",
      "C(Q('Education level - Adults 20+'))[T.5]      1.1670  0.701119    1.9426   \n",
      "\n",
      "                                               P value  Z stat  \n",
      "Intercept                                       0.8491 -0.1903  \n",
      "C(Gender)[T.2]                                  0.9194 -0.1011  \n",
      "C(Q('Race/Hispanic origin w/ NH Asian'))[T.1]   0.0962 -1.6634  \n",
      "C(Q('Race/Hispanic origin w/ NH Asian'))[T.2]   0.6280 -0.4845  \n",
      "C(Q('Race/Hispanic origin w/ NH Asian'))[T.4]   0.4958  0.6811  \n",
      "C(Q('Race/Hispanic origin w/ NH Asian'))[T.6]   0.0054 -2.7851  \n",
      "C(Q('Race/Hispanic origin w/ NH Asian'))[T.7]   0.4959  0.6810  \n",
      "C(Q('Poverty Level'))[T.1]                      0.0278  2.2008  \n",
      "C(Q('Poverty Level'))[T.2]                      0.5772 -0.5574  \n",
      "C(Q('Poverty Level'))[T.4]                      0.2114 -1.2498  \n",
      "C(Q('Education level - Adults 20+'))[T.1]       0.8426 -0.1986  \n",
      "C(Q('Education level - Adults 20+'))[T.2]       0.1308 -1.5111  \n",
      "C(Q('Education level - Adults 20+'))[T.3]       0.1876 -1.3178  \n",
      "C(Q('Education level - Adults 20+'))[T.5]       0.5524  0.5942  \n"
     ]
    }
   ],
   "source": [
    "odds_ratios_adjusted = pd.DataFrame(\n",
    "    {\n",
    "        \" \": results.params.index,   \n",
    "        \"OR\": round(np.exp(results.params),4),\n",
    "        \"Lower CI\": np.exp(results.conf_int()[0]),\n",
    "        \"Upper CI\": round(np.exp(results.conf_int()[1]),4),\n",
    "        \"P value\": round(results.pvalues,4),\n",
    "        \"Z stat\": round(results.tvalues,4)\n",
    "    }\n",
    ")\n",
    "\n",
    "\n",
    "print(odds_ratios_adjusted)\n",
    "odds_ratios_adjusted.to_excel('oddsratios_adjusted_OA_Patients.xlsx', index=False)"
   ]
  }
 ],
 "metadata": {
  "kernelspec": {
   "display_name": "Python 3 (ipykernel)",
   "language": "python",
   "name": "python3"
  },
  "language_info": {
   "codemirror_mode": {
    "name": "ipython",
    "version": 3
   },
   "file_extension": ".py",
   "mimetype": "text/x-python",
   "name": "python",
   "nbconvert_exporter": "python",
   "pygments_lexer": "ipython3",
   "version": "3.11.5"
  }
 },
 "nbformat": 4,
 "nbformat_minor": 5
}

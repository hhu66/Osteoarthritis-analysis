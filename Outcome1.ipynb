{
 "cells": [
  {
   "cell_type": "markdown",
   "id": "e967cb6e",
   "metadata": {},
   "source": [
    "# Import Libraries"
   ]
  },
  {
   "cell_type": "code",
   "execution_count": 1,
   "id": "6eb52b41",
   "metadata": {},
   "outputs": [],
   "source": [
    "import pandas as pd\n",
    "import warnings\n",
    "warnings.filterwarnings('ignore')"
   ]
  },
  {
   "cell_type": "code",
   "execution_count": 2,
   "id": "809c262a",
   "metadata": {},
   "outputs": [],
   "source": [
    "Osteoarthritis = pd.read_csv(\"Huiyi's Data - by Konda.csv\")"
   ]
  },
  {
   "cell_type": "code",
   "execution_count": 3,
   "id": "f1a5ac3b",
   "metadata": {},
   "outputs": [],
   "source": [
    "Osteoarthritis.rename(columns={\"MCQ160A\": \"Doctor ever said you had arthritis\", \n",
    "                   \"MCD180A\": \"Age when told you had arthritis\",\n",
    "                   \"MCQ195\": \"Which type of arthritis was it?\", \n",
    "                   \"RIAGENDR\": \"Gender\",\n",
    "                   \"RIDAGEYR\": \"Age in years at screening\",\n",
    "                   'RIDRETH3': \"Race/Hispanic origin w/ NH Asian\",\n",
    "                   \"DMDEDUC2\": \"Education level - Adults 20+\",\n",
    "                   \"INDFMPIR\":\"Ratio of family income to poverty\",\n",
    "                   \"BMXBMI\":\"Body Mass Index (kg/m**2)\",\n",
    "                   \"BMXWAIST\":\"Waist Circumference (cm)\",\n",
    "                   \"LBXVIDMS\":\"Vitamin D Level (nmol/L)\",\n",
    "                   \"LBXHSCRP\":\"HS C-Reactive Protein (mg/L)\"},inplace=True)"
   ]
  },
  {
   "cell_type": "code",
   "execution_count": 4,
   "id": "2e104752",
   "metadata": {},
   "outputs": [
    {
     "name": "stdout",
     "output_type": "stream",
     "text": [
      "<class 'pandas.core.frame.DataFrame'>\n",
      "RangeIndex: 5552 entries, 0 to 5551\n",
      "Data columns (total 13 columns):\n",
      " #   Column                              Non-Null Count  Dtype  \n",
      "---  ------                              --------------  -----  \n",
      " 0   SEQN                                5552 non-null   int64  \n",
      " 1   Doctor ever said you had arthritis  5552 non-null   int64  \n",
      " 2   Age when told you had arthritis     1663 non-null   float64\n",
      " 3   Which type of arthritis was it?     1695 non-null   float64\n",
      " 4   Gender                              5552 non-null   int64  \n",
      " 5   Age in years at screening           5552 non-null   int64  \n",
      " 6   Race/Hispanic origin w/ NH Asian    5552 non-null   int64  \n",
      " 7   Education level - Adults 20+        5552 non-null   int64  \n",
      " 8   Ratio of family income to poverty   4769 non-null   float64\n",
      " 9   Body Mass Index (kg/m**2)           5163 non-null   float64\n",
      " 10  Waist Circumference (cm)            4926 non-null   float64\n",
      " 11  Vitamin D Level (nmol/L)            4969 non-null   float64\n",
      " 12  HS C-Reactive Protein (mg/L)        4895 non-null   float64\n",
      "dtypes: float64(7), int64(6)\n",
      "memory usage: 564.0 KB\n"
     ]
    }
   ],
   "source": [
    "Osteoarthritis.info()"
   ]
  },
  {
   "cell_type": "markdown",
   "id": "e08f6830",
   "metadata": {},
   "source": [
    "# Eliminate observation with Age < 20"
   ]
  },
  {
   "cell_type": "code",
   "execution_count": 5,
   "id": "237d69b3",
   "metadata": {},
   "outputs": [],
   "source": [
    "Osteoarthritis = Osteoarthritis[(Osteoarthritis['Age in years at screening'] >= 20 )]"
   ]
  },
  {
   "cell_type": "code",
   "execution_count": 6,
   "id": "4ecabd7c",
   "metadata": {},
   "outputs": [
    {
     "name": "stdout",
     "output_type": "stream",
     "text": [
      "<class 'pandas.core.frame.DataFrame'>\n",
      "RangeIndex: 5552 entries, 0 to 5551\n",
      "Data columns (total 13 columns):\n",
      " #   Column                              Non-Null Count  Dtype  \n",
      "---  ------                              --------------  -----  \n",
      " 0   SEQN                                5552 non-null   int64  \n",
      " 1   Doctor ever said you had arthritis  5552 non-null   int64  \n",
      " 2   Age when told you had arthritis     1663 non-null   float64\n",
      " 3   Which type of arthritis was it?     1695 non-null   float64\n",
      " 4   Gender                              5552 non-null   int64  \n",
      " 5   Age in years at screening           5552 non-null   int64  \n",
      " 6   Race/Hispanic origin w/ NH Asian    5552 non-null   int64  \n",
      " 7   Education level - Adults 20+        5552 non-null   int64  \n",
      " 8   Ratio of family income to poverty   4769 non-null   float64\n",
      " 9   Body Mass Index (kg/m**2)           5163 non-null   float64\n",
      " 10  Waist Circumference (cm)            4926 non-null   float64\n",
      " 11  Vitamin D Level (nmol/L)            4969 non-null   float64\n",
      " 12  HS C-Reactive Protein (mg/L)        4895 non-null   float64\n",
      "dtypes: float64(7), int64(6)\n",
      "memory usage: 564.0 KB\n"
     ]
    }
   ],
   "source": [
    "Osteoarthritis.info()"
   ]
  },
  {
   "cell_type": "code",
   "execution_count": 7,
   "id": "3e439d0f",
   "metadata": {},
   "outputs": [],
   "source": [
    "Osteoarthritis.drop(columns={\"Age when told you had arthritis\"},inplace=True)"
   ]
  },
  {
   "cell_type": "markdown",
   "id": "74d8ba5c",
   "metadata": {},
   "source": [
    "# Creating Osteoarthritis Status Column"
   ]
  },
  {
   "cell_type": "code",
   "execution_count": 8,
   "id": "6e47f7f7",
   "metadata": {},
   "outputs": [],
   "source": [
    "def OA_Status(i):\n",
    "    if (i['Doctor ever said you had arthritis'] == 1) and (i['Which type of arthritis was it?'] == 1):\n",
    "        return '1'\n",
    "    elif (i['Doctor ever said you had arthritis'] == 2):\n",
    "        return '0'\n",
    "    else:\n",
    "        return \"Not relevant\"\n",
    "    \n",
    "    \n",
    "Osteoarthritis['Osteoarthritis Status'] = Osteoarthritis.apply(OA_Status,axis=1)"
   ]
  },
  {
   "cell_type": "markdown",
   "id": "d0ba2b80",
   "metadata": {},
   "source": [
    "# OA_patients"
   ]
  },
  {
   "cell_type": "code",
   "execution_count": 9,
   "id": "73887d65",
   "metadata": {
    "scrolled": true
   },
   "outputs": [],
   "source": [
    "#Doctor ever said you had arthritis = 1: Yes\n",
    "#Which type of arthritis was it? = 1: Osteoarthritis or degenerative arthritis\n",
    "OA_patients = Osteoarthritis[(Osteoarthritis['Doctor ever said you had arthritis'] == 1) & (Osteoarthritis['Which type of arthritis was it?'] == 1) ]"
   ]
  },
  {
   "cell_type": "code",
   "execution_count": 10,
   "id": "78b2f412",
   "metadata": {},
   "outputs": [],
   "source": [
    "OA_patients.drop(columns={'Doctor ever said you had arthritis','Which type of arthritis was it?'},inplace=True)"
   ]
  },
  {
   "cell_type": "code",
   "execution_count": 11,
   "id": "3dc235fb",
   "metadata": {},
   "outputs": [],
   "source": [
    "OA_patients.dropna(inplace=True)"
   ]
  },
  {
   "cell_type": "markdown",
   "id": "257e40ec",
   "metadata": {},
   "source": [
    "# Non_OA"
   ]
  },
  {
   "cell_type": "code",
   "execution_count": 12,
   "id": "eb3b4f24",
   "metadata": {},
   "outputs": [],
   "source": [
    "#Doctor ever said you had arthritis = 2: No\n",
    "Non_OA = Osteoarthritis[Osteoarthritis['Doctor ever said you had arthritis'] == 2]"
   ]
  },
  {
   "cell_type": "code",
   "execution_count": 13,
   "id": "7e39d6ad",
   "metadata": {},
   "outputs": [],
   "source": [
    "Non_OA.drop(columns={'Doctor ever said you had arthritis','Which type of arthritis was it?'},inplace=True)"
   ]
  },
  {
   "cell_type": "code",
   "execution_count": 14,
   "id": "b57de230",
   "metadata": {},
   "outputs": [],
   "source": [
    "Non_OA.dropna(inplace=True)"
   ]
  },
  {
   "cell_type": "markdown",
   "id": "591b14d1",
   "metadata": {},
   "source": [
    "# Combining OA_patients and Non_OA"
   ]
  },
  {
   "cell_type": "code",
   "execution_count": 15,
   "id": "83321caf",
   "metadata": {},
   "outputs": [],
   "source": [
    "OA_General = pd.concat([OA_patients, Non_OA])"
   ]
  },
  {
   "cell_type": "code",
   "execution_count": 16,
   "id": "b2147c69",
   "metadata": {},
   "outputs": [
    {
     "data": {
      "text/html": [
       "<div>\n",
       "<style scoped>\n",
       "    .dataframe tbody tr th:only-of-type {\n",
       "        vertical-align: middle;\n",
       "    }\n",
       "\n",
       "    .dataframe tbody tr th {\n",
       "        vertical-align: top;\n",
       "    }\n",
       "\n",
       "    .dataframe thead th {\n",
       "        text-align: right;\n",
       "    }\n",
       "</style>\n",
       "<table border=\"1\" class=\"dataframe\">\n",
       "  <thead>\n",
       "    <tr style=\"text-align: right;\">\n",
       "      <th></th>\n",
       "      <th>SEQN</th>\n",
       "      <th>Gender</th>\n",
       "      <th>Age in years at screening</th>\n",
       "      <th>Race/Hispanic origin w/ NH Asian</th>\n",
       "      <th>Education level - Adults 20+</th>\n",
       "      <th>Ratio of family income to poverty</th>\n",
       "      <th>Body Mass Index (kg/m**2)</th>\n",
       "      <th>Waist Circumference (cm)</th>\n",
       "      <th>Vitamin D Level (nmol/L)</th>\n",
       "      <th>HS C-Reactive Protein (mg/L)</th>\n",
       "      <th>Osteoarthritis Status</th>\n",
       "    </tr>\n",
       "  </thead>\n",
       "  <tbody>\n",
       "    <tr>\n",
       "      <th>1</th>\n",
       "      <td>93708</td>\n",
       "      <td>2</td>\n",
       "      <td>66</td>\n",
       "      <td>6</td>\n",
       "      <td>1</td>\n",
       "      <td>1.63</td>\n",
       "      <td>23.7</td>\n",
       "      <td>88.2</td>\n",
       "      <td>116.0</td>\n",
       "      <td>1.83</td>\n",
       "      <td>1</td>\n",
       "    </tr>\n",
       "    <tr>\n",
       "      <th>4</th>\n",
       "      <td>93715</td>\n",
       "      <td>1</td>\n",
       "      <td>71</td>\n",
       "      <td>7</td>\n",
       "      <td>3</td>\n",
       "      <td>1.56</td>\n",
       "      <td>22.5</td>\n",
       "      <td>89.7</td>\n",
       "      <td>70.6</td>\n",
       "      <td>6.10</td>\n",
       "      <td>1</td>\n",
       "    </tr>\n",
       "    <tr>\n",
       "      <th>6</th>\n",
       "      <td>93723</td>\n",
       "      <td>1</td>\n",
       "      <td>64</td>\n",
       "      <td>3</td>\n",
       "      <td>5</td>\n",
       "      <td>3.69</td>\n",
       "      <td>22.4</td>\n",
       "      <td>82.6</td>\n",
       "      <td>131.0</td>\n",
       "      <td>1.02</td>\n",
       "      <td>1</td>\n",
       "    </tr>\n",
       "    <tr>\n",
       "      <th>8</th>\n",
       "      <td>93742</td>\n",
       "      <td>1</td>\n",
       "      <td>72</td>\n",
       "      <td>4</td>\n",
       "      <td>5</td>\n",
       "      <td>3.62</td>\n",
       "      <td>33.9</td>\n",
       "      <td>115.0</td>\n",
       "      <td>108.0</td>\n",
       "      <td>2.03</td>\n",
       "      <td>1</td>\n",
       "    </tr>\n",
       "    <tr>\n",
       "      <th>11</th>\n",
       "      <td>93758</td>\n",
       "      <td>2</td>\n",
       "      <td>55</td>\n",
       "      <td>3</td>\n",
       "      <td>1</td>\n",
       "      <td>0.75</td>\n",
       "      <td>30.8</td>\n",
       "      <td>101.8</td>\n",
       "      <td>43.3</td>\n",
       "      <td>4.81</td>\n",
       "      <td>1</td>\n",
       "    </tr>\n",
       "  </tbody>\n",
       "</table>\n",
       "</div>"
      ],
      "text/plain": [
       "     SEQN  Gender  Age in years at screening  \\\n",
       "1   93708       2                         66   \n",
       "4   93715       1                         71   \n",
       "6   93723       1                         64   \n",
       "8   93742       1                         72   \n",
       "11  93758       2                         55   \n",
       "\n",
       "    Race/Hispanic origin w/ NH Asian  Education level - Adults 20+  \\\n",
       "1                                  6                             1   \n",
       "4                                  7                             3   \n",
       "6                                  3                             5   \n",
       "8                                  4                             5   \n",
       "11                                 3                             1   \n",
       "\n",
       "    Ratio of family income to poverty  Body Mass Index (kg/m**2)  \\\n",
       "1                                1.63                       23.7   \n",
       "4                                1.56                       22.5   \n",
       "6                                3.69                       22.4   \n",
       "8                                3.62                       33.9   \n",
       "11                               0.75                       30.8   \n",
       "\n",
       "    Waist Circumference (cm)  Vitamin D Level (nmol/L)  \\\n",
       "1                       88.2                     116.0   \n",
       "4                       89.7                      70.6   \n",
       "6                       82.6                     131.0   \n",
       "8                      115.0                     108.0   \n",
       "11                     101.8                      43.3   \n",
       "\n",
       "    HS C-Reactive Protein (mg/L) Osteoarthritis Status  \n",
       "1                           1.83                     1  \n",
       "4                           6.10                     1  \n",
       "6                           1.02                     1  \n",
       "8                           2.03                     1  \n",
       "11                          4.81                     1  "
      ]
     },
     "execution_count": 16,
     "metadata": {},
     "output_type": "execute_result"
    }
   ],
   "source": [
    "OA_General.head()"
   ]
  },
  {
   "cell_type": "code",
   "execution_count": 17,
   "id": "c4d640e4",
   "metadata": {
    "scrolled": true
   },
   "outputs": [
    {
     "data": {
      "text/plain": [
       "Osteoarthritis Status\n",
       "0    2828\n",
       "1     522\n",
       "Name: count, dtype: int64"
      ]
     },
     "execution_count": 17,
     "metadata": {},
     "output_type": "execute_result"
    }
   ],
   "source": [
    "OA_General['Osteoarthritis Status'].value_counts()"
   ]
  },
  {
   "cell_type": "code",
   "execution_count": 18,
   "id": "72b21c14",
   "metadata": {},
   "outputs": [
    {
     "name": "stdout",
     "output_type": "stream",
     "text": [
      "<class 'pandas.core.frame.DataFrame'>\n",
      "Index: 3350 entries, 1 to 5551\n",
      "Data columns (total 11 columns):\n",
      " #   Column                             Non-Null Count  Dtype  \n",
      "---  ------                             --------------  -----  \n",
      " 0   SEQN                               3350 non-null   int64  \n",
      " 1   Gender                             3350 non-null   int64  \n",
      " 2   Age in years at screening          3350 non-null   int64  \n",
      " 3   Race/Hispanic origin w/ NH Asian   3350 non-null   int64  \n",
      " 4   Education level - Adults 20+       3350 non-null   int64  \n",
      " 5   Ratio of family income to poverty  3350 non-null   float64\n",
      " 6   Body Mass Index (kg/m**2)          3350 non-null   float64\n",
      " 7   Waist Circumference (cm)           3350 non-null   float64\n",
      " 8   Vitamin D Level (nmol/L)           3350 non-null   float64\n",
      " 9   HS C-Reactive Protein (mg/L)       3350 non-null   float64\n",
      " 10  Osteoarthritis Status              3350 non-null   object \n",
      "dtypes: float64(5), int64(5), object(1)\n",
      "memory usage: 314.1+ KB\n"
     ]
    }
   ],
   "source": [
    "OA_General.info()"
   ]
  },
  {
   "cell_type": "markdown",
   "id": "abfe3c26",
   "metadata": {},
   "source": [
    "# Polychotomous variables"
   ]
  },
  {
   "cell_type": "code",
   "execution_count": 19,
   "id": "9fd097d2",
   "metadata": {},
   "outputs": [],
   "source": [
    "#Ratio of family income to povery\n",
    "def dichotomous_poverty_ratio(i):\n",
    "    if i < 1:\n",
    "        return '1' #\"Poor\" \n",
    "    elif 1 <= i < 2:\n",
    "        return '2' #\"Near Poor\"\n",
    "    elif 2 <= i < 3:\n",
    "        return '3' #\"Middle income\"\n",
    "    else:\n",
    "        return '4' #\"High income\"\n",
    "    \n",
    "OA_General['Poverty Level'] = OA_General['Ratio of family income to poverty'].apply(dichotomous_poverty_ratio)"
   ]
  },
  {
   "cell_type": "code",
   "execution_count": 20,
   "id": "5ce954d8",
   "metadata": {},
   "outputs": [],
   "source": [
    "#VitaminD\n",
    "def polychotomous_VitaminD(i):\n",
    "    if i < 25:\n",
    "        return '1' #\"Severe Deficiency\"\n",
    "    elif 25 <= i < 50:\n",
    "        return '2' #\"Moderate Deficiency\"\n",
    "    elif 50 <= i < 75:\n",
    "        return '3' #\"Insufficient\"\n",
    "    else: \n",
    "        return '4' #\"Sufficient\"\n",
    "    \n",
    "OA_General['VitaminD Level'] = OA_General['Vitamin D Level (nmol/L)'].apply(polychotomous_VitaminD)"
   ]
  },
  {
   "cell_type": "code",
   "execution_count": 21,
   "id": "4d885d0e",
   "metadata": {},
   "outputs": [],
   "source": [
    "#CRP\n",
    "def polychotomous_CRP(i):\n",
    "    if i < 3:\n",
    "        return '1' #\"Normal\"\n",
    "    elif 3 <= i < 10:\n",
    "        return '2' #\"Normal or minor elevation\"\n",
    "    elif 10 <= i < 100:\n",
    "        return '3' #\"Moderate elevation\"\n",
    "    elif 100 <= i < 500:\n",
    "        return '4' #\"Marked elevation\"\n",
    "    else:\n",
    "        return '5' #\"Severe elevation\"\n",
    "    \n",
    "OA_General['CRP Level'] = OA_General['HS C-Reactive Protein (mg/L)'].apply(polychotomous_CRP)"
   ]
  },
  {
   "cell_type": "code",
   "execution_count": 22,
   "id": "418ed13c",
   "metadata": {},
   "outputs": [],
   "source": [
    "#BMI\n",
    "def polychotomous_BMI(i):\n",
    "    if i < 19:\n",
    "        return '1' #\"Underweight\"\n",
    "    elif 19 <= i < 25:\n",
    "        return '2' #\"Healthy\"\n",
    "    elif 25 <= i < 30:\n",
    "        return '3' #\"Overweight\"\n",
    "    elif 30 <= i < 40:\n",
    "        return '4' #\"Obesity\"\n",
    "    else:\n",
    "        return '5' #\"Clase 3 Obesity\"\n",
    "    \n",
    "OA_General['Weight Level'] = OA_General['Body Mass Index (kg/m**2)'].apply(polychotomous_BMI)"
   ]
  },
  {
   "cell_type": "code",
   "execution_count": 23,
   "id": "fb5ea376",
   "metadata": {},
   "outputs": [],
   "source": [
    "Female_waistline = OA_General[OA_General['Gender'] == 2]\n",
    "Male_waistline = OA_General[OA_General['Gender'] == 1]"
   ]
  },
  {
   "cell_type": "code",
   "execution_count": 24,
   "id": "d96ae0e0",
   "metadata": {},
   "outputs": [
    {
     "data": {
      "text/plain": [
       "count    1706.000000\n",
       "mean       97.829601\n",
       "std        17.587160\n",
       "min        63.200000\n",
       "25%        84.825000\n",
       "50%        96.200000\n",
       "75%       108.500000\n",
       "max       169.500000\n",
       "Name: Waist Circumference (cm), dtype: float64"
      ]
     },
     "execution_count": 24,
     "metadata": {},
     "output_type": "execute_result"
    }
   ],
   "source": [
    "Female_waistline['Waist Circumference (cm)'].describe()"
   ]
  },
  {
   "cell_type": "code",
   "execution_count": 25,
   "id": "5130ad41",
   "metadata": {
    "scrolled": true
   },
   "outputs": [
    {
     "data": {
      "text/plain": [
       "count    1644.000000\n",
       "mean      101.779684\n",
       "std        16.008307\n",
       "min        62.300000\n",
       "25%        90.675000\n",
       "50%       100.300000\n",
       "75%       111.500000\n",
       "max       164.100000\n",
       "Name: Waist Circumference (cm), dtype: float64"
      ]
     },
     "execution_count": 25,
     "metadata": {},
     "output_type": "execute_result"
    }
   ],
   "source": [
    "Male_waistline['Waist Circumference (cm)'].describe()"
   ]
  },
  {
   "cell_type": "code",
   "execution_count": 26,
   "id": "cefcb47f",
   "metadata": {},
   "outputs": [],
   "source": [
    "#Waist \n",
    "def polychotomous_Waist(gender,cm):\n",
    "    if gender ==  1 and cm < 91:\n",
    "        return '1' #\"Small waistline\"\n",
    "    elif gender == 2 and cm < 85:\n",
    "        return '1' #\"Small waistline\"\n",
    "    \n",
    "    elif gender ==  1 and 91 <= cm < 112:\n",
    "        return '2' #\"Normal waistline\"\n",
    "    elif gender ==  2 and 85 <= cm < 109:\n",
    "        return '2' #\"Normal waistline\"\n",
    "    \n",
    "    elif gender ==  1 and cm >= 112:\n",
    "        return '3' #\"Large waistline\"\n",
    "    elif gender == 2 and cm >= 109:\n",
    "        return '3' #\"Large waistline\"\n",
    "    \n",
    "OA_General['Waistline Level'] = OA_General.apply(lambda x: polychotomous_Waist(x['Gender'], x['Waist Circumference (cm)']), axis=1)"
   ]
  },
  {
   "cell_type": "markdown",
   "id": "6a087ed6",
   "metadata": {},
   "source": [
    "# Tableone"
   ]
  },
  {
   "cell_type": "code",
   "execution_count": 27,
   "id": "7e9bc37c",
   "metadata": {},
   "outputs": [],
   "source": [
    "from tableone import TableOne"
   ]
  },
  {
   "cell_type": "code",
   "execution_count": 28,
   "id": "e3bc5c37",
   "metadata": {
    "scrolled": true
   },
   "outputs": [
    {
     "data": {
      "text/plain": [
       "Index(['SEQN', 'Gender', 'Age in years at screening',\n",
       "       'Race/Hispanic origin w/ NH Asian', 'Education level - Adults 20+',\n",
       "       'Ratio of family income to poverty', 'Body Mass Index (kg/m**2)',\n",
       "       'Waist Circumference (cm)', 'Vitamin D Level (nmol/L)',\n",
       "       'HS C-Reactive Protein (mg/L)', 'Osteoarthritis Status',\n",
       "       'Poverty Level', 'VitaminD Level', 'CRP Level', 'Weight Level',\n",
       "       'Waistline Level'],\n",
       "      dtype='object')"
      ]
     },
     "execution_count": 28,
     "metadata": {},
     "output_type": "execute_result"
    }
   ],
   "source": [
    "OA_General.columns"
   ]
  },
  {
   "cell_type": "code",
   "execution_count": 29,
   "id": "a9be722a",
   "metadata": {},
   "outputs": [],
   "source": [
    "#Eliminate Education Level = 7 and 9\n",
    "#OA_General = OA_General[OA_General['Education level - Adults 20+'].isin([1,2,3,4,5])]\n",
    "#Eliminate CRP Level of Sevre elevation due to insufficient data"
   ]
  },
  {
   "cell_type": "code",
   "execution_count": 30,
   "id": "217b48d5",
   "metadata": {},
   "outputs": [],
   "source": [
    "#order = {\"Poverty Level\": [\"Poor\", \"Near Poor\",\"Middle income\",\"High income\"],\n",
    "         #\"Waistline Level\": [\"Small waistline\", \"Normal waistline\", \"Large waistline\"],\n",
    "         #\"Weight Level\": [\"Underweight\", \"Healthy\", \"Overweight\",\"Obesity\",\"Class 3 Obesity\"],\n",
    "         #\"VitaminD Level\": [\"Severe Deficiency\", \"Moderate Deficiency\", \"Insufficient\",\"Sufficient\"],\n",
    "         #\"CRP Level\":[\"Normal\",\"Normal or minor elevation\",\"Moderate elevation\",\"Marked elevation\",\"Severe elevation\"]}"
   ]
  },
  {
   "cell_type": "code",
   "execution_count": 31,
   "id": "619b5ef7",
   "metadata": {
    "scrolled": false
   },
   "outputs": [
    {
     "data": {
      "text/html": [
       "<div>\n",
       "<style scoped>\n",
       "    .dataframe tbody tr th:only-of-type {\n",
       "        vertical-align: middle;\n",
       "    }\n",
       "\n",
       "    .dataframe tbody tr th {\n",
       "        vertical-align: top;\n",
       "    }\n",
       "\n",
       "    .dataframe thead tr th {\n",
       "        text-align: left;\n",
       "    }\n",
       "</style>\n",
       "<table border=\"1\" class=\"dataframe\">\n",
       "  <thead>\n",
       "    <tr>\n",
       "      <th></th>\n",
       "      <th></th>\n",
       "      <th colspan=\"6\" halign=\"left\">Grouped by Osteoarthritis Status</th>\n",
       "    </tr>\n",
       "    <tr>\n",
       "      <th></th>\n",
       "      <th></th>\n",
       "      <th>Missing</th>\n",
       "      <th>Overall</th>\n",
       "      <th>0</th>\n",
       "      <th>1</th>\n",
       "      <th>P-Value</th>\n",
       "      <th>Test</th>\n",
       "    </tr>\n",
       "  </thead>\n",
       "  <tbody>\n",
       "    <tr>\n",
       "      <th>n</th>\n",
       "      <th></th>\n",
       "      <td></td>\n",
       "      <td>3350</td>\n",
       "      <td>2828</td>\n",
       "      <td>522</td>\n",
       "      <td></td>\n",
       "      <td></td>\n",
       "    </tr>\n",
       "    <tr>\n",
       "      <th rowspan=\"2\" valign=\"top\">Gender, n (%)</th>\n",
       "      <th>1</th>\n",
       "      <td>0</td>\n",
       "      <td>1644 (49.1)</td>\n",
       "      <td>1457 (51.5)</td>\n",
       "      <td>187 (35.8)</td>\n",
       "      <td>&lt;0.001</td>\n",
       "      <td>Chi-squared</td>\n",
       "    </tr>\n",
       "    <tr>\n",
       "      <th>2</th>\n",
       "      <td></td>\n",
       "      <td>1706 (50.9)</td>\n",
       "      <td>1371 (48.5)</td>\n",
       "      <td>335 (64.2)</td>\n",
       "      <td></td>\n",
       "      <td></td>\n",
       "    </tr>\n",
       "    <tr>\n",
       "      <th>Age in years at screening, mean (SD)</th>\n",
       "      <th></th>\n",
       "      <td>0</td>\n",
       "      <td>49.0 (17.5)</td>\n",
       "      <td>46.3 (16.9)</td>\n",
       "      <td>63.6 (12.8)</td>\n",
       "      <td>&lt;0.001</td>\n",
       "      <td>Two Sample T-test</td>\n",
       "    </tr>\n",
       "    <tr>\n",
       "      <th rowspan=\"6\" valign=\"top\">Race/Hispanic origin w/ NH Asian, n (%)</th>\n",
       "      <th>1</th>\n",
       "      <td>0</td>\n",
       "      <td>453 (13.5)</td>\n",
       "      <td>414 (14.6)</td>\n",
       "      <td>39 (7.5)</td>\n",
       "      <td>&lt;0.001</td>\n",
       "      <td>Chi-squared</td>\n",
       "    </tr>\n",
       "    <tr>\n",
       "      <th>2</th>\n",
       "      <td></td>\n",
       "      <td>290 (8.7)</td>\n",
       "      <td>258 (9.1)</td>\n",
       "      <td>32 (6.1)</td>\n",
       "      <td></td>\n",
       "      <td></td>\n",
       "    </tr>\n",
       "    <tr>\n",
       "      <th>3</th>\n",
       "      <td></td>\n",
       "      <td>1234 (36.8)</td>\n",
       "      <td>936 (33.1)</td>\n",
       "      <td>298 (57.1)</td>\n",
       "      <td></td>\n",
       "      <td></td>\n",
       "    </tr>\n",
       "    <tr>\n",
       "      <th>4</th>\n",
       "      <td></td>\n",
       "      <td>687 (20.5)</td>\n",
       "      <td>605 (21.4)</td>\n",
       "      <td>82 (15.7)</td>\n",
       "      <td></td>\n",
       "      <td></td>\n",
       "    </tr>\n",
       "    <tr>\n",
       "      <th>6</th>\n",
       "      <td></td>\n",
       "      <td>511 (15.3)</td>\n",
       "      <td>479 (16.9)</td>\n",
       "      <td>32 (6.1)</td>\n",
       "      <td></td>\n",
       "      <td></td>\n",
       "    </tr>\n",
       "    <tr>\n",
       "      <th>7</th>\n",
       "      <td></td>\n",
       "      <td>175 (5.2)</td>\n",
       "      <td>136 (4.8)</td>\n",
       "      <td>39 (7.5)</td>\n",
       "      <td></td>\n",
       "      <td></td>\n",
       "    </tr>\n",
       "    <tr>\n",
       "      <th rowspan=\"7\" valign=\"top\">Education level - Adults 20+, n (%)</th>\n",
       "      <th>1</th>\n",
       "      <td>0</td>\n",
       "      <td>208 (6.2)</td>\n",
       "      <td>188 (6.6)</td>\n",
       "      <td>20 (3.8)</td>\n",
       "      <td>0.024</td>\n",
       "      <td>Chi-squared (warning: expected count &lt; 5)</td>\n",
       "    </tr>\n",
       "    <tr>\n",
       "      <th>2</th>\n",
       "      <td></td>\n",
       "      <td>371 (11.1)</td>\n",
       "      <td>316 (11.2)</td>\n",
       "      <td>55 (10.5)</td>\n",
       "      <td></td>\n",
       "      <td></td>\n",
       "    </tr>\n",
       "    <tr>\n",
       "      <th>3</th>\n",
       "      <td></td>\n",
       "      <td>789 (23.6)</td>\n",
       "      <td>656 (23.2)</td>\n",
       "      <td>133 (25.5)</td>\n",
       "      <td></td>\n",
       "      <td></td>\n",
       "    </tr>\n",
       "    <tr>\n",
       "      <th>4</th>\n",
       "      <td></td>\n",
       "      <td>1106 (33.0)</td>\n",
       "      <td>909 (32.1)</td>\n",
       "      <td>197 (37.7)</td>\n",
       "      <td></td>\n",
       "      <td></td>\n",
       "    </tr>\n",
       "    <tr>\n",
       "      <th>5</th>\n",
       "      <td></td>\n",
       "      <td>874 (26.1)</td>\n",
       "      <td>757 (26.8)</td>\n",
       "      <td>117 (22.4)</td>\n",
       "      <td></td>\n",
       "      <td></td>\n",
       "    </tr>\n",
       "    <tr>\n",
       "      <th>7</th>\n",
       "      <td></td>\n",
       "      <td>1 (0.0)</td>\n",
       "      <td>1 (0.0)</td>\n",
       "      <td></td>\n",
       "      <td></td>\n",
       "      <td></td>\n",
       "    </tr>\n",
       "    <tr>\n",
       "      <th>9</th>\n",
       "      <td></td>\n",
       "      <td>1 (0.0)</td>\n",
       "      <td>1 (0.0)</td>\n",
       "      <td></td>\n",
       "      <td></td>\n",
       "      <td></td>\n",
       "    </tr>\n",
       "    <tr>\n",
       "      <th rowspan=\"4\" valign=\"top\">Poverty Level, n (%)</th>\n",
       "      <th>1</th>\n",
       "      <td>0</td>\n",
       "      <td>576 (17.2)</td>\n",
       "      <td>504 (17.8)</td>\n",
       "      <td>72 (13.8)</td>\n",
       "      <td>0.105</td>\n",
       "      <td>Chi-squared</td>\n",
       "    </tr>\n",
       "    <tr>\n",
       "      <th>2</th>\n",
       "      <td></td>\n",
       "      <td>945 (28.2)</td>\n",
       "      <td>783 (27.7)</td>\n",
       "      <td>162 (31.0)</td>\n",
       "      <td></td>\n",
       "      <td></td>\n",
       "    </tr>\n",
       "    <tr>\n",
       "      <th>3</th>\n",
       "      <td></td>\n",
       "      <td>560 (16.7)</td>\n",
       "      <td>475 (16.8)</td>\n",
       "      <td>85 (16.3)</td>\n",
       "      <td></td>\n",
       "      <td></td>\n",
       "    </tr>\n",
       "    <tr>\n",
       "      <th>4</th>\n",
       "      <td></td>\n",
       "      <td>1269 (37.9)</td>\n",
       "      <td>1066 (37.7)</td>\n",
       "      <td>203 (38.9)</td>\n",
       "      <td></td>\n",
       "      <td></td>\n",
       "    </tr>\n",
       "    <tr>\n",
       "      <th rowspan=\"3\" valign=\"top\">Waistline Level, n (%)</th>\n",
       "      <th>1</th>\n",
       "      <td>0</td>\n",
       "      <td>842 (25.1)</td>\n",
       "      <td>775 (27.4)</td>\n",
       "      <td>67 (12.8)</td>\n",
       "      <td>&lt;0.001</td>\n",
       "      <td>Chi-squared</td>\n",
       "    </tr>\n",
       "    <tr>\n",
       "      <th>2</th>\n",
       "      <td></td>\n",
       "      <td>1696 (50.6)</td>\n",
       "      <td>1433 (50.7)</td>\n",
       "      <td>263 (50.4)</td>\n",
       "      <td></td>\n",
       "      <td></td>\n",
       "    </tr>\n",
       "    <tr>\n",
       "      <th>3</th>\n",
       "      <td></td>\n",
       "      <td>812 (24.2)</td>\n",
       "      <td>620 (21.9)</td>\n",
       "      <td>192 (36.8)</td>\n",
       "      <td></td>\n",
       "      <td></td>\n",
       "    </tr>\n",
       "    <tr>\n",
       "      <th rowspan=\"5\" valign=\"top\">Weight Level, n (%)</th>\n",
       "      <th>1</th>\n",
       "      <td>0</td>\n",
       "      <td>81 (2.4)</td>\n",
       "      <td>75 (2.7)</td>\n",
       "      <td>6 (1.1)</td>\n",
       "      <td>&lt;0.001</td>\n",
       "      <td>Chi-squared</td>\n",
       "    </tr>\n",
       "    <tr>\n",
       "      <th>2</th>\n",
       "      <td></td>\n",
       "      <td>847 (25.3)</td>\n",
       "      <td>756 (26.7)</td>\n",
       "      <td>91 (17.4)</td>\n",
       "      <td></td>\n",
       "      <td></td>\n",
       "    </tr>\n",
       "    <tr>\n",
       "      <th>3</th>\n",
       "      <td></td>\n",
       "      <td>1076 (32.1)</td>\n",
       "      <td>912 (32.2)</td>\n",
       "      <td>164 (31.4)</td>\n",
       "      <td></td>\n",
       "      <td></td>\n",
       "    </tr>\n",
       "    <tr>\n",
       "      <th>4</th>\n",
       "      <td></td>\n",
       "      <td>1087 (32.4)</td>\n",
       "      <td>890 (31.5)</td>\n",
       "      <td>197 (37.7)</td>\n",
       "      <td></td>\n",
       "      <td></td>\n",
       "    </tr>\n",
       "    <tr>\n",
       "      <th>5</th>\n",
       "      <td></td>\n",
       "      <td>259 (7.7)</td>\n",
       "      <td>195 (6.9)</td>\n",
       "      <td>64 (12.3)</td>\n",
       "      <td></td>\n",
       "      <td></td>\n",
       "    </tr>\n",
       "    <tr>\n",
       "      <th rowspan=\"4\" valign=\"top\">VitaminD Level, n (%)</th>\n",
       "      <th>1</th>\n",
       "      <td>0</td>\n",
       "      <td>151 (4.5)</td>\n",
       "      <td>144 (5.1)</td>\n",
       "      <td>7 (1.3)</td>\n",
       "      <td>&lt;0.001</td>\n",
       "      <td>Chi-squared</td>\n",
       "    </tr>\n",
       "    <tr>\n",
       "      <th>2</th>\n",
       "      <td></td>\n",
       "      <td>813 (24.3)</td>\n",
       "      <td>746 (26.4)</td>\n",
       "      <td>67 (12.8)</td>\n",
       "      <td></td>\n",
       "      <td></td>\n",
       "    </tr>\n",
       "    <tr>\n",
       "      <th>3</th>\n",
       "      <td></td>\n",
       "      <td>1230 (36.7)</td>\n",
       "      <td>1092 (38.6)</td>\n",
       "      <td>138 (26.4)</td>\n",
       "      <td></td>\n",
       "      <td></td>\n",
       "    </tr>\n",
       "    <tr>\n",
       "      <th>4</th>\n",
       "      <td></td>\n",
       "      <td>1156 (34.5)</td>\n",
       "      <td>846 (29.9)</td>\n",
       "      <td>310 (59.4)</td>\n",
       "      <td></td>\n",
       "      <td></td>\n",
       "    </tr>\n",
       "    <tr>\n",
       "      <th rowspan=\"4\" valign=\"top\">CRP Level, n (%)</th>\n",
       "      <th>1</th>\n",
       "      <td>0</td>\n",
       "      <td>2187 (65.3)</td>\n",
       "      <td>1874 (66.3)</td>\n",
       "      <td>313 (60.0)</td>\n",
       "      <td>0.002</td>\n",
       "      <td>Chi-squared (warning: expected count &lt; 5)</td>\n",
       "    </tr>\n",
       "    <tr>\n",
       "      <th>2</th>\n",
       "      <td></td>\n",
       "      <td>925 (27.6)</td>\n",
       "      <td>771 (27.3)</td>\n",
       "      <td>154 (29.5)</td>\n",
       "      <td></td>\n",
       "      <td></td>\n",
       "    </tr>\n",
       "    <tr>\n",
       "      <th>3</th>\n",
       "      <td></td>\n",
       "      <td>235 (7.0)</td>\n",
       "      <td>180 (6.4)</td>\n",
       "      <td>55 (10.5)</td>\n",
       "      <td></td>\n",
       "      <td></td>\n",
       "    </tr>\n",
       "    <tr>\n",
       "      <th>4</th>\n",
       "      <td></td>\n",
       "      <td>3 (0.1)</td>\n",
       "      <td>3 (0.1)</td>\n",
       "      <td></td>\n",
       "      <td></td>\n",
       "      <td></td>\n",
       "    </tr>\n",
       "  </tbody>\n",
       "</table>\n",
       "</div><br />[1] Chi-squared tests for the following variables may be invalid due to the low number of observations: Education level - Adults 20+, CRP Level.<br />"
      ],
      "text/plain": [
       "                                          Grouped by Osteoarthritis Status                                                                                          \n",
       "                                                                   Missing      Overall            0            1 P-Value                                       Test\n",
       "n                                                                                  3350         2828          522                                                   \n",
       "Gender, n (%)                           1                                0  1644 (49.1)  1457 (51.5)   187 (35.8)  <0.001                                Chi-squared\n",
       "                                        2                                   1706 (50.9)  1371 (48.5)   335 (64.2)                                                   \n",
       "Age in years at screening, mean (SD)                                     0  49.0 (17.5)  46.3 (16.9)  63.6 (12.8)  <0.001                          Two Sample T-test\n",
       "Race/Hispanic origin w/ NH Asian, n (%) 1                                0   453 (13.5)   414 (14.6)     39 (7.5)  <0.001                                Chi-squared\n",
       "                                        2                                     290 (8.7)    258 (9.1)     32 (6.1)                                                   \n",
       "                                        3                                   1234 (36.8)   936 (33.1)   298 (57.1)                                                   \n",
       "                                        4                                    687 (20.5)   605 (21.4)    82 (15.7)                                                   \n",
       "                                        6                                    511 (15.3)   479 (16.9)     32 (6.1)                                                   \n",
       "                                        7                                     175 (5.2)    136 (4.8)     39 (7.5)                                                   \n",
       "Education level - Adults 20+, n (%)     1                                0    208 (6.2)    188 (6.6)     20 (3.8)   0.024  Chi-squared (warning: expected count < 5)\n",
       "                                        2                                    371 (11.1)   316 (11.2)    55 (10.5)                                                   \n",
       "                                        3                                    789 (23.6)   656 (23.2)   133 (25.5)                                                   \n",
       "                                        4                                   1106 (33.0)   909 (32.1)   197 (37.7)                                                   \n",
       "                                        5                                    874 (26.1)   757 (26.8)   117 (22.4)                                                   \n",
       "                                        7                                       1 (0.0)      1 (0.0)                                                                \n",
       "                                        9                                       1 (0.0)      1 (0.0)                                                                \n",
       "Poverty Level, n (%)                    1                                0   576 (17.2)   504 (17.8)    72 (13.8)   0.105                                Chi-squared\n",
       "                                        2                                    945 (28.2)   783 (27.7)   162 (31.0)                                                   \n",
       "                                        3                                    560 (16.7)   475 (16.8)    85 (16.3)                                                   \n",
       "                                        4                                   1269 (37.9)  1066 (37.7)   203 (38.9)                                                   \n",
       "Waistline Level, n (%)                  1                                0   842 (25.1)   775 (27.4)    67 (12.8)  <0.001                                Chi-squared\n",
       "                                        2                                   1696 (50.6)  1433 (50.7)   263 (50.4)                                                   \n",
       "                                        3                                    812 (24.2)   620 (21.9)   192 (36.8)                                                   \n",
       "Weight Level, n (%)                     1                                0     81 (2.4)     75 (2.7)      6 (1.1)  <0.001                                Chi-squared\n",
       "                                        2                                    847 (25.3)   756 (26.7)    91 (17.4)                                                   \n",
       "                                        3                                   1076 (32.1)   912 (32.2)   164 (31.4)                                                   \n",
       "                                        4                                   1087 (32.4)   890 (31.5)   197 (37.7)                                                   \n",
       "                                        5                                     259 (7.7)    195 (6.9)    64 (12.3)                                                   \n",
       "VitaminD Level, n (%)                   1                                0    151 (4.5)    144 (5.1)      7 (1.3)  <0.001                                Chi-squared\n",
       "                                        2                                    813 (24.3)   746 (26.4)    67 (12.8)                                                   \n",
       "                                        3                                   1230 (36.7)  1092 (38.6)   138 (26.4)                                                   \n",
       "                                        4                                   1156 (34.5)   846 (29.9)   310 (59.4)                                                   \n",
       "CRP Level, n (%)                        1                                0  2187 (65.3)  1874 (66.3)   313 (60.0)   0.002  Chi-squared (warning: expected count < 5)\n",
       "                                        2                                    925 (27.6)   771 (27.3)   154 (29.5)                                                   \n",
       "                                        3                                     235 (7.0)    180 (6.4)    55 (10.5)                                                   \n",
       "                                        4                                       3 (0.1)      3 (0.1)                                                                \n",
       "[1] Chi-squared tests for the following variables may be invalid due to the low number of observations: Education level - Adults 20+, CRP Level."
      ]
     },
     "execution_count": 31,
     "metadata": {},
     "output_type": "execute_result"
    }
   ],
   "source": [
    "OA_General_TableOne = TableOne(OA_General, \n",
    "            columns=['Gender', 'Age in years at screening','Race/Hispanic origin w/ NH Asian',\n",
    "                     'Education level - Adults 20+', 'Poverty Level',\n",
    "                     'Waistline Level','Weight Level','VitaminD Level',\n",
    "                     'CRP Level'], \n",
    "            categorical=['Gender', 'Race/Hispanic origin w/ NH Asian', 'Education level - Adults 20+','Poverty Level','Waistline Level','Weight Level','VitaminD Level','CRP Level'],\n",
    "            groupby=['Osteoarthritis Status'], \n",
    "            pval = True,\n",
    "            htest_name=True)\n",
    "OA_General_TableOne"
   ]
  },
  {
   "cell_type": "code",
   "execution_count": 32,
   "id": "caca1448",
   "metadata": {},
   "outputs": [],
   "source": [
    "#OA_General_TableOne.to_excel('OAGeneral_TableOne.xlsx')"
   ]
  },
  {
   "cell_type": "markdown",
   "id": "fb5fcc77",
   "metadata": {},
   "source": [
    "# Measure of Association"
   ]
  },
  {
   "cell_type": "code",
   "execution_count": 33,
   "id": "aa6527bd",
   "metadata": {},
   "outputs": [],
   "source": [
    "import numpy as np\n",
    "import statsmodels.api as sm\n",
    "from scipy import stats"
   ]
  },
  {
   "cell_type": "code",
   "execution_count": 34,
   "id": "def19001",
   "metadata": {},
   "outputs": [
    {
     "data": {
      "text/html": [
       "<table class=\"simpletable\">\n",
       "<tr>\n",
       "         <td></td>        <th>Estimate</th>  <th>SE</th>    <th>LCB</th>   <th>UCB</th>  <th>p-value</th>\n",
       "</tr>\n",
       "<tr>\n",
       "  <th>Odds ratio</th>        <td>1.904</td>      <td></td> <td>1.569</td> <td>2.310</td>   <td>0.000</td>\n",
       "</tr>\n",
       "<tr>\n",
       "  <th>Log odds ratio</th>    <td>0.644</td> <td>0.099</td> <td>0.450</td> <td>0.837</td>   <td>0.000</td>\n",
       "</tr>\n",
       "<tr>\n",
       "  <th>Risk ratio</th>        <td>1.726</td>      <td></td> <td>1.463</td> <td>2.037</td>   <td>0.000</td>\n",
       "</tr>\n",
       "<tr>\n",
       "  <th>Log risk ratio</th>    <td>0.546</td> <td>0.084</td> <td>0.380</td> <td>0.712</td>   <td>0.000</td>\n",
       "</tr>\n",
       "</table>"
      ],
      "text/latex": [
       "\\begin{center}\n",
       "\\begin{tabular}{lccccc}\n",
       "\n",
       "                        & \\textbf{Estimate} & \\textbf{SE} & \\textbf{LCB} & \\textbf{UCB} & \\textbf{p-value}  \\\\\n",
       "\\midrule\n",
       "\\bottomrule\n",
       "\\end{tabular}\n",
       "\\begin{tabular}{lrrrrr}\n",
       "\\textbf{Odds ratio}     &             1.904 &             &        1.569 &        2.310 &            0.000  \\\\\n",
       "\\textbf{Log odds ratio} &             0.644 &       0.099 &        0.450 &        0.837 &            0.000  \\\\\n",
       "\\textbf{Risk ratio}     &             1.726 &             &        1.463 &        2.037 &            0.000  \\\\\n",
       "\\textbf{Log risk ratio} &             0.546 &       0.084 &        0.380 &        0.712 &            0.000  \\\\\n",
       "\\bottomrule\n",
       "\\end{tabular}\n",
       "\\end{center}"
      ],
      "text/plain": [
       "<class 'statsmodels.iolib.table.SimpleTable'>"
      ]
     },
     "execution_count": 34,
     "metadata": {},
     "output_type": "execute_result"
    }
   ],
   "source": [
    "#Gender (Reference Group:1)\n",
    "Gender_OR = sm.stats.Table2x2(np.array([[335, 1371], \n",
    "                                    [187, 1457]]))\n",
    "Gender_OR.summary(method='normal')"
   ]
  },
  {
   "cell_type": "code",
   "execution_count": 35,
   "id": "c1c647b4",
   "metadata": {},
   "outputs": [
    {
     "data": {
      "text/html": [
       "<table class=\"simpletable\">\n",
       "<tr>\n",
       "         <td></td>        <th>Estimate</th>  <th>SE</th>     <th>LCB</th>    <th>UCB</th>  <th>p-value</th>\n",
       "</tr>\n",
       "<tr>\n",
       "  <th>Odds ratio</th>        <td>0.296</td>      <td></td>  <td>0.208</td>  <td>0.421</td>   <td>0.000</td>\n",
       "</tr>\n",
       "<tr>\n",
       "  <th>Log odds ratio</th>   <td>-1.218</td> <td>0.180</td> <td>-1.571</td> <td>-0.865</td>   <td>0.000</td>\n",
       "</tr>\n",
       "<tr>\n",
       "  <th>Risk ratio</th>        <td>0.357</td>      <td></td>  <td>0.260</td>  <td>0.489</td>   <td>0.000</td>\n",
       "</tr>\n",
       "<tr>\n",
       "  <th>Log risk ratio</th>   <td>-1.031</td> <td>0.161</td> <td>-1.347</td> <td>-0.716</td>   <td>0.000</td>\n",
       "</tr>\n",
       "</table>"
      ],
      "text/latex": [
       "\\begin{center}\n",
       "\\begin{tabular}{lccccc}\n",
       "\n",
       "                        & \\textbf{Estimate} & \\textbf{SE} & \\textbf{LCB} & \\textbf{UCB} & \\textbf{p-value}  \\\\\n",
       "\\midrule\n",
       "\\bottomrule\n",
       "\\end{tabular}\n",
       "\\begin{tabular}{lrrrrr}\n",
       "\\textbf{Odds ratio}     &             0.296 &             &        0.208 &        0.421 &            0.000  \\\\\n",
       "\\textbf{Log odds ratio} &            -1.218 &       0.180 &       -1.571 &       -0.865 &            0.000  \\\\\n",
       "\\textbf{Risk ratio}     &             0.357 &             &        0.260 &        0.489 &            0.000  \\\\\n",
       "\\textbf{Log risk ratio} &            -1.031 &       0.161 &       -1.347 &       -0.716 &            0.000  \\\\\n",
       "\\bottomrule\n",
       "\\end{tabular}\n",
       "\\end{center}"
      ],
      "text/plain": [
       "<class 'statsmodels.iolib.table.SimpleTable'>"
      ]
     },
     "execution_count": 35,
     "metadata": {},
     "output_type": "execute_result"
    }
   ],
   "source": [
    "#Race 1:3 (Reference)\n",
    "Race1_3_OR = sm.stats.Table2x2(np.array([[39, 414], \n",
    "                                    [298, 936]]))\n",
    "Race1_3_OR.summary(method='normal')"
   ]
  },
  {
   "cell_type": "code",
   "execution_count": 36,
   "id": "c40b5634",
   "metadata": {},
   "outputs": [
    {
     "data": {
      "text/plain": [
       "0.29588561423986"
      ]
     },
     "execution_count": 36,
     "metadata": {},
     "output_type": "execute_result"
    }
   ],
   "source": [
    "(39/414)/(298/936)"
   ]
  },
  {
   "cell_type": "code",
   "execution_count": 37,
   "id": "b4816d83",
   "metadata": {},
   "outputs": [
    {
     "data": {
      "text/html": [
       "<table class=\"simpletable\">\n",
       "<tr>\n",
       "         <td></td>        <th>Estimate</th>  <th>SE</th>     <th>LCB</th>    <th>UCB</th>  <th>p-value</th>\n",
       "</tr>\n",
       "<tr>\n",
       "  <th>Odds ratio</th>        <td>0.390</td>      <td></td>  <td>0.264</td>  <td>0.575</td>   <td>0.000</td>\n",
       "</tr>\n",
       "<tr>\n",
       "  <th>Log odds ratio</th>   <td>-0.943</td> <td>0.199</td> <td>-1.332</td> <td>-0.553</td>   <td>0.000</td>\n",
       "</tr>\n",
       "<tr>\n",
       "  <th>Risk ratio</th>        <td>0.457</td>      <td></td>  <td>0.325</td>  <td>0.643</td>   <td>0.000</td>\n",
       "</tr>\n",
       "<tr>\n",
       "  <th>Log risk ratio</th>   <td>-0.783</td> <td>0.174</td> <td>-1.125</td> <td>-0.442</td>   <td>0.000</td>\n",
       "</tr>\n",
       "</table>"
      ],
      "text/latex": [
       "\\begin{center}\n",
       "\\begin{tabular}{lccccc}\n",
       "\n",
       "                        & \\textbf{Estimate} & \\textbf{SE} & \\textbf{LCB} & \\textbf{UCB} & \\textbf{p-value}  \\\\\n",
       "\\midrule\n",
       "\\bottomrule\n",
       "\\end{tabular}\n",
       "\\begin{tabular}{lrrrrr}\n",
       "\\textbf{Odds ratio}     &             0.390 &             &        0.264 &        0.575 &            0.000  \\\\\n",
       "\\textbf{Log odds ratio} &            -0.943 &       0.199 &       -1.332 &       -0.553 &            0.000  \\\\\n",
       "\\textbf{Risk ratio}     &             0.457 &             &        0.325 &        0.643 &            0.000  \\\\\n",
       "\\textbf{Log risk ratio} &            -0.783 &       0.174 &       -1.125 &       -0.442 &            0.000  \\\\\n",
       "\\bottomrule\n",
       "\\end{tabular}\n",
       "\\end{center}"
      ],
      "text/plain": [
       "<class 'statsmodels.iolib.table.SimpleTable'>"
      ]
     },
     "execution_count": 37,
     "metadata": {},
     "output_type": "execute_result"
    }
   ],
   "source": [
    "#Race 2:3 (Reference)\n",
    "Race2_3_OR = sm.stats.Table2x2(np.array([[32, 258], \n",
    "                                    [298, 936]]))\n",
    "Race2_3_OR.summary(method='normal')"
   ]
  },
  {
   "cell_type": "code",
   "execution_count": 38,
   "id": "f4cfaf9b",
   "metadata": {},
   "outputs": [
    {
     "data": {
      "text/html": [
       "<table class=\"simpletable\">\n",
       "<tr>\n",
       "         <td></td>        <th>Estimate</th>  <th>SE</th>     <th>LCB</th>    <th>UCB</th>  <th>p-value</th>\n",
       "</tr>\n",
       "<tr>\n",
       "  <th>Odds ratio</th>        <td>0.426</td>      <td></td>  <td>0.327</td>  <td>0.555</td>   <td>0.000</td>\n",
       "</tr>\n",
       "<tr>\n",
       "  <th>Log odds ratio</th>   <td>-0.854</td> <td>0.135</td> <td>-1.119</td> <td>-0.589</td>   <td>0.000</td>\n",
       "</tr>\n",
       "<tr>\n",
       "  <th>Risk ratio</th>        <td>0.494</td>      <td></td>  <td>0.394</td>  <td>0.620</td>   <td>0.000</td>\n",
       "</tr>\n",
       "<tr>\n",
       "  <th>Log risk ratio</th>   <td>-0.705</td> <td>0.115</td> <td>-0.931</td> <td>-0.479</td>   <td>0.000</td>\n",
       "</tr>\n",
       "</table>"
      ],
      "text/latex": [
       "\\begin{center}\n",
       "\\begin{tabular}{lccccc}\n",
       "\n",
       "                        & \\textbf{Estimate} & \\textbf{SE} & \\textbf{LCB} & \\textbf{UCB} & \\textbf{p-value}  \\\\\n",
       "\\midrule\n",
       "\\bottomrule\n",
       "\\end{tabular}\n",
       "\\begin{tabular}{lrrrrr}\n",
       "\\textbf{Odds ratio}     &             0.426 &             &        0.327 &        0.555 &            0.000  \\\\\n",
       "\\textbf{Log odds ratio} &            -0.854 &       0.135 &       -1.119 &       -0.589 &            0.000  \\\\\n",
       "\\textbf{Risk ratio}     &             0.494 &             &        0.394 &        0.620 &            0.000  \\\\\n",
       "\\textbf{Log risk ratio} &            -0.705 &       0.115 &       -0.931 &       -0.479 &            0.000  \\\\\n",
       "\\bottomrule\n",
       "\\end{tabular}\n",
       "\\end{center}"
      ],
      "text/plain": [
       "<class 'statsmodels.iolib.table.SimpleTable'>"
      ]
     },
     "execution_count": 38,
     "metadata": {},
     "output_type": "execute_result"
    }
   ],
   "source": [
    "#Race 4:3 (Reference)\n",
    "Race4_3_OR = sm.stats.Table2x2(np.array([[82, 605], \n",
    "                                    [298, 936]]))\n",
    "Race4_3_OR.summary(method='normal')"
   ]
  },
  {
   "cell_type": "code",
   "execution_count": 39,
   "id": "06bba69f",
   "metadata": {},
   "outputs": [
    {
     "data": {
      "text/html": [
       "<table class=\"simpletable\">\n",
       "<tr>\n",
       "         <td></td>        <th>Estimate</th>  <th>SE</th>     <th>LCB</th>    <th>UCB</th>  <th>p-value</th>\n",
       "</tr>\n",
       "<tr>\n",
       "  <th>Odds ratio</th>        <td>0.210</td>      <td></td>  <td>0.143</td>  <td>0.307</td>   <td>0.000</td>\n",
       "</tr>\n",
       "<tr>\n",
       "  <th>Log odds ratio</th>   <td>-1.561</td> <td>0.194</td> <td>-1.942</td> <td>-1.181</td>   <td>0.000</td>\n",
       "</tr>\n",
       "<tr>\n",
       "  <th>Risk ratio</th>        <td>0.259</td>      <td></td>  <td>0.183</td>  <td>0.368</td>   <td>0.000</td>\n",
       "</tr>\n",
       "<tr>\n",
       "  <th>Log risk ratio</th>   <td>-1.350</td> <td>0.178</td> <td>-1.699</td> <td>-1.000</td>   <td>0.000</td>\n",
       "</tr>\n",
       "</table>"
      ],
      "text/latex": [
       "\\begin{center}\n",
       "\\begin{tabular}{lccccc}\n",
       "\n",
       "                        & \\textbf{Estimate} & \\textbf{SE} & \\textbf{LCB} & \\textbf{UCB} & \\textbf{p-value}  \\\\\n",
       "\\midrule\n",
       "\\bottomrule\n",
       "\\end{tabular}\n",
       "\\begin{tabular}{lrrrrr}\n",
       "\\textbf{Odds ratio}     &             0.210 &             &        0.143 &        0.307 &            0.000  \\\\\n",
       "\\textbf{Log odds ratio} &            -1.561 &       0.194 &       -1.942 &       -1.181 &            0.000  \\\\\n",
       "\\textbf{Risk ratio}     &             0.259 &             &        0.183 &        0.368 &            0.000  \\\\\n",
       "\\textbf{Log risk ratio} &            -1.350 &       0.178 &       -1.699 &       -1.000 &            0.000  \\\\\n",
       "\\bottomrule\n",
       "\\end{tabular}\n",
       "\\end{center}"
      ],
      "text/plain": [
       "<class 'statsmodels.iolib.table.SimpleTable'>"
      ]
     },
     "execution_count": 39,
     "metadata": {},
     "output_type": "execute_result"
    }
   ],
   "source": [
    "#Race 6:3 (Reference)\n",
    "Race6_3_OR = sm.stats.Table2x2(np.array([[32, 479], \n",
    "                                    [298, 936]]))\n",
    "Race6_3_OR.summary(method='normal')"
   ]
  },
  {
   "cell_type": "code",
   "execution_count": 40,
   "id": "6c74862c",
   "metadata": {},
   "outputs": [
    {
     "data": {
      "text/html": [
       "<table class=\"simpletable\">\n",
       "<tr>\n",
       "         <td></td>        <th>Estimate</th>  <th>SE</th>     <th>LCB</th>   <th>UCB</th>  <th>p-value</th>\n",
       "</tr>\n",
       "<tr>\n",
       "  <th>Odds ratio</th>        <td>0.901</td>      <td></td>  <td>0.616</td> <td>1.316</td>   <td>0.589</td>\n",
       "</tr>\n",
       "<tr>\n",
       "  <th>Log odds ratio</th>   <td>-0.105</td> <td>0.193</td> <td>-0.484</td> <td>0.275</td>   <td>0.589</td>\n",
       "</tr>\n",
       "<tr>\n",
       "  <th>Risk ratio</th>        <td>0.923</td>      <td></td>  <td>0.688</td> <td>1.238</td>   <td>0.592</td>\n",
       "</tr>\n",
       "<tr>\n",
       "  <th>Log risk ratio</th>   <td>-0.080</td> <td>0.150</td> <td>-0.374</td> <td>0.214</td>   <td>0.592</td>\n",
       "</tr>\n",
       "</table>"
      ],
      "text/latex": [
       "\\begin{center}\n",
       "\\begin{tabular}{lccccc}\n",
       "\n",
       "                        & \\textbf{Estimate} & \\textbf{SE} & \\textbf{LCB} & \\textbf{UCB} & \\textbf{p-value}  \\\\\n",
       "\\midrule\n",
       "\\bottomrule\n",
       "\\end{tabular}\n",
       "\\begin{tabular}{lrrrrr}\n",
       "\\textbf{Odds ratio}     &             0.901 &             &        0.616 &        1.316 &            0.589  \\\\\n",
       "\\textbf{Log odds ratio} &            -0.105 &       0.193 &       -0.484 &        0.275 &            0.589  \\\\\n",
       "\\textbf{Risk ratio}     &             0.923 &             &        0.688 &        1.238 &            0.592  \\\\\n",
       "\\textbf{Log risk ratio} &            -0.080 &       0.150 &       -0.374 &        0.214 &            0.592  \\\\\n",
       "\\bottomrule\n",
       "\\end{tabular}\n",
       "\\end{center}"
      ],
      "text/plain": [
       "<class 'statsmodels.iolib.table.SimpleTable'>"
      ]
     },
     "execution_count": 40,
     "metadata": {},
     "output_type": "execute_result"
    }
   ],
   "source": [
    "#Race 7:3 (Reference)\n",
    "Race7_3_OR = sm.stats.Table2x2(np.array([[39, 136], \n",
    "                                    [298, 936]]))\n",
    "Race7_3_OR.summary(method='normal')"
   ]
  },
  {
   "cell_type": "code",
   "execution_count": 41,
   "id": "adeeee54",
   "metadata": {},
   "outputs": [
    {
     "data": {
      "text/html": [
       "<table class=\"simpletable\">\n",
       "<tr>\n",
       "         <td></td>        <th>Estimate</th>  <th>SE</th>     <th>LCB</th>    <th>UCB</th>  <th>p-value</th>\n",
       "</tr>\n",
       "<tr>\n",
       "  <th>Odds ratio</th>        <td>0.491</td>      <td></td>  <td>0.302</td>  <td>0.798</td>   <td>0.004</td>\n",
       "</tr>\n",
       "<tr>\n",
       "  <th>Log odds ratio</th>   <td>-0.712</td> <td>0.248</td> <td>-1.198</td> <td>-0.226</td>   <td>0.004</td>\n",
       "</tr>\n",
       "<tr>\n",
       "  <th>Risk ratio</th>        <td>0.540</td>      <td></td>  <td>0.349</td>  <td>0.834</td>   <td>0.006</td>\n",
       "</tr>\n",
       "<tr>\n",
       "  <th>Log risk ratio</th>   <td>-0.617</td> <td>0.222</td> <td>-1.052</td> <td>-0.181</td>   <td>0.006</td>\n",
       "</tr>\n",
       "</table>"
      ],
      "text/latex": [
       "\\begin{center}\n",
       "\\begin{tabular}{lccccc}\n",
       "\n",
       "                        & \\textbf{Estimate} & \\textbf{SE} & \\textbf{LCB} & \\textbf{UCB} & \\textbf{p-value}  \\\\\n",
       "\\midrule\n",
       "\\bottomrule\n",
       "\\end{tabular}\n",
       "\\begin{tabular}{lrrrrr}\n",
       "\\textbf{Odds ratio}     &             0.491 &             &        0.302 &        0.798 &            0.004  \\\\\n",
       "\\textbf{Log odds ratio} &            -0.712 &       0.248 &       -1.198 &       -0.226 &            0.004  \\\\\n",
       "\\textbf{Risk ratio}     &             0.540 &             &        0.349 &        0.834 &            0.006  \\\\\n",
       "\\textbf{Log risk ratio} &            -0.617 &       0.222 &       -1.052 &       -0.181 &            0.006  \\\\\n",
       "\\bottomrule\n",
       "\\end{tabular}\n",
       "\\end{center}"
      ],
      "text/plain": [
       "<class 'statsmodels.iolib.table.SimpleTable'>"
      ]
     },
     "execution_count": 41,
     "metadata": {},
     "output_type": "execute_result"
    }
   ],
   "source": [
    "#Education Level 1:4(Reference)\n",
    "EduLev1_4_OR = sm.stats.Table2x2(np.array([[20, 188], \n",
    "                                    [197, 909]]))\n",
    "EduLev1_4_OR.summary(method='normal')"
   ]
  },
  {
   "cell_type": "code",
   "execution_count": 42,
   "id": "b07e42e4",
   "metadata": {},
   "outputs": [
    {
     "data": {
      "text/html": [
       "<table class=\"simpletable\">\n",
       "<tr>\n",
       "         <td></td>        <th>Estimate</th>  <th>SE</th>     <th>LCB</th>   <th>UCB</th>  <th>p-value</th>\n",
       "</tr>\n",
       "<tr>\n",
       "  <th>Odds ratio</th>        <td>0.803</td>      <td></td>  <td>0.580</td> <td>1.112</td>   <td>0.186</td>\n",
       "</tr>\n",
       "<tr>\n",
       "  <th>Log odds ratio</th>   <td>-0.219</td> <td>0.166</td> <td>-0.544</td> <td>0.106</td>   <td>0.186</td>\n",
       "</tr>\n",
       "<tr>\n",
       "  <th>Risk ratio</th>        <td>0.832</td>      <td></td>  <td>0.632</td> <td>1.096</td>   <td>0.190</td>\n",
       "</tr>\n",
       "<tr>\n",
       "  <th>Log risk ratio</th>   <td>-0.184</td> <td>0.140</td> <td>-0.458</td> <td>0.091</td>   <td>0.190</td>\n",
       "</tr>\n",
       "</table>"
      ],
      "text/latex": [
       "\\begin{center}\n",
       "\\begin{tabular}{lccccc}\n",
       "\n",
       "                        & \\textbf{Estimate} & \\textbf{SE} & \\textbf{LCB} & \\textbf{UCB} & \\textbf{p-value}  \\\\\n",
       "\\midrule\n",
       "\\bottomrule\n",
       "\\end{tabular}\n",
       "\\begin{tabular}{lrrrrr}\n",
       "\\textbf{Odds ratio}     &             0.803 &             &        0.580 &        1.112 &            0.186  \\\\\n",
       "\\textbf{Log odds ratio} &            -0.219 &       0.166 &       -0.544 &        0.106 &            0.186  \\\\\n",
       "\\textbf{Risk ratio}     &             0.832 &             &        0.632 &        1.096 &            0.190  \\\\\n",
       "\\textbf{Log risk ratio} &            -0.184 &       0.140 &       -0.458 &        0.091 &            0.190  \\\\\n",
       "\\bottomrule\n",
       "\\end{tabular}\n",
       "\\end{center}"
      ],
      "text/plain": [
       "<class 'statsmodels.iolib.table.SimpleTable'>"
      ]
     },
     "execution_count": 42,
     "metadata": {},
     "output_type": "execute_result"
    }
   ],
   "source": [
    "#Education Level 2:4(Reference)\n",
    "EduLev2_4_OR = sm.stats.Table2x2(np.array([[55, 316], \n",
    "                                    [197, 909]]))\n",
    "EduLev2_4_OR.summary(method='normal')"
   ]
  },
  {
   "cell_type": "code",
   "execution_count": 43,
   "id": "c23fb538",
   "metadata": {},
   "outputs": [
    {
     "data": {
      "text/html": [
       "<table class=\"simpletable\">\n",
       "<tr>\n",
       "         <td></td>        <th>Estimate</th>  <th>SE</th>     <th>LCB</th>   <th>UCB</th>  <th>p-value</th>\n",
       "</tr>\n",
       "<tr>\n",
       "  <th>Odds ratio</th>        <td>0.936</td>      <td></td>  <td>0.735</td> <td>1.191</td>   <td>0.589</td>\n",
       "</tr>\n",
       "<tr>\n",
       "  <th>Log odds ratio</th>   <td>-0.067</td> <td>0.123</td> <td>-0.308</td> <td>0.175</td>   <td>0.589</td>\n",
       "</tr>\n",
       "<tr>\n",
       "  <th>Risk ratio</th>        <td>0.946</td>      <td></td>  <td>0.775</td> <td>1.156</td>   <td>0.589</td>\n",
       "</tr>\n",
       "<tr>\n",
       "  <th>Log risk ratio</th>   <td>-0.055</td> <td>0.102</td> <td>-0.255</td> <td>0.145</td>   <td>0.589</td>\n",
       "</tr>\n",
       "</table>"
      ],
      "text/latex": [
       "\\begin{center}\n",
       "\\begin{tabular}{lccccc}\n",
       "\n",
       "                        & \\textbf{Estimate} & \\textbf{SE} & \\textbf{LCB} & \\textbf{UCB} & \\textbf{p-value}  \\\\\n",
       "\\midrule\n",
       "\\bottomrule\n",
       "\\end{tabular}\n",
       "\\begin{tabular}{lrrrrr}\n",
       "\\textbf{Odds ratio}     &             0.936 &             &        0.735 &        1.191 &            0.589  \\\\\n",
       "\\textbf{Log odds ratio} &            -0.067 &       0.123 &       -0.308 &        0.175 &            0.589  \\\\\n",
       "\\textbf{Risk ratio}     &             0.946 &             &        0.775 &        1.156 &            0.589  \\\\\n",
       "\\textbf{Log risk ratio} &            -0.055 &       0.102 &       -0.255 &        0.145 &            0.589  \\\\\n",
       "\\bottomrule\n",
       "\\end{tabular}\n",
       "\\end{center}"
      ],
      "text/plain": [
       "<class 'statsmodels.iolib.table.SimpleTable'>"
      ]
     },
     "execution_count": 43,
     "metadata": {},
     "output_type": "execute_result"
    }
   ],
   "source": [
    "#Education Level 3:4(Reference)\n",
    "EduLev3_4_OR = sm.stats.Table2x2(np.array([[133, 656], \n",
    "                                    [197, 909]]))\n",
    "EduLev3_4_OR.summary(method='normal')"
   ]
  },
  {
   "cell_type": "code",
   "execution_count": 44,
   "id": "076fdec1",
   "metadata": {
    "scrolled": true
   },
   "outputs": [
    {
     "data": {
      "text/html": [
       "<table class=\"simpletable\">\n",
       "<tr>\n",
       "         <td></td>        <th>Estimate</th>  <th>SE</th>     <th>LCB</th>    <th>UCB</th>  <th>p-value</th>\n",
       "</tr>\n",
       "<tr>\n",
       "  <th>Odds ratio</th>        <td>0.713</td>      <td></td>  <td>0.556</td>  <td>0.914</td>   <td>0.008</td>\n",
       "</tr>\n",
       "<tr>\n",
       "  <th>Log odds ratio</th>   <td>-0.338</td> <td>0.127</td> <td>-0.586</td> <td>-0.090</td>   <td>0.008</td>\n",
       "</tr>\n",
       "<tr>\n",
       "  <th>Risk ratio</th>        <td>0.752</td>      <td></td>  <td>0.609</td>  <td>0.928</td>   <td>0.008</td>\n",
       "</tr>\n",
       "<tr>\n",
       "  <th>Log risk ratio</th>   <td>-0.286</td> <td>0.108</td> <td>-0.496</td> <td>-0.075</td>   <td>0.008</td>\n",
       "</tr>\n",
       "</table>"
      ],
      "text/latex": [
       "\\begin{center}\n",
       "\\begin{tabular}{lccccc}\n",
       "\n",
       "                        & \\textbf{Estimate} & \\textbf{SE} & \\textbf{LCB} & \\textbf{UCB} & \\textbf{p-value}  \\\\\n",
       "\\midrule\n",
       "\\bottomrule\n",
       "\\end{tabular}\n",
       "\\begin{tabular}{lrrrrr}\n",
       "\\textbf{Odds ratio}     &             0.713 &             &        0.556 &        0.914 &            0.008  \\\\\n",
       "\\textbf{Log odds ratio} &            -0.338 &       0.127 &       -0.586 &       -0.090 &            0.008  \\\\\n",
       "\\textbf{Risk ratio}     &             0.752 &             &        0.609 &        0.928 &            0.008  \\\\\n",
       "\\textbf{Log risk ratio} &            -0.286 &       0.108 &       -0.496 &       -0.075 &            0.008  \\\\\n",
       "\\bottomrule\n",
       "\\end{tabular}\n",
       "\\end{center}"
      ],
      "text/plain": [
       "<class 'statsmodels.iolib.table.SimpleTable'>"
      ]
     },
     "execution_count": 44,
     "metadata": {},
     "output_type": "execute_result"
    }
   ],
   "source": [
    "#Education Level 5:4(Reference)\n",
    "EduLev5_4_OR = sm.stats.Table2x2(np.array([[117, 757], \n",
    "                                    [197, 909]]))\n",
    "EduLev5_4_OR.summary(method='normal')"
   ]
  },
  {
   "cell_type": "code",
   "execution_count": 45,
   "id": "3102e6b8",
   "metadata": {},
   "outputs": [
    {
     "data": {
      "text/html": [
       "<table class=\"simpletable\">\n",
       "<tr>\n",
       "         <td></td>        <th>Estimate</th>  <th>SE</th>     <th>LCB</th>   <th>UCB</th>  <th>p-value</th>\n",
       "</tr>\n",
       "<tr>\n",
       "  <th>Odds ratio</th>        <td>0.798</td>      <td></td>  <td>0.569</td> <td>1.119</td>   <td>0.192</td>\n",
       "</tr>\n",
       "<tr>\n",
       "  <th>Log odds ratio</th>   <td>-0.225</td> <td>0.172</td> <td>-0.563</td> <td>0.113</td>   <td>0.192</td>\n",
       "</tr>\n",
       "<tr>\n",
       "  <th>Risk ratio</th>        <td>0.824</td>      <td></td>  <td>0.615</td> <td>1.102</td>   <td>0.192</td>\n",
       "</tr>\n",
       "<tr>\n",
       "  <th>Log risk ratio</th>   <td>-0.194</td> <td>0.149</td> <td>-0.486</td> <td>0.097</td>   <td>0.192</td>\n",
       "</tr>\n",
       "</table>"
      ],
      "text/latex": [
       "\\begin{center}\n",
       "\\begin{tabular}{lccccc}\n",
       "\n",
       "                        & \\textbf{Estimate} & \\textbf{SE} & \\textbf{LCB} & \\textbf{UCB} & \\textbf{p-value}  \\\\\n",
       "\\midrule\n",
       "\\bottomrule\n",
       "\\end{tabular}\n",
       "\\begin{tabular}{lrrrrr}\n",
       "\\textbf{Odds ratio}     &             0.798 &             &        0.569 &        1.119 &            0.192  \\\\\n",
       "\\textbf{Log odds ratio} &            -0.225 &       0.172 &       -0.563 &        0.113 &            0.192  \\\\\n",
       "\\textbf{Risk ratio}     &             0.824 &             &        0.615 &        1.102 &            0.192  \\\\\n",
       "\\textbf{Log risk ratio} &            -0.194 &       0.149 &       -0.486 &        0.097 &            0.192  \\\\\n",
       "\\bottomrule\n",
       "\\end{tabular}\n",
       "\\end{center}"
      ],
      "text/plain": [
       "<class 'statsmodels.iolib.table.SimpleTable'>"
      ]
     },
     "execution_count": 45,
     "metadata": {},
     "output_type": "execute_result"
    }
   ],
   "source": [
    "#Poverty Poor:Normal(Reference)\n",
    "PovertyP_OR = sm.stats.Table2x2(np.array([[72, 504], \n",
    "                                    [85, 475]]))\n",
    "PovertyP_OR.summary(method='normal')"
   ]
  },
  {
   "cell_type": "code",
   "execution_count": 46,
   "id": "607c8506",
   "metadata": {},
   "outputs": [
    {
     "data": {
      "text/html": [
       "<table class=\"simpletable\">\n",
       "<tr>\n",
       "         <td></td>        <th>Estimate</th>  <th>SE</th>     <th>LCB</th>   <th>UCB</th>  <th>p-value</th>\n",
       "</tr>\n",
       "<tr>\n",
       "  <th>Odds ratio</th>        <td>1.156</td>      <td></td>  <td>0.868</td> <td>1.539</td>   <td>0.320</td>\n",
       "</tr>\n",
       "<tr>\n",
       "  <th>Log odds ratio</th>    <td>0.145</td> <td>0.146</td> <td>-0.141</td> <td>0.431</td>   <td>0.320</td>\n",
       "</tr>\n",
       "<tr>\n",
       "  <th>Risk ratio</th>        <td>1.129</td>      <td></td>  <td>0.888</td> <td>1.437</td>   <td>0.322</td>\n",
       "</tr>\n",
       "<tr>\n",
       "  <th>Log risk ratio</th>    <td>0.122</td> <td>0.123</td> <td>-0.119</td> <td>0.362</td>   <td>0.322</td>\n",
       "</tr>\n",
       "</table>"
      ],
      "text/latex": [
       "\\begin{center}\n",
       "\\begin{tabular}{lccccc}\n",
       "\n",
       "                        & \\textbf{Estimate} & \\textbf{SE} & \\textbf{LCB} & \\textbf{UCB} & \\textbf{p-value}  \\\\\n",
       "\\midrule\n",
       "\\bottomrule\n",
       "\\end{tabular}\n",
       "\\begin{tabular}{lrrrrr}\n",
       "\\textbf{Odds ratio}     &             1.156 &             &        0.868 &        1.539 &            0.320  \\\\\n",
       "\\textbf{Log odds ratio} &             0.145 &       0.146 &       -0.141 &        0.431 &            0.320  \\\\\n",
       "\\textbf{Risk ratio}     &             1.129 &             &        0.888 &        1.437 &            0.322  \\\\\n",
       "\\textbf{Log risk ratio} &             0.122 &       0.123 &       -0.119 &        0.362 &            0.322  \\\\\n",
       "\\bottomrule\n",
       "\\end{tabular}\n",
       "\\end{center}"
      ],
      "text/plain": [
       "<class 'statsmodels.iolib.table.SimpleTable'>"
      ]
     },
     "execution_count": 46,
     "metadata": {},
     "output_type": "execute_result"
    }
   ],
   "source": [
    "#Poverty Near Poor:Normal(Reference)\n",
    "PovertyN_OR = sm.stats.Table2x2(np.array([[162, 783], \n",
    "                                    [85, 475]]))\n",
    "PovertyN_OR.summary(method='normal')"
   ]
  },
  {
   "cell_type": "code",
   "execution_count": 47,
   "id": "14896963",
   "metadata": {},
   "outputs": [
    {
     "data": {
      "text/html": [
       "<table class=\"simpletable\">\n",
       "<tr>\n",
       "         <td></td>        <th>Estimate</th>  <th>SE</th>     <th>LCB</th>   <th>UCB</th>  <th>p-value</th>\n",
       "</tr>\n",
       "<tr>\n",
       "  <th>Odds ratio</th>        <td>1.064</td>      <td></td>  <td>0.808</td> <td>1.401</td>   <td>0.658</td>\n",
       "</tr>\n",
       "<tr>\n",
       "  <th>Log odds ratio</th>    <td>0.062</td> <td>0.140</td> <td>-0.213</td> <td>0.338</td>   <td>0.658</td>\n",
       "</tr>\n",
       "<tr>\n",
       "  <th>Risk ratio</th>        <td>1.054</td>      <td></td>  <td>0.835</td> <td>1.330</td>   <td>0.659</td>\n",
       "</tr>\n",
       "<tr>\n",
       "  <th>Log risk ratio</th>    <td>0.053</td> <td>0.119</td> <td>-0.180</td> <td>0.285</td>   <td>0.659</td>\n",
       "</tr>\n",
       "</table>"
      ],
      "text/latex": [
       "\\begin{center}\n",
       "\\begin{tabular}{lccccc}\n",
       "\n",
       "                        & \\textbf{Estimate} & \\textbf{SE} & \\textbf{LCB} & \\textbf{UCB} & \\textbf{p-value}  \\\\\n",
       "\\midrule\n",
       "\\bottomrule\n",
       "\\end{tabular}\n",
       "\\begin{tabular}{lrrrrr}\n",
       "\\textbf{Odds ratio}     &             1.064 &             &        0.808 &        1.401 &            0.658  \\\\\n",
       "\\textbf{Log odds ratio} &             0.062 &       0.140 &       -0.213 &        0.338 &            0.658  \\\\\n",
       "\\textbf{Risk ratio}     &             1.054 &             &        0.835 &        1.330 &            0.659  \\\\\n",
       "\\textbf{Log risk ratio} &             0.053 &       0.119 &       -0.180 &        0.285 &            0.659  \\\\\n",
       "\\bottomrule\n",
       "\\end{tabular}\n",
       "\\end{center}"
      ],
      "text/plain": [
       "<class 'statsmodels.iolib.table.SimpleTable'>"
      ]
     },
     "execution_count": 47,
     "metadata": {},
     "output_type": "execute_result"
    }
   ],
   "source": [
    "#Poverty High:Normal(Reference)\n",
    "PovertyH_OR = sm.stats.Table2x2(np.array([[203, 1066], \n",
    "                                    [85, 475]]))\n",
    "PovertyH_OR.summary(method='normal')"
   ]
  },
  {
   "cell_type": "code",
   "execution_count": 48,
   "id": "aeb2a012",
   "metadata": {},
   "outputs": [
    {
     "data": {
      "text/html": [
       "<table class=\"simpletable\">\n",
       "<tr>\n",
       "         <td></td>        <th>Estimate</th>  <th>SE</th>     <th>LCB</th>    <th>UCB</th>  <th>p-value</th>\n",
       "</tr>\n",
       "<tr>\n",
       "  <th>Odds ratio</th>        <td>0.471</td>      <td></td>  <td>0.355</td>  <td>0.625</td>   <td>0.000</td>\n",
       "</tr>\n",
       "<tr>\n",
       "  <th>Log odds ratio</th>   <td>-0.753</td> <td>0.144</td> <td>-1.035</td> <td>-0.471</td>   <td>0.000</td>\n",
       "</tr>\n",
       "<tr>\n",
       "  <th>Risk ratio</th>        <td>0.513</td>      <td></td>  <td>0.398</td>  <td>0.662</td>   <td>0.000</td>\n",
       "</tr>\n",
       "<tr>\n",
       "  <th>Log risk ratio</th>   <td>-0.667</td> <td>0.130</td> <td>-0.922</td> <td>-0.412</td>   <td>0.000</td>\n",
       "</tr>\n",
       "</table>"
      ],
      "text/latex": [
       "\\begin{center}\n",
       "\\begin{tabular}{lccccc}\n",
       "\n",
       "                        & \\textbf{Estimate} & \\textbf{SE} & \\textbf{LCB} & \\textbf{UCB} & \\textbf{p-value}  \\\\\n",
       "\\midrule\n",
       "\\bottomrule\n",
       "\\end{tabular}\n",
       "\\begin{tabular}{lrrrrr}\n",
       "\\textbf{Odds ratio}     &             0.471 &             &        0.355 &        0.625 &            0.000  \\\\\n",
       "\\textbf{Log odds ratio} &            -0.753 &       0.144 &       -1.035 &       -0.471 &            0.000  \\\\\n",
       "\\textbf{Risk ratio}     &             0.513 &             &        0.398 &        0.662 &            0.000  \\\\\n",
       "\\textbf{Log risk ratio} &            -0.667 &       0.130 &       -0.922 &       -0.412 &            0.000  \\\\\n",
       "\\bottomrule\n",
       "\\end{tabular}\n",
       "\\end{center}"
      ],
      "text/plain": [
       "<class 'statsmodels.iolib.table.SimpleTable'>"
      ]
     },
     "execution_count": 48,
     "metadata": {},
     "output_type": "execute_result"
    }
   ],
   "source": [
    "#Waistline Small:Normal(Reference)\n",
    "WaistS_OR = sm.stats.Table2x2(np.array([[67, 775], \n",
    "                                    [263, 1433]]))\n",
    "WaistS_OR.summary(method='normal')"
   ]
  },
  {
   "cell_type": "code",
   "execution_count": 49,
   "id": "90573c75",
   "metadata": {},
   "outputs": [
    {
     "data": {
      "text/html": [
       "<table class=\"simpletable\">\n",
       "<tr>\n",
       "         <td></td>        <th>Estimate</th>  <th>SE</th>    <th>LCB</th>   <th>UCB</th>  <th>p-value</th>\n",
       "</tr>\n",
       "<tr>\n",
       "  <th>Odds ratio</th>        <td>1.687</td>      <td></td> <td>1.370</td> <td>2.079</td>   <td>0.000</td>\n",
       "</tr>\n",
       "<tr>\n",
       "  <th>Log odds ratio</th>    <td>0.523</td> <td>0.106</td> <td>0.315</td> <td>0.732</td>   <td>0.000</td>\n",
       "</tr>\n",
       "<tr>\n",
       "  <th>Risk ratio</th>        <td>1.525</td>      <td></td> <td>1.291</td> <td>1.800</td>   <td>0.000</td>\n",
       "</tr>\n",
       "<tr>\n",
       "  <th>Log risk ratio</th>    <td>0.422</td> <td>0.085</td> <td>0.256</td> <td>0.588</td>   <td>0.000</td>\n",
       "</tr>\n",
       "</table>"
      ],
      "text/latex": [
       "\\begin{center}\n",
       "\\begin{tabular}{lccccc}\n",
       "\n",
       "                        & \\textbf{Estimate} & \\textbf{SE} & \\textbf{LCB} & \\textbf{UCB} & \\textbf{p-value}  \\\\\n",
       "\\midrule\n",
       "\\bottomrule\n",
       "\\end{tabular}\n",
       "\\begin{tabular}{lrrrrr}\n",
       "\\textbf{Odds ratio}     &             1.687 &             &        1.370 &        2.079 &            0.000  \\\\\n",
       "\\textbf{Log odds ratio} &             0.523 &       0.106 &        0.315 &        0.732 &            0.000  \\\\\n",
       "\\textbf{Risk ratio}     &             1.525 &             &        1.291 &        1.800 &            0.000  \\\\\n",
       "\\textbf{Log risk ratio} &             0.422 &       0.085 &        0.256 &        0.588 &            0.000  \\\\\n",
       "\\bottomrule\n",
       "\\end{tabular}\n",
       "\\end{center}"
      ],
      "text/plain": [
       "<class 'statsmodels.iolib.table.SimpleTable'>"
      ]
     },
     "execution_count": 49,
     "metadata": {},
     "output_type": "execute_result"
    }
   ],
   "source": [
    "#Waistline Large:Normal(Reference)\n",
    "WaistL_OR = sm.stats.Table2x2(np.array([[192, 620], \n",
    "                                    [263, 1433]]))\n",
    "WaistL_OR.summary(method='normal')"
   ]
  },
  {
   "cell_type": "code",
   "execution_count": 50,
   "id": "faa73fe1",
   "metadata": {},
   "outputs": [
    {
     "data": {
      "text/html": [
       "<table class=\"simpletable\">\n",
       "<tr>\n",
       "         <td></td>        <th>Estimate</th>  <th>SE</th>     <th>LCB</th>   <th>UCB</th>  <th>p-value</th>\n",
       "</tr>\n",
       "<tr>\n",
       "  <th>Odds ratio</th>        <td>0.665</td>      <td></td>  <td>0.281</td> <td>1.570</td>   <td>0.352</td>\n",
       "</tr>\n",
       "<tr>\n",
       "  <th>Log odds ratio</th>   <td>-0.409</td> <td>0.439</td> <td>-1.268</td> <td>0.451</td>   <td>0.352</td>\n",
       "</tr>\n",
       "<tr>\n",
       "  <th>Risk ratio</th>        <td>0.689</td>      <td></td>  <td>0.312</td> <td>1.525</td>   <td>0.359</td>\n",
       "</tr>\n",
       "<tr>\n",
       "  <th>Log risk ratio</th>   <td>-0.372</td> <td>0.405</td> <td>-1.166</td> <td>0.422</td>   <td>0.359</td>\n",
       "</tr>\n",
       "</table>"
      ],
      "text/latex": [
       "\\begin{center}\n",
       "\\begin{tabular}{lccccc}\n",
       "\n",
       "                        & \\textbf{Estimate} & \\textbf{SE} & \\textbf{LCB} & \\textbf{UCB} & \\textbf{p-value}  \\\\\n",
       "\\midrule\n",
       "\\bottomrule\n",
       "\\end{tabular}\n",
       "\\begin{tabular}{lrrrrr}\n",
       "\\textbf{Odds ratio}     &             0.665 &             &        0.281 &        1.570 &            0.352  \\\\\n",
       "\\textbf{Log odds ratio} &            -0.409 &       0.439 &       -1.268 &        0.451 &            0.352  \\\\\n",
       "\\textbf{Risk ratio}     &             0.689 &             &        0.312 &        1.525 &            0.359  \\\\\n",
       "\\textbf{Log risk ratio} &            -0.372 &       0.405 &       -1.166 &        0.422 &            0.359  \\\\\n",
       "\\bottomrule\n",
       "\\end{tabular}\n",
       "\\end{center}"
      ],
      "text/plain": [
       "<class 'statsmodels.iolib.table.SimpleTable'>"
      ]
     },
     "execution_count": 50,
     "metadata": {},
     "output_type": "execute_result"
    }
   ],
   "source": [
    "#Weight Under:Healthy(Reference)\n",
    "WeightU_OR = sm.stats.Table2x2(np.array([[6, 75], \n",
    "                                    [91, 756]]))\n",
    "WeightU_OR.summary(method='normal')"
   ]
  },
  {
   "cell_type": "code",
   "execution_count": 51,
   "id": "dc32a09e",
   "metadata": {},
   "outputs": [
    {
     "data": {
      "text/html": [
       "<table class=\"simpletable\">\n",
       "<tr>\n",
       "         <td></td>        <th>Estimate</th>  <th>SE</th>    <th>LCB</th>   <th>UCB</th>  <th>p-value</th>\n",
       "</tr>\n",
       "<tr>\n",
       "  <th>Odds ratio</th>        <td>1.494</td>      <td></td> <td>1.136</td> <td>1.964</td>   <td>0.004</td>\n",
       "</tr>\n",
       "<tr>\n",
       "  <th>Log odds ratio</th>    <td>0.401</td> <td>0.140</td> <td>0.128</td> <td>0.675</td>   <td>0.004</td>\n",
       "</tr>\n",
       "<tr>\n",
       "  <th>Risk ratio</th>        <td>1.419</td>      <td></td> <td>1.116</td> <td>1.803</td>   <td>0.004</td>\n",
       "</tr>\n",
       "<tr>\n",
       "  <th>Log risk ratio</th>    <td>0.350</td> <td>0.122</td> <td>0.110</td> <td>0.590</td>   <td>0.004</td>\n",
       "</tr>\n",
       "</table>"
      ],
      "text/latex": [
       "\\begin{center}\n",
       "\\begin{tabular}{lccccc}\n",
       "\n",
       "                        & \\textbf{Estimate} & \\textbf{SE} & \\textbf{LCB} & \\textbf{UCB} & \\textbf{p-value}  \\\\\n",
       "\\midrule\n",
       "\\bottomrule\n",
       "\\end{tabular}\n",
       "\\begin{tabular}{lrrrrr}\n",
       "\\textbf{Odds ratio}     &             1.494 &             &        1.136 &        1.964 &            0.004  \\\\\n",
       "\\textbf{Log odds ratio} &             0.401 &       0.140 &        0.128 &        0.675 &            0.004  \\\\\n",
       "\\textbf{Risk ratio}     &             1.419 &             &        1.116 &        1.803 &            0.004  \\\\\n",
       "\\textbf{Log risk ratio} &             0.350 &       0.122 &        0.110 &        0.590 &            0.004  \\\\\n",
       "\\bottomrule\n",
       "\\end{tabular}\n",
       "\\end{center}"
      ],
      "text/plain": [
       "<class 'statsmodels.iolib.table.SimpleTable'>"
      ]
     },
     "execution_count": 51,
     "metadata": {},
     "output_type": "execute_result"
    }
   ],
   "source": [
    "#Weight Overweight:Healthy(Reference)\n",
    "WeightO_OR = sm.stats.Table2x2(np.array([[164, 912], \n",
    "                                    [91, 756]]))\n",
    "WeightO_OR.summary(method='normal')"
   ]
  },
  {
   "cell_type": "code",
   "execution_count": 52,
   "id": "4187626f",
   "metadata": {},
   "outputs": [
    {
     "data": {
      "text/html": [
       "<table class=\"simpletable\">\n",
       "<tr>\n",
       "         <td></td>        <th>Estimate</th>  <th>SE</th>    <th>LCB</th>   <th>UCB</th>  <th>p-value</th>\n",
       "</tr>\n",
       "<tr>\n",
       "  <th>Odds ratio</th>        <td>1.839</td>      <td></td> <td>1.408</td> <td>2.401</td>   <td>0.000</td>\n",
       "</tr>\n",
       "<tr>\n",
       "  <th>Log odds ratio</th>    <td>0.609</td> <td>0.136</td> <td>0.342</td> <td>0.876</td>   <td>0.000</td>\n",
       "</tr>\n",
       "<tr>\n",
       "  <th>Risk ratio</th>        <td>1.687</td>      <td></td> <td>1.338</td> <td>2.127</td>   <td>0.000</td>\n",
       "</tr>\n",
       "<tr>\n",
       "  <th>Log risk ratio</th>    <td>0.523</td> <td>0.118</td> <td>0.291</td> <td>0.754</td>   <td>0.000</td>\n",
       "</tr>\n",
       "</table>"
      ],
      "text/latex": [
       "\\begin{center}\n",
       "\\begin{tabular}{lccccc}\n",
       "\n",
       "                        & \\textbf{Estimate} & \\textbf{SE} & \\textbf{LCB} & \\textbf{UCB} & \\textbf{p-value}  \\\\\n",
       "\\midrule\n",
       "\\bottomrule\n",
       "\\end{tabular}\n",
       "\\begin{tabular}{lrrrrr}\n",
       "\\textbf{Odds ratio}     &             1.839 &             &        1.408 &        2.401 &            0.000  \\\\\n",
       "\\textbf{Log odds ratio} &             0.609 &       0.136 &        0.342 &        0.876 &            0.000  \\\\\n",
       "\\textbf{Risk ratio}     &             1.687 &             &        1.338 &        2.127 &            0.000  \\\\\n",
       "\\textbf{Log risk ratio} &             0.523 &       0.118 &        0.291 &        0.754 &            0.000  \\\\\n",
       "\\bottomrule\n",
       "\\end{tabular}\n",
       "\\end{center}"
      ],
      "text/plain": [
       "<class 'statsmodels.iolib.table.SimpleTable'>"
      ]
     },
     "execution_count": 52,
     "metadata": {},
     "output_type": "execute_result"
    }
   ],
   "source": [
    "#Weight Obesity:Healthy(Reference)\n",
    "WeightOb_OR = sm.stats.Table2x2(np.array([[197, 890], \n",
    "                                    [91, 756]]))\n",
    "WeightOb_OR.summary(method='normal')"
   ]
  },
  {
   "cell_type": "code",
   "execution_count": 53,
   "id": "39af7dd3",
   "metadata": {},
   "outputs": [
    {
     "data": {
      "text/html": [
       "<table class=\"simpletable\">\n",
       "<tr>\n",
       "         <td></td>        <th>Estimate</th>  <th>SE</th>    <th>LCB</th>   <th>UCB</th>  <th>p-value</th>\n",
       "</tr>\n",
       "<tr>\n",
       "  <th>Odds ratio</th>        <td>2.727</td>      <td></td> <td>1.909</td> <td>3.894</td>   <td>0.000</td>\n",
       "</tr>\n",
       "<tr>\n",
       "  <th>Log odds ratio</th>    <td>1.003</td> <td>0.182</td> <td>0.647</td> <td>1.359</td>   <td>0.000</td>\n",
       "</tr>\n",
       "<tr>\n",
       "  <th>Risk ratio</th>        <td>2.300</td>      <td></td> <td>1.725</td> <td>3.067</td>   <td>0.000</td>\n",
       "</tr>\n",
       "<tr>\n",
       "  <th>Log risk ratio</th>    <td>0.833</td> <td>0.147</td> <td>0.545</td> <td>1.121</td>   <td>0.000</td>\n",
       "</tr>\n",
       "</table>"
      ],
      "text/latex": [
       "\\begin{center}\n",
       "\\begin{tabular}{lccccc}\n",
       "\n",
       "                        & \\textbf{Estimate} & \\textbf{SE} & \\textbf{LCB} & \\textbf{UCB} & \\textbf{p-value}  \\\\\n",
       "\\midrule\n",
       "\\bottomrule\n",
       "\\end{tabular}\n",
       "\\begin{tabular}{lrrrrr}\n",
       "\\textbf{Odds ratio}     &             2.727 &             &        1.909 &        3.894 &            0.000  \\\\\n",
       "\\textbf{Log odds ratio} &             1.003 &       0.182 &        0.647 &        1.359 &            0.000  \\\\\n",
       "\\textbf{Risk ratio}     &             2.300 &             &        1.725 &        3.067 &            0.000  \\\\\n",
       "\\textbf{Log risk ratio} &             0.833 &       0.147 &        0.545 &        1.121 &            0.000  \\\\\n",
       "\\bottomrule\n",
       "\\end{tabular}\n",
       "\\end{center}"
      ],
      "text/plain": [
       "<class 'statsmodels.iolib.table.SimpleTable'>"
      ]
     },
     "execution_count": 53,
     "metadata": {},
     "output_type": "execute_result"
    }
   ],
   "source": [
    "#Weight 3Obesity:Healthy(Reference)\n",
    "Weight3Ob_OR = sm.stats.Table2x2(np.array([[64, 195], \n",
    "                                    [91, 756]]))\n",
    "Weight3Ob_OR.summary(method='normal')"
   ]
  },
  {
   "cell_type": "code",
   "execution_count": 54,
   "id": "42019df4",
   "metadata": {},
   "outputs": [
    {
     "data": {
      "text/html": [
       "<table class=\"simpletable\">\n",
       "<tr>\n",
       "         <td></td>        <th>Estimate</th>  <th>SE</th>     <th>LCB</th>    <th>UCB</th>  <th>p-value</th>\n",
       "</tr>\n",
       "<tr>\n",
       "  <th>Odds ratio</th>        <td>0.133</td>      <td></td>  <td>0.061</td>  <td>0.286</td>   <td>0.000</td>\n",
       "</tr>\n",
       "<tr>\n",
       "  <th>Log odds ratio</th>   <td>-2.020</td> <td>0.393</td> <td>-2.790</td> <td>-1.250</td>   <td>0.000</td>\n",
       "</tr>\n",
       "<tr>\n",
       "  <th>Risk ratio</th>        <td>0.173</td>      <td></td>  <td>0.083</td>  <td>0.359</td>   <td>0.000</td>\n",
       "</tr>\n",
       "<tr>\n",
       "  <th>Log risk ratio</th>   <td>-1.755</td> <td>0.372</td> <td>-2.485</td> <td>-1.026</td>   <td>0.000</td>\n",
       "</tr>\n",
       "</table>"
      ],
      "text/latex": [
       "\\begin{center}\n",
       "\\begin{tabular}{lccccc}\n",
       "\n",
       "                        & \\textbf{Estimate} & \\textbf{SE} & \\textbf{LCB} & \\textbf{UCB} & \\textbf{p-value}  \\\\\n",
       "\\midrule\n",
       "\\bottomrule\n",
       "\\end{tabular}\n",
       "\\begin{tabular}{lrrrrr}\n",
       "\\textbf{Odds ratio}     &             0.133 &             &        0.061 &        0.286 &            0.000  \\\\\n",
       "\\textbf{Log odds ratio} &            -2.020 &       0.393 &       -2.790 &       -1.250 &            0.000  \\\\\n",
       "\\textbf{Risk ratio}     &             0.173 &             &        0.083 &        0.359 &            0.000  \\\\\n",
       "\\textbf{Log risk ratio} &            -1.755 &       0.372 &       -2.485 &       -1.026 &            0.000  \\\\\n",
       "\\bottomrule\n",
       "\\end{tabular}\n",
       "\\end{center}"
      ],
      "text/plain": [
       "<class 'statsmodels.iolib.table.SimpleTable'>"
      ]
     },
     "execution_count": 54,
     "metadata": {},
     "output_type": "execute_result"
    }
   ],
   "source": [
    "#VitaminD Severe Deficiency:Sufficient(Reference)\n",
    "VitDSD_OR = sm.stats.Table2x2(np.array([[7, 144], \n",
    "                                    [310, 846]]))\n",
    "VitDSD_OR.summary(method='normal')"
   ]
  },
  {
   "cell_type": "code",
   "execution_count": 55,
   "id": "bd378118",
   "metadata": {},
   "outputs": [
    {
     "data": {
      "text/html": [
       "<table class=\"simpletable\">\n",
       "<tr>\n",
       "         <td></td>        <th>Estimate</th>  <th>SE</th>     <th>LCB</th>    <th>UCB</th>  <th>p-value</th>\n",
       "</tr>\n",
       "<tr>\n",
       "  <th>Odds ratio</th>        <td>0.245</td>      <td></td>  <td>0.185</td>  <td>0.325</td>   <td>0.000</td>\n",
       "</tr>\n",
       "<tr>\n",
       "  <th>Log odds ratio</th>   <td>-1.406</td> <td>0.144</td> <td>-1.688</td> <td>-1.124</td>   <td>0.000</td>\n",
       "</tr>\n",
       "<tr>\n",
       "  <th>Risk ratio</th>        <td>0.307</td>      <td></td>  <td>0.240</td>  <td>0.394</td>   <td>0.000</td>\n",
       "</tr>\n",
       "<tr>\n",
       "  <th>Log risk ratio</th>   <td>-1.180</td> <td>0.127</td> <td>-1.428</td> <td>-0.932</td>   <td>0.000</td>\n",
       "</tr>\n",
       "</table>"
      ],
      "text/latex": [
       "\\begin{center}\n",
       "\\begin{tabular}{lccccc}\n",
       "\n",
       "                        & \\textbf{Estimate} & \\textbf{SE} & \\textbf{LCB} & \\textbf{UCB} & \\textbf{p-value}  \\\\\n",
       "\\midrule\n",
       "\\bottomrule\n",
       "\\end{tabular}\n",
       "\\begin{tabular}{lrrrrr}\n",
       "\\textbf{Odds ratio}     &             0.245 &             &        0.185 &        0.325 &            0.000  \\\\\n",
       "\\textbf{Log odds ratio} &            -1.406 &       0.144 &       -1.688 &       -1.124 &            0.000  \\\\\n",
       "\\textbf{Risk ratio}     &             0.307 &             &        0.240 &        0.394 &            0.000  \\\\\n",
       "\\textbf{Log risk ratio} &            -1.180 &       0.127 &       -1.428 &       -0.932 &            0.000  \\\\\n",
       "\\bottomrule\n",
       "\\end{tabular}\n",
       "\\end{center}"
      ],
      "text/plain": [
       "<class 'statsmodels.iolib.table.SimpleTable'>"
      ]
     },
     "execution_count": 55,
     "metadata": {},
     "output_type": "execute_result"
    }
   ],
   "source": [
    "#VitaminD Moderate Deficiency:Sufficient(Reference)\n",
    "VitDMD_OR = sm.stats.Table2x2(np.array([[67, 746], \n",
    "                                    [310, 846]]))\n",
    "VitDMD_OR.summary(method='normal')"
   ]
  },
  {
   "cell_type": "code",
   "execution_count": 56,
   "id": "0425f987",
   "metadata": {},
   "outputs": [
    {
     "data": {
      "text/html": [
       "<table class=\"simpletable\">\n",
       "<tr>\n",
       "         <td></td>        <th>Estimate</th>  <th>SE</th>     <th>LCB</th>    <th>UCB</th>  <th>p-value</th>\n",
       "</tr>\n",
       "<tr>\n",
       "  <th>Odds ratio</th>        <td>0.345</td>      <td></td>  <td>0.277</td>  <td>0.430</td>   <td>0.000</td>\n",
       "</tr>\n",
       "<tr>\n",
       "  <th>Log odds ratio</th>   <td>-1.065</td> <td>0.112</td> <td>-1.284</td> <td>-0.845</td>   <td>0.000</td>\n",
       "</tr>\n",
       "<tr>\n",
       "  <th>Risk ratio</th>        <td>0.418</td>      <td></td>  <td>0.348</td>  <td>0.503</td>   <td>0.000</td>\n",
       "</tr>\n",
       "<tr>\n",
       "  <th>Log risk ratio</th>   <td>-0.871</td> <td>0.094</td> <td>-1.055</td> <td>-0.688</td>   <td>0.000</td>\n",
       "</tr>\n",
       "</table>"
      ],
      "text/latex": [
       "\\begin{center}\n",
       "\\begin{tabular}{lccccc}\n",
       "\n",
       "                        & \\textbf{Estimate} & \\textbf{SE} & \\textbf{LCB} & \\textbf{UCB} & \\textbf{p-value}  \\\\\n",
       "\\midrule\n",
       "\\bottomrule\n",
       "\\end{tabular}\n",
       "\\begin{tabular}{lrrrrr}\n",
       "\\textbf{Odds ratio}     &             0.345 &             &        0.277 &        0.430 &            0.000  \\\\\n",
       "\\textbf{Log odds ratio} &            -1.065 &       0.112 &       -1.284 &       -0.845 &            0.000  \\\\\n",
       "\\textbf{Risk ratio}     &             0.418 &             &        0.348 &        0.503 &            0.000  \\\\\n",
       "\\textbf{Log risk ratio} &            -0.871 &       0.094 &       -1.055 &       -0.688 &            0.000  \\\\\n",
       "\\bottomrule\n",
       "\\end{tabular}\n",
       "\\end{center}"
      ],
      "text/plain": [
       "<class 'statsmodels.iolib.table.SimpleTable'>"
      ]
     },
     "execution_count": 56,
     "metadata": {},
     "output_type": "execute_result"
    }
   ],
   "source": [
    "#VitaminD Insufficient:Sufficient(Reference)\n",
    "VitDI_OR = sm.stats.Table2x2(np.array([[138, 1092], \n",
    "                                    [310, 846]]))\n",
    "VitDI_OR.summary(method='normal')"
   ]
  },
  {
   "cell_type": "code",
   "execution_count": 57,
   "id": "16518422",
   "metadata": {},
   "outputs": [
    {
     "data": {
      "text/html": [
       "<table class=\"simpletable\">\n",
       "<tr>\n",
       "         <td></td>        <th>Estimate</th>  <th>SE</th>     <th>LCB</th>   <th>UCB</th>  <th>p-value</th>\n",
       "</tr>\n",
       "<tr>\n",
       "  <th>Odds ratio</th>        <td>1.196</td>      <td></td>  <td>0.969</td> <td>1.476</td>   <td>0.096</td>\n",
       "</tr>\n",
       "<tr>\n",
       "  <th>Log odds ratio</th>    <td>0.179</td> <td>0.107</td> <td>-0.031</td> <td>0.389</td>   <td>0.096</td>\n",
       "</tr>\n",
       "<tr>\n",
       "  <th>Risk ratio</th>        <td>1.163</td>      <td></td>  <td>0.975</td> <td>1.388</td>   <td>0.094</td>\n",
       "</tr>\n",
       "<tr>\n",
       "  <th>Log risk ratio</th>    <td>0.151</td> <td>0.090</td> <td>-0.026</td> <td>0.328</td>   <td>0.094</td>\n",
       "</tr>\n",
       "</table>"
      ],
      "text/latex": [
       "\\begin{center}\n",
       "\\begin{tabular}{lccccc}\n",
       "\n",
       "                        & \\textbf{Estimate} & \\textbf{SE} & \\textbf{LCB} & \\textbf{UCB} & \\textbf{p-value}  \\\\\n",
       "\\midrule\n",
       "\\bottomrule\n",
       "\\end{tabular}\n",
       "\\begin{tabular}{lrrrrr}\n",
       "\\textbf{Odds ratio}     &             1.196 &             &        0.969 &        1.476 &            0.096  \\\\\n",
       "\\textbf{Log odds ratio} &             0.179 &       0.107 &       -0.031 &        0.389 &            0.096  \\\\\n",
       "\\textbf{Risk ratio}     &             1.163 &             &        0.975 &        1.388 &            0.094  \\\\\n",
       "\\textbf{Log risk ratio} &             0.151 &       0.090 &       -0.026 &        0.328 &            0.094  \\\\\n",
       "\\bottomrule\n",
       "\\end{tabular}\n",
       "\\end{center}"
      ],
      "text/plain": [
       "<class 'statsmodels.iolib.table.SimpleTable'>"
      ]
     },
     "execution_count": 57,
     "metadata": {},
     "output_type": "execute_result"
    }
   ],
   "source": [
    "#CRP Nor or minor elevation: Normal(Reference)\n",
    "CRPNoM_OR = sm.stats.Table2x2(np.array([[154, 771], \n",
    "                                    [313, 1874]]))\n",
    "CRPNoM_OR.summary(method='normal')"
   ]
  },
  {
   "cell_type": "code",
   "execution_count": 58,
   "id": "4a6d077b",
   "metadata": {},
   "outputs": [
    {
     "data": {
      "text/html": [
       "<table class=\"simpletable\">\n",
       "<tr>\n",
       "         <td></td>        <th>Estimate</th>  <th>SE</th>    <th>LCB</th>   <th>UCB</th>  <th>p-value</th>\n",
       "</tr>\n",
       "<tr>\n",
       "  <th>Odds ratio</th>        <td>1.829</td>      <td></td> <td>1.322</td> <td>2.532</td>   <td>0.000</td>\n",
       "</tr>\n",
       "<tr>\n",
       "  <th>Log odds ratio</th>    <td>0.604</td> <td>0.166</td> <td>0.279</td> <td>0.929</td>   <td>0.000</td>\n",
       "</tr>\n",
       "<tr>\n",
       "  <th>Risk ratio</th>        <td>1.635</td>      <td></td> <td>1.270</td> <td>2.106</td>   <td>0.000</td>\n",
       "</tr>\n",
       "<tr>\n",
       "  <th>Log risk ratio</th>    <td>0.492</td> <td>0.129</td> <td>0.239</td> <td>0.745</td>   <td>0.000</td>\n",
       "</tr>\n",
       "</table>"
      ],
      "text/latex": [
       "\\begin{center}\n",
       "\\begin{tabular}{lccccc}\n",
       "\n",
       "                        & \\textbf{Estimate} & \\textbf{SE} & \\textbf{LCB} & \\textbf{UCB} & \\textbf{p-value}  \\\\\n",
       "\\midrule\n",
       "\\bottomrule\n",
       "\\end{tabular}\n",
       "\\begin{tabular}{lrrrrr}\n",
       "\\textbf{Odds ratio}     &             1.829 &             &        1.322 &        2.532 &            0.000  \\\\\n",
       "\\textbf{Log odds ratio} &             0.604 &       0.166 &        0.279 &        0.929 &            0.000  \\\\\n",
       "\\textbf{Risk ratio}     &             1.635 &             &        1.270 &        2.106 &            0.000  \\\\\n",
       "\\textbf{Log risk ratio} &             0.492 &       0.129 &        0.239 &        0.745 &            0.000  \\\\\n",
       "\\bottomrule\n",
       "\\end{tabular}\n",
       "\\end{center}"
      ],
      "text/plain": [
       "<class 'statsmodels.iolib.table.SimpleTable'>"
      ]
     },
     "execution_count": 58,
     "metadata": {},
     "output_type": "execute_result"
    }
   ],
   "source": [
    "#CRP Moderate elevation: Normal(Reference)\n",
    "CRPNoM_OR = sm.stats.Table2x2(np.array([[55, 180], \n",
    "                                    [313, 1874]]))\n",
    "CRPNoM_OR.summary(method='normal')"
   ]
  },
  {
   "cell_type": "code",
   "execution_count": 59,
   "id": "4c7ebdc0",
   "metadata": {},
   "outputs": [
    {
     "name": "stdout",
     "output_type": "stream",
     "text": [
      "-17.300000000000004 -18.56535009370813 -16.03464990629188\n"
     ]
    }
   ],
   "source": [
    "#Age: Difference between means (df = 521)\n",
    "m = stats.t(521).ppf(.975)*np.sqrt(((16.9*16.9)/2828)+ ((12.8*12.8)/522))\n",
    "diff = (46.3-63.6)\n",
    "l=diff-m\n",
    "u=diff+m\n",
    "print(diff,l, u)"
   ]
  },
  {
   "cell_type": "markdown",
   "id": "14586c73",
   "metadata": {},
   "source": [
    "# Tests of Significance"
   ]
  },
  {
   "cell_type": "code",
   "execution_count": 60,
   "id": "ce52f18f",
   "metadata": {},
   "outputs": [
    {
     "data": {
      "text/plain": [
       "Chi2ContingencyResult(statistic=43.444379787721275, pvalue=4.3618261024688005e-11, dof=1, expected_freq=array([[1387.83044776,  256.16955224],\n",
       "       [1440.16955224,  265.83044776]]))"
      ]
     },
     "execution_count": 60,
     "metadata": {},
     "output_type": "execute_result"
    }
   ],
   "source": [
    "# Gender\n",
    "table_Gender = np.array([[1457, 187], [1371, 335]])\n",
    "stats.chi2_contingency(table_Gender,\n",
    "                      correction=False)"
   ]
  },
  {
   "cell_type": "code",
   "execution_count": 61,
   "id": "45300dab",
   "metadata": {},
   "outputs": [
    {
     "data": {
      "text/plain": [
       "Chi2ContingencyResult(statistic=136.81928678509885, pvalue=8.483919330612586e-28, dof=5, expected_freq=array([[ 382.41313433,   70.58686567],\n",
       "       [ 244.8119403 ,   45.1880597 ],\n",
       "       [1041.71701493,  192.28298507],\n",
       "       [ 579.95104478,  107.04895522],\n",
       "       [ 431.37552239,   79.62447761],\n",
       "       [ 147.73134328,   27.26865672]]))"
      ]
     },
     "execution_count": 61,
     "metadata": {},
     "output_type": "execute_result"
    }
   ],
   "source": [
    "# Race\n",
    "table_Race = np.array([[414, 39], [258, 32], [936, 298], [605, 82], [479, 32], [136, 39]])\n",
    "stats.chi2_contingency(table_Race,\n",
    "                      correction=False)"
   ]
  },
  {
   "cell_type": "code",
   "execution_count": 62,
   "id": "b59466a7",
   "metadata": {
    "scrolled": true
   },
   "outputs": [
    {
     "data": {
      "text/plain": [
       "Chi2ContingencyResult(statistic=14.141736106042206, pvalue=0.006856165139668993, dof=4, expected_freq=array([[175.56989247,  32.43010753],\n",
       "       [313.15591398,  57.84408602],\n",
       "       [665.98387097, 123.01612903],\n",
       "       [933.55913978, 172.44086022],\n",
       "       [737.7311828 , 136.2688172 ]]))"
      ]
     },
     "execution_count": 62,
     "metadata": {},
     "output_type": "execute_result"
    }
   ],
   "source": [
    "# Education Level\n",
    "table_Education = np.array([[188, 20], [316, 55], [656, 133], [909, 197], [757, 117]])\n",
    "stats.chi2_contingency(table_Education,\n",
    "                      correction=False)"
   ]
  },
  {
   "cell_type": "code",
   "execution_count": 63,
   "id": "09423b43",
   "metadata": {},
   "outputs": [
    {
     "data": {
      "text/plain": [
       "Chi2ContingencyResult(statistic=6.144925587551394, pvalue=0.10476827081221377, dof=3, expected_freq=array([[ 486.24716418,   89.75283582],\n",
       "       [ 797.74925373,  147.25074627],\n",
       "       [ 472.74029851,   87.25970149],\n",
       "       [1071.26328358,  197.73671642]]))"
      ]
     },
     "execution_count": 63,
     "metadata": {},
     "output_type": "execute_result"
    }
   ],
   "source": [
    "# Poverty Level\n",
    "table_Poverty = np.array([[504, 72], [783, 162], [475, 85], [1066, 203]])\n",
    "stats.chi2_contingency(table_Poverty,\n",
    "                      correction=False)"
   ]
  },
  {
   "cell_type": "code",
   "execution_count": 64,
   "id": "35a51865",
   "metadata": {},
   "outputs": [
    {
     "data": {
      "text/plain": [
       "Chi2ContingencyResult(statistic=77.35602987218732, pvalue=1.5934980717543982e-17, dof=2, expected_freq=array([[ 710.79880597,  131.20119403],\n",
       "       [1431.72776119,  264.27223881],\n",
       "       [ 685.47343284,  126.52656716]]))"
      ]
     },
     "execution_count": 64,
     "metadata": {},
     "output_type": "execute_result"
    }
   ],
   "source": [
    "# Waist Level\n",
    "table_Waist = np.array([[775,67], [1433, 263], [620, 192]])\n",
    "stats.chi2_contingency(table_Waist,\n",
    "                      correction=False)"
   ]
  },
  {
   "cell_type": "code",
   "execution_count": 65,
   "id": "be08070e",
   "metadata": {},
   "outputs": [
    {
     "data": {
      "text/plain": [
       "Chi2ContingencyResult(statistic=41.02609236181532, pvalue=2.6546003425819936e-08, dof=4, expected_freq=array([[ 68.37850746,  12.62149254],\n",
       "       [715.01970149, 131.98029851],\n",
       "       [908.33671642, 167.66328358],\n",
       "       [917.62268657, 169.37731343],\n",
       "       [218.64238806,  40.35761194]]))"
      ]
     },
     "execution_count": 65,
     "metadata": {},
     "output_type": "execute_result"
    }
   ],
   "source": [
    "# Weight Level\n",
    "table_Weight = np.array([[75, 6], [756, 91], [912, 164],[890, 197],[195, 64]])\n",
    "stats.chi2_contingency(table_Weight,\n",
    "                      correction=False)"
   ]
  },
  {
   "cell_type": "code",
   "execution_count": 66,
   "id": "dbe5ff18",
   "metadata": {},
   "outputs": [
    {
     "data": {
      "text/plain": [
       "Chi2ContingencyResult(statistic=175.77774818698413, pvalue=7.198117417003115e-38, dof=3, expected_freq=array([[ 127.47104478,   23.52895522],\n",
       "       [ 686.31761194,  126.68238806],\n",
       "       [1038.34029851,  191.65970149],\n",
       "       [ 975.87104478,  180.12895522]]))"
      ]
     },
     "execution_count": 66,
     "metadata": {},
     "output_type": "execute_result"
    }
   ],
   "source": [
    "# VitaminD Level\n",
    "table_VitD = np.array([[144, 7], [746, 67], [1092, 138],[846, 310]])\n",
    "stats.chi2_contingency(table_VitD,\n",
    "                      correction=False)"
   ]
  },
  {
   "cell_type": "code",
   "execution_count": 67,
   "id": "94c8f931",
   "metadata": {},
   "outputs": [
    {
     "data": {
      "text/plain": [
       "Chi2ContingencyResult(statistic=14.402605324568757, pvalue=0.0007456138923786516, dof=2, expected_freq=array([[1845.91425157,  341.08574843],\n",
       "       [ 780.73648043,  144.26351957],\n",
       "       [ 198.349268  ,   36.650732  ]]))"
      ]
     },
     "execution_count": 67,
     "metadata": {},
     "output_type": "execute_result"
    }
   ],
   "source": [
    "# CRP Level\n",
    "table_CRP = np.array([[1874, 313], [771, 154], [180, 55]])\n",
    "stats.chi2_contingency(table_CRP,\n",
    "                      correction=False)"
   ]
  },
  {
   "cell_type": "code",
   "execution_count": 68,
   "id": "f6347616",
   "metadata": {},
   "outputs": [
    {
     "data": {
      "text/plain": [
       "Ttest_indResult(statistic=-26.859230072037803, pvalue=5.901086873668581e-117)"
      ]
     },
     "execution_count": 68,
     "metadata": {},
     "output_type": "execute_result"
    }
   ],
   "source": [
    "#Age\n",
    "stats.ttest_ind_from_stats(mean1=46.3, std1=16.9, nobs1=2828,\n",
    "                           mean2=63.6, std2=12.8, nobs2=522,\n",
    "                           equal_var=False, \n",
    "                           alternative='two-sided')"
   ]
  },
  {
   "cell_type": "markdown",
   "id": "af5034b5",
   "metadata": {},
   "source": [
    "# Table 2: Logistic Regression"
   ]
  },
  {
   "cell_type": "code",
   "execution_count": 69,
   "id": "127095de",
   "metadata": {},
   "outputs": [],
   "source": [
    "# Logistic Regression\n",
    "# Using statsmodel package (compatible with R software)\n",
    "import statsmodels.formula.api as smf # similar to R formula\n",
    "import statsmodels.api as sm          # similar to sklear"
   ]
  },
  {
   "cell_type": "code",
   "execution_count": 70,
   "id": "74edc9ed",
   "metadata": {
    "scrolled": true
   },
   "outputs": [],
   "source": [
    "OA_General = OA_General.astype('int64')"
   ]
  },
  {
   "cell_type": "code",
   "execution_count": 80,
   "id": "677d3cb6",
   "metadata": {},
   "outputs": [],
   "source": [
    "OA_General['Race/Hispanic origin w/ NH Asian'] = pd.Categorical(OA_General['Race/Hispanic origin w/ NH Asian'],categories=[3,1,2,4,6,7],ordered=True)\n",
    "OA_General['Education level - Adults 20+'] = pd.Categorical(OA_General['Education level - Adults 20+'],categories=[4,1,2,3,5],ordered=True)\n",
    "OA_General['Poverty Level'] = pd.Categorical(OA_General['Poverty Level'],categories=[3,1,2,4],ordered=True)\n",
    "OA_General['Weight Level'] = pd.Categorical(OA_General['Weight Level'],categories=[2,1,3,4,5],ordered=True)\n",
    "OA_General['VitaminD Level'] = pd.Categorical(OA_General['VitaminD Level'],categories=[4,1,2,3],ordered=True)\n",
    "OA_General['CRP Level'] = pd.Categorical(OA_General['CRP Level'],categories=[1,2,3],ordered=True)"
   ]
  },
  {
   "cell_type": "code",
   "execution_count": 81,
   "id": "d48cc253",
   "metadata": {
    "scrolled": true
   },
   "outputs": [],
   "source": [
    "filter_OAGeneral = OA_General[(OA_General['Education level - Adults 20+'].isin([1,2,3,4,5])) & (OA_General['CRP Level'].isin([1,2,3]))]"
   ]
  },
  {
   "cell_type": "code",
   "execution_count": 82,
   "id": "1b99d9d1",
   "metadata": {
    "scrolled": false
   },
   "outputs": [
    {
     "data": {
      "text/plain": [
       "Index(['SEQN', 'Gender', 'Age in years at screening',\n",
       "       'Race/Hispanic origin w/ NH Asian', 'Education level - Adults 20+',\n",
       "       'Ratio of family income to poverty', 'Body Mass Index (kg/m**2)',\n",
       "       'Waist Circumference (cm)', 'Vitamin D Level (nmol/L)',\n",
       "       'HS C-Reactive Protein (mg/L)', 'Osteoarthritis Status',\n",
       "       'Poverty Level', 'VitaminD Level', 'CRP Level', 'Weight Level',\n",
       "       'Waistline Level'],\n",
       "      dtype='object')"
      ]
     },
     "execution_count": 82,
     "metadata": {},
     "output_type": "execute_result"
    }
   ],
   "source": [
    "filter_OAGeneral.columns"
   ]
  },
  {
   "cell_type": "code",
   "execution_count": 83,
   "id": "d3382cab",
   "metadata": {
    "scrolled": true
   },
   "outputs": [
    {
     "name": "stdout",
     "output_type": "stream",
     "text": [
      "Optimization terminated successfully.\n",
      "         Current function value: 0.327370\n",
      "         Iterations 7\n",
      "                               Logit Regression Results                               \n",
      "======================================================================================\n",
      "Dep. Variable:     Q('Osteoarthritis Status')   No. Observations:                 3345\n",
      "Model:                                  Logit   Df Residuals:                     3321\n",
      "Method:                                   MLE   Df Model:                           23\n",
      "Date:                        Tue, 05 Dec 2023   Pseudo R-squ.:                  0.2441\n",
      "Time:                                02:45:13   Log-Likelihood:                -1095.1\n",
      "converged:                               True   LL-Null:                       -1448.6\n",
      "Covariance Type:                    nonrobust   LLR p-value:                1.403e-134\n",
      "=================================================================================================================\n",
      "                                                    coef    std err          z      P>|z|      [0.025      0.975]\n",
      "-----------------------------------------------------------------------------------------------------------------\n",
      "Intercept                                        -5.7051      0.350    -16.296      0.000      -6.391      -5.019\n",
      "C(Gender)[T.2]                                    0.8187      0.114      7.153      0.000       0.594       1.043\n",
      "C(Q('Race/Hispanic origin w/ NH Asian'))[T.1]    -0.6044      0.208     -2.909      0.004      -1.012      -0.197\n",
      "C(Q('Race/Hispanic origin w/ NH Asian'))[T.2]    -0.6011      0.221     -2.715      0.007      -1.035      -0.167\n",
      "C(Q('Race/Hispanic origin w/ NH Asian'))[T.4]    -0.4620      0.157     -2.949      0.003      -0.769      -0.155\n",
      "C(Q('Race/Hispanic origin w/ NH Asian'))[T.6]    -0.9921      0.216     -4.587      0.000      -1.416      -0.568\n",
      "C(Q('Race/Hispanic origin w/ NH Asian'))[T.7]     0.6596      0.224      2.940      0.003       0.220       1.099\n",
      "C(Q('Education level - Adults 20+'))[T.1]        -0.7471      0.284     -2.629      0.009      -1.304      -0.190\n",
      "C(Q('Education level - Adults 20+'))[T.2]        -0.2517      0.195     -1.288      0.198      -0.635       0.131\n",
      "C(Q('Education level - Adults 20+'))[T.3]        -0.0881      0.144     -0.611      0.541      -0.371       0.195\n",
      "C(Q('Education level - Adults 20+'))[T.5]        -0.1724      0.152     -1.136      0.256      -0.470       0.125\n",
      "C(Q('Poverty Level'))[T.1]                        0.2184      0.200      1.091      0.275      -0.174       0.611\n",
      "C(Q('Poverty Level'))[T.2]                        0.1651      0.169      0.974      0.330      -0.167       0.497\n",
      "C(Q('Poverty Level'))[T.4]                        0.1040      0.168      0.620      0.535      -0.224       0.432\n",
      "C(Q('VitaminD Level'))[T.1]                      -1.3832      0.430     -3.217      0.001      -2.226      -0.540\n",
      "C(Q('VitaminD Level'))[T.2]                      -0.6602      0.170     -3.892      0.000      -0.993      -0.328\n",
      "C(Q('VitaminD Level'))[T.3]                      -0.4711      0.129     -3.644      0.000      -0.725      -0.218\n",
      "C(Q('CRP Level'))[T.2]                           -0.0472      0.129     -0.364      0.716      -0.301       0.207\n",
      "C(Q('CRP Level'))[T.3]                            0.3315      0.200      1.658      0.097      -0.060       0.723\n",
      "C(Q('Weight Level'))[T.1]                        -0.1415      0.485     -0.292      0.771      -1.092       0.809\n",
      "C(Q('Weight Level'))[T.3]                         0.3136      0.159      1.969      0.049       0.001       0.626\n",
      "C(Q('Weight Level'))[T.4]                         0.6193      0.162      3.826      0.000       0.302       0.937\n",
      "C(Q('Weight Level'))[T.5]                         1.3004      0.226      5.745      0.000       0.857       1.744\n",
      "Q('Age in years at screening')                    0.0667      0.004     16.630      0.000       0.059       0.075\n",
      "=================================================================================================================\n"
     ]
    }
   ],
   "source": [
    "results=smf.logit(\"Q('Osteoarthritis Status') ~ Q('Age in years at screening') + C(Gender) + C(Q('Race/Hispanic origin w/ NH Asian')) + C(Q('Education level - Adults 20+')) + C(Q('Poverty Level')) + C(Q('VitaminD Level')) + C(Q('CRP Level')) + C(Q('Weight Level'))\",\n",
    "                  data = filter_OAGeneral).fit()\n",
    "print(results.summary())"
   ]
  },
  {
   "cell_type": "code",
   "execution_count": 85,
   "id": "ba769016",
   "metadata": {},
   "outputs": [
    {
     "name": "stdout",
     "output_type": "stream",
     "text": [
      "                                                                                              \\\n",
      "Intercept                                                                          Intercept   \n",
      "C(Gender)[T.2]                                                                C(Gender)[T.2]   \n",
      "C(Q('Race/Hispanic origin w/ NH Asian'))[T.1]  C(Q('Race/Hispanic origin w/ NH Asian'))[T.1]   \n",
      "C(Q('Race/Hispanic origin w/ NH Asian'))[T.2]  C(Q('Race/Hispanic origin w/ NH Asian'))[T.2]   \n",
      "C(Q('Race/Hispanic origin w/ NH Asian'))[T.4]  C(Q('Race/Hispanic origin w/ NH Asian'))[T.4]   \n",
      "C(Q('Race/Hispanic origin w/ NH Asian'))[T.6]  C(Q('Race/Hispanic origin w/ NH Asian'))[T.6]   \n",
      "C(Q('Race/Hispanic origin w/ NH Asian'))[T.7]  C(Q('Race/Hispanic origin w/ NH Asian'))[T.7]   \n",
      "C(Q('Education level - Adults 20+'))[T.1]          C(Q('Education level - Adults 20+'))[T.1]   \n",
      "C(Q('Education level - Adults 20+'))[T.2]          C(Q('Education level - Adults 20+'))[T.2]   \n",
      "C(Q('Education level - Adults 20+'))[T.3]          C(Q('Education level - Adults 20+'))[T.3]   \n",
      "C(Q('Education level - Adults 20+'))[T.5]          C(Q('Education level - Adults 20+'))[T.5]   \n",
      "C(Q('Poverty Level'))[T.1]                                        C(Q('Poverty Level'))[T.1]   \n",
      "C(Q('Poverty Level'))[T.2]                                        C(Q('Poverty Level'))[T.2]   \n",
      "C(Q('Poverty Level'))[T.4]                                        C(Q('Poverty Level'))[T.4]   \n",
      "C(Q('VitaminD Level'))[T.1]                                      C(Q('VitaminD Level'))[T.1]   \n",
      "C(Q('VitaminD Level'))[T.2]                                      C(Q('VitaminD Level'))[T.2]   \n",
      "C(Q('VitaminD Level'))[T.3]                                      C(Q('VitaminD Level'))[T.3]   \n",
      "C(Q('CRP Level'))[T.2]                                                C(Q('CRP Level'))[T.2]   \n",
      "C(Q('CRP Level'))[T.3]                                                C(Q('CRP Level'))[T.3]   \n",
      "C(Q('Weight Level'))[T.1]                                          C(Q('Weight Level'))[T.1]   \n",
      "C(Q('Weight Level'))[T.3]                                          C(Q('Weight Level'))[T.3]   \n",
      "C(Q('Weight Level'))[T.4]                                          C(Q('Weight Level'))[T.4]   \n",
      "C(Q('Weight Level'))[T.5]                                          C(Q('Weight Level'))[T.5]   \n",
      "Q('Age in years at screening')                                Q('Age in years at screening')   \n",
      "\n",
      "                                                   OR  Lower CI  Upper CI  \\\n",
      "Intercept                                      0.0033  0.001676    0.0066   \n",
      "C(Gender)[T.2]                                 2.2675  1.811859    2.8378   \n",
      "C(Q('Race/Hispanic origin w/ NH Asian'))[T.1]  0.5464  0.363630    0.8210   \n",
      "C(Q('Race/Hispanic origin w/ NH Asian'))[T.2]  0.5482  0.355243    0.8460   \n",
      "C(Q('Race/Hispanic origin w/ NH Asian'))[T.4]  0.6300  0.463467    0.8564   \n",
      "C(Q('Race/Hispanic origin w/ NH Asian'))[T.6]  0.3708  0.242666    0.5666   \n",
      "C(Q('Race/Hispanic origin w/ NH Asian'))[T.7]  1.9340  1.245945    3.0021   \n",
      "C(Q('Education level - Adults 20+'))[T.1]      0.4738  0.271428    0.8269   \n",
      "C(Q('Education level - Adults 20+'))[T.2]      0.7775  0.530061    1.1403   \n",
      "C(Q('Education level - Adults 20+'))[T.3]      0.9157  0.690220    1.2147   \n",
      "C(Q('Education level - Adults 20+'))[T.5]      0.8417  0.625099    1.1332   \n",
      "C(Q('Poverty Level'))[T.1]                     1.2441  0.840352    1.8419   \n",
      "C(Q('Poverty Level'))[T.2]                     1.1795  0.846149    1.6441   \n",
      "C(Q('Poverty Level'))[T.4]                     1.1096  0.798953    1.5409   \n",
      "C(Q('VitaminD Level'))[T.1]                    0.2508  0.107963    0.5825   \n",
      "C(Q('VitaminD Level'))[T.2]                    0.5168  0.370612    0.7205   \n",
      "C(Q('VitaminD Level'))[T.3]                    0.6243  0.484531    0.8044   \n",
      "C(Q('CRP Level'))[T.2]                         0.9539  0.740135    1.2295   \n",
      "C(Q('CRP Level'))[T.3]                         1.3930  0.941337    2.0614   \n",
      "C(Q('Weight Level'))[T.1]                      0.8681  0.335419    2.2466   \n",
      "C(Q('Weight Level'))[T.3]                      1.3683  1.001416    1.8695   \n",
      "C(Q('Weight Level'))[T.4]                      1.8577  1.352631    2.5514   \n",
      "C(Q('Weight Level'))[T.5]                      3.6709  2.355593    5.7205   \n",
      "Q('Age in years at screening')                 1.0689  1.060564    1.0774   \n",
      "\n",
      "                                               P value   Z stat  \n",
      "Intercept                                       0.0000 -16.2955  \n",
      "C(Gender)[T.2]                                  0.0000   7.1526  \n",
      "C(Q('Race/Hispanic origin w/ NH Asian'))[T.1]   0.0036  -2.9094  \n",
      "C(Q('Race/Hispanic origin w/ NH Asian'))[T.2]   0.0066  -2.7154  \n",
      "C(Q('Race/Hispanic origin w/ NH Asian'))[T.4]   0.0032  -2.9492  \n",
      "C(Q('Race/Hispanic origin w/ NH Asian'))[T.6]   0.0000  -4.5866  \n",
      "C(Q('Race/Hispanic origin w/ NH Asian'))[T.7]   0.0033   2.9401  \n",
      "C(Q('Education level - Adults 20+'))[T.1]       0.0086  -2.6287  \n",
      "C(Q('Education level - Adults 20+'))[T.2]       0.1977  -1.2881  \n",
      "C(Q('Education level - Adults 20+'))[T.3]       0.5412  -0.6110  \n",
      "C(Q('Education level - Adults 20+'))[T.5]       0.2560  -1.1358  \n",
      "C(Q('Poverty Level'))[T.1]                      0.2752   1.0911  \n",
      "C(Q('Poverty Level'))[T.2]                      0.3300   0.9741  \n",
      "C(Q('Poverty Level'))[T.4]                      0.5350   0.6205  \n",
      "C(Q('VitaminD Level'))[T.1]                     0.0013  -3.2169  \n",
      "C(Q('VitaminD Level'))[T.2]                     0.0001  -3.8924  \n",
      "C(Q('VitaminD Level'))[T.3]                     0.0003  -3.6438  \n",
      "C(Q('CRP Level'))[T.2]                          0.7157  -0.3642  \n",
      "C(Q('CRP Level'))[T.3]                          0.0974   1.6576  \n",
      "C(Q('Weight Level'))[T.1]                       0.7706  -0.2916  \n",
      "C(Q('Weight Level'))[T.3]                       0.0490   1.9688  \n",
      "C(Q('Weight Level'))[T.4]                       0.0001   3.8258  \n",
      "C(Q('Weight Level'))[T.5]                       0.0000   5.7453  \n",
      "Q('Age in years at screening')                  0.0000  16.6302  \n"
     ]
    }
   ],
   "source": [
    "odds_ratios_adjusted = pd.DataFrame(\n",
    "    {\n",
    "        \" \": results.params.index,   \n",
    "        \"OR\": round(np.exp(results.params),4),\n",
    "        \"Lower CI\": np.exp(results.conf_int()[0]),\n",
    "        \"Upper CI\": round(np.exp(results.conf_int()[1]),4),\n",
    "        \"P value\": round(results.pvalues,4),\n",
    "        \"Z stat\": round(results.tvalues,4)\n",
    "    }\n",
    ")\n",
    "\n",
    "\n",
    "print(odds_ratios_adjusted)\n",
    "# Export the oddsratio DataFrame to an Excel file\n",
    "odds_ratios_adjusted.to_excel('oddsratios_adjusted_OA_Gen.xlsx', index=False)"
   ]
  }
 ],
 "metadata": {
  "kernelspec": {
   "display_name": "Python 3 (ipykernel)",
   "language": "python",
   "name": "python3"
  },
  "language_info": {
   "codemirror_mode": {
    "name": "ipython",
    "version": 3
   },
   "file_extension": ".py",
   "mimetype": "text/x-python",
   "name": "python",
   "nbconvert_exporter": "python",
   "pygments_lexer": "ipython3",
   "version": "3.11.5"
  }
 },
 "nbformat": 4,
 "nbformat_minor": 5
}
